{
 "cells": [
  {
   "cell_type": "code",
   "execution_count": 1,
   "id": "52716e4b",
   "metadata": {
    "_cell_guid": "b1076dfc-b9ad-4769-8c92-a6c4dae69d19",
    "_uuid": "8f2839f25d086af736a60e9eeb907d3b93b6e0e5",
    "execution": {
     "iopub.execute_input": "2024-10-28T19:26:01.513933Z",
     "iopub.status.busy": "2024-10-28T19:26:01.513011Z",
     "iopub.status.idle": "2024-10-28T19:26:02.256263Z",
     "shell.execute_reply": "2024-10-28T19:26:02.255198Z"
    },
    "papermill": {
     "duration": 0.767485,
     "end_time": "2024-10-28T19:26:02.258603",
     "exception": false,
     "start_time": "2024-10-28T19:26:01.491118",
     "status": "completed"
    },
    "tags": []
   },
   "outputs": [
    {
     "name": "stdout",
     "output_type": "stream",
     "text": [
      "/kaggle/input/llama-2/pytorch/7b-chat-hf/1/model.safetensors.index.json\n",
      "/kaggle/input/llama-2/pytorch/7b-chat-hf/1/config.json\n",
      "/kaggle/input/llama-2/pytorch/7b-chat-hf/1/model-00001-of-00002.safetensors\n",
      "/kaggle/input/llama-2/pytorch/7b-chat-hf/1/model-00002-of-00002.safetensors\n",
      "/kaggle/input/llama-2/pytorch/7b-chat-hf/1/pytorch_model-00002-of-00002.bin\n",
      "/kaggle/input/llama-2/pytorch/7b-chat-hf/1/README.md\n",
      "/kaggle/input/llama-2/pytorch/7b-chat-hf/1/USE_POLICY.md\n",
      "/kaggle/input/llama-2/pytorch/7b-chat-hf/1/tokenizer.json\n",
      "/kaggle/input/llama-2/pytorch/7b-chat-hf/1/tokenizer_config.json\n",
      "/kaggle/input/llama-2/pytorch/7b-chat-hf/1/pytorch_model.bin.index.json\n",
      "/kaggle/input/llama-2/pytorch/7b-chat-hf/1/LICENSE.txt\n",
      "/kaggle/input/llama-2/pytorch/7b-chat-hf/1/pytorch_model-00001-of-00002.bin\n",
      "/kaggle/input/llama-2/pytorch/7b-chat-hf/1/special_tokens_map.json\n",
      "/kaggle/input/llama-2/pytorch/7b-chat-hf/1/.gitattributes\n",
      "/kaggle/input/llama-2/pytorch/7b-chat-hf/1/tokenizer.model\n",
      "/kaggle/input/llama-2/pytorch/7b-chat-hf/1/added_tokens.json\n",
      "/kaggle/input/llama-2/pytorch/7b-chat-hf/1/generation_config.json\n",
      "/kaggle/input/uddipok/RC_Dataset.csv\n"
     ]
    }
   ],
   "source": [
    "# This Python 3 environment comes with many helpful analytics libraries installed\n",
    "# It is defined by the kaggle/python Docker image: https://github.com/kaggle/docker-python\n",
    "# For example, here's several helpful packages to load\n",
    "\n",
    "import numpy as np # linear algebra\n",
    "import pandas as pd # data processing, CSV file I/O (e.g. pd.read_csv)\n",
    "\n",
    "# Input data files are available in the read-only \"../input/\" directory\n",
    "# For example, running this (by clicking run or pressing Shift+Enter) will list all files under the input directory\n",
    "\n",
    "import os\n",
    "for dirname, _, filenames in os.walk('/kaggle/input'):\n",
    "    for filename in filenames:\n",
    "        print(os.path.join(dirname, filename))\n",
    "\n",
    "# You can write up to 20GB to the current directory (/kaggle/working/) that gets preserved as output when you create a version using \"Save & Run All\" \n",
    "# You can also write temporary files to /kaggle/temp/, but they won't be saved outside of the current session"
   ]
  },
  {
   "cell_type": "code",
   "execution_count": 2,
   "id": "4a02f12b",
   "metadata": {
    "execution": {
     "iopub.execute_input": "2024-10-28T19:26:02.299837Z",
     "iopub.status.busy": "2024-10-28T19:26:02.299308Z",
     "iopub.status.idle": "2024-10-28T19:28:20.233679Z",
     "shell.execute_reply": "2024-10-28T19:28:20.232324Z"
    },
    "papermill": {
     "duration": 137.957792,
     "end_time": "2024-10-28T19:28:20.236220",
     "exception": false,
     "start_time": "2024-10-28T19:26:02.278428",
     "status": "completed"
    },
    "tags": []
   },
   "outputs": [
    {
     "name": "stdout",
     "output_type": "stream",
     "text": [
      "Collecting transformers==4.33.1\r\n",
      "  Obtaining dependency information for transformers==4.33.1 from https://files.pythonhosted.org/packages/13/30/54b59e73400df3de506ad8630284e9fd63f4b94f735423d55fc342181037/transformers-4.33.1-py3-none-any.whl.metadata\r\n",
      "  Downloading transformers-4.33.1-py3-none-any.whl.metadata (119 kB)\r\n",
      "\u001b[2K     \u001b[90m━━━━━━━━━━━━━━━━━━━━━━━━━━━━━━━━━━━━━━━\u001b[0m \u001b[32m119.9/119.9 kB\u001b[0m \u001b[31m5.3 MB/s\u001b[0m eta \u001b[36m0:00:00\u001b[0m\r\n",
      "\u001b[?25hRequirement already satisfied: filelock in /opt/conda/lib/python3.10/site-packages (from transformers==4.33.1) (3.12.2)\r\n",
      "Requirement already satisfied: huggingface-hub<1.0,>=0.15.1 in /opt/conda/lib/python3.10/site-packages (from transformers==4.33.1) (0.19.4)\r\n",
      "Requirement already satisfied: numpy>=1.17 in /opt/conda/lib/python3.10/site-packages (from transformers==4.33.1) (1.24.3)\r\n",
      "Requirement already satisfied: packaging>=20.0 in /opt/conda/lib/python3.10/site-packages (from transformers==4.33.1) (21.3)\r\n",
      "Requirement already satisfied: pyyaml>=5.1 in /opt/conda/lib/python3.10/site-packages (from transformers==4.33.1) (6.0.1)\r\n",
      "Requirement already satisfied: regex!=2019.12.17 in /opt/conda/lib/python3.10/site-packages (from transformers==4.33.1) (2023.8.8)\r\n",
      "Requirement already satisfied: requests in /opt/conda/lib/python3.10/site-packages (from transformers==4.33.1) (2.31.0)\r\n",
      "Collecting tokenizers!=0.11.3,<0.14,>=0.11.1 (from transformers==4.33.1)\r\n",
      "  Obtaining dependency information for tokenizers!=0.11.3,<0.14,>=0.11.1 from https://files.pythonhosted.org/packages/94/60/ff26cce378023624ffcad91edaa4871f561d6ba7295185c45037ddba80e2/tokenizers-0.13.3-cp310-cp310-manylinux_2_17_x86_64.manylinux2014_x86_64.whl.metadata\r\n",
      "  Downloading tokenizers-0.13.3-cp310-cp310-manylinux_2_17_x86_64.manylinux2014_x86_64.whl.metadata (6.7 kB)\r\n",
      "Requirement already satisfied: safetensors>=0.3.1 in /opt/conda/lib/python3.10/site-packages (from transformers==4.33.1) (0.4.1)\r\n",
      "Requirement already satisfied: tqdm>=4.27 in /opt/conda/lib/python3.10/site-packages (from transformers==4.33.1) (4.66.1)\r\n",
      "Requirement already satisfied: fsspec>=2023.5.0 in /opt/conda/lib/python3.10/site-packages (from huggingface-hub<1.0,>=0.15.1->transformers==4.33.1) (2023.12.2)\r\n",
      "Requirement already satisfied: typing-extensions>=3.7.4.3 in /opt/conda/lib/python3.10/site-packages (from huggingface-hub<1.0,>=0.15.1->transformers==4.33.1) (4.5.0)\r\n",
      "Requirement already satisfied: pyparsing!=3.0.5,>=2.0.2 in /opt/conda/lib/python3.10/site-packages (from packaging>=20.0->transformers==4.33.1) (3.0.9)\r\n",
      "Requirement already satisfied: charset-normalizer<4,>=2 in /opt/conda/lib/python3.10/site-packages (from requests->transformers==4.33.1) (3.2.0)\r\n",
      "Requirement already satisfied: idna<4,>=2.5 in /opt/conda/lib/python3.10/site-packages (from requests->transformers==4.33.1) (3.4)\r\n",
      "Requirement already satisfied: urllib3<3,>=1.21.1 in /opt/conda/lib/python3.10/site-packages (from requests->transformers==4.33.1) (1.26.15)\r\n",
      "Requirement already satisfied: certifi>=2017.4.17 in /opt/conda/lib/python3.10/site-packages (from requests->transformers==4.33.1) (2023.11.17)\r\n",
      "Downloading transformers-4.33.1-py3-none-any.whl (7.6 MB)\r\n",
      "\u001b[2K   \u001b[90m━━━━━━━━━━━━━━━━━━━━━━━━━━━━━━━━━━━━━━━━\u001b[0m \u001b[32m7.6/7.6 MB\u001b[0m \u001b[31m71.1 MB/s\u001b[0m eta \u001b[36m0:00:00\u001b[0m\r\n",
      "\u001b[?25hDownloading tokenizers-0.13.3-cp310-cp310-manylinux_2_17_x86_64.manylinux2014_x86_64.whl (7.8 MB)\r\n",
      "\u001b[2K   \u001b[90m━━━━━━━━━━━━━━━━━━━━━━━━━━━━━━━━━━━━━━━━\u001b[0m \u001b[32m7.8/7.8 MB\u001b[0m \u001b[31m86.8 MB/s\u001b[0m eta \u001b[36m0:00:00\u001b[0m\r\n",
      "\u001b[?25hInstalling collected packages: tokenizers, transformers\r\n",
      "  Attempting uninstall: tokenizers\r\n",
      "    Found existing installation: tokenizers 0.15.0\r\n",
      "    Uninstalling tokenizers-0.15.0:\r\n",
      "      Successfully uninstalled tokenizers-0.15.0\r\n",
      "  Attempting uninstall: transformers\r\n",
      "    Found existing installation: transformers 4.36.0\r\n",
      "    Uninstalling transformers-4.36.0:\r\n",
      "      Successfully uninstalled transformers-4.36.0\r\n",
      "Successfully installed tokenizers-0.13.3 transformers-4.33.1\r\n",
      "Collecting evaluate\r\n",
      "  Obtaining dependency information for evaluate from https://files.pythonhosted.org/packages/a2/e7/cbca9e2d2590eb9b5aa8f7ebabe1beb1498f9462d2ecede5c9fd9735faaf/evaluate-0.4.3-py3-none-any.whl.metadata\r\n",
      "  Downloading evaluate-0.4.3-py3-none-any.whl.metadata (9.2 kB)\r\n",
      "Requirement already satisfied: datasets>=2.0.0 in /opt/conda/lib/python3.10/site-packages (from evaluate) (2.1.0)\r\n",
      "Requirement already satisfied: numpy>=1.17 in /opt/conda/lib/python3.10/site-packages (from evaluate) (1.24.3)\r\n",
      "Requirement already satisfied: dill in /opt/conda/lib/python3.10/site-packages (from evaluate) (0.3.7)\r\n",
      "Requirement already satisfied: pandas in /opt/conda/lib/python3.10/site-packages (from evaluate) (2.0.3)\r\n",
      "Requirement already satisfied: requests>=2.19.0 in /opt/conda/lib/python3.10/site-packages (from evaluate) (2.31.0)\r\n",
      "Requirement already satisfied: tqdm>=4.62.1 in /opt/conda/lib/python3.10/site-packages (from evaluate) (4.66.1)\r\n",
      "Requirement already satisfied: xxhash in /opt/conda/lib/python3.10/site-packages (from evaluate) (3.4.1)\r\n",
      "Requirement already satisfied: multiprocess in /opt/conda/lib/python3.10/site-packages (from evaluate) (0.70.15)\r\n",
      "Requirement already satisfied: fsspec[http]>=2021.05.0 in /opt/conda/lib/python3.10/site-packages (from evaluate) (2023.12.2)\r\n",
      "Requirement already satisfied: huggingface-hub>=0.7.0 in /opt/conda/lib/python3.10/site-packages (from evaluate) (0.26.2)\r\n",
      "Requirement already satisfied: packaging in /opt/conda/lib/python3.10/site-packages (from evaluate) (21.3)\r\n",
      "Requirement already satisfied: pyarrow>=5.0.0 in /opt/conda/lib/python3.10/site-packages (from datasets>=2.0.0->evaluate) (11.0.0)\r\n",
      "Requirement already satisfied: aiohttp in /opt/conda/lib/python3.10/site-packages (from datasets>=2.0.0->evaluate) (3.8.5)\r\n",
      "Requirement already satisfied: responses<0.19 in /opt/conda/lib/python3.10/site-packages (from datasets>=2.0.0->evaluate) (0.18.0)\r\n",
      "Requirement already satisfied: filelock in /opt/conda/lib/python3.10/site-packages (from huggingface-hub>=0.7.0->evaluate) (3.12.2)\r\n",
      "Requirement already satisfied: pyyaml>=5.1 in /opt/conda/lib/python3.10/site-packages (from huggingface-hub>=0.7.0->evaluate) (6.0.1)\r\n",
      "Requirement already satisfied: typing-extensions>=3.7.4.3 in /opt/conda/lib/python3.10/site-packages (from huggingface-hub>=0.7.0->evaluate) (4.5.0)\r\n",
      "Requirement already satisfied: pyparsing!=3.0.5,>=2.0.2 in /opt/conda/lib/python3.10/site-packages (from packaging->evaluate) (3.0.9)\r\n",
      "Requirement already satisfied: charset-normalizer<4,>=2 in /opt/conda/lib/python3.10/site-packages (from requests>=2.19.0->evaluate) (3.2.0)\r\n",
      "Requirement already satisfied: idna<4,>=2.5 in /opt/conda/lib/python3.10/site-packages (from requests>=2.19.0->evaluate) (3.4)\r\n",
      "Requirement already satisfied: urllib3<3,>=1.21.1 in /opt/conda/lib/python3.10/site-packages (from requests>=2.19.0->evaluate) (1.26.15)\r\n",
      "Requirement already satisfied: certifi>=2017.4.17 in /opt/conda/lib/python3.10/site-packages (from requests>=2.19.0->evaluate) (2023.11.17)\r\n",
      "Requirement already satisfied: python-dateutil>=2.8.2 in /opt/conda/lib/python3.10/site-packages (from pandas->evaluate) (2.8.2)\r\n",
      "Requirement already satisfied: pytz>=2020.1 in /opt/conda/lib/python3.10/site-packages (from pandas->evaluate) (2023.3)\r\n",
      "Requirement already satisfied: tzdata>=2022.1 in /opt/conda/lib/python3.10/site-packages (from pandas->evaluate) (2023.3)\r\n",
      "Requirement already satisfied: attrs>=17.3.0 in /opt/conda/lib/python3.10/site-packages (from aiohttp->datasets>=2.0.0->evaluate) (23.1.0)\r\n",
      "Requirement already satisfied: multidict<7.0,>=4.5 in /opt/conda/lib/python3.10/site-packages (from aiohttp->datasets>=2.0.0->evaluate) (6.0.4)\r\n",
      "Requirement already satisfied: async-timeout<5.0,>=4.0.0a3 in /opt/conda/lib/python3.10/site-packages (from aiohttp->datasets>=2.0.0->evaluate) (4.0.3)\r\n",
      "Requirement already satisfied: yarl<2.0,>=1.0 in /opt/conda/lib/python3.10/site-packages (from aiohttp->datasets>=2.0.0->evaluate) (1.9.2)\r\n",
      "Requirement already satisfied: frozenlist>=1.1.1 in /opt/conda/lib/python3.10/site-packages (from aiohttp->datasets>=2.0.0->evaluate) (1.4.0)\r\n",
      "Requirement already satisfied: aiosignal>=1.1.2 in /opt/conda/lib/python3.10/site-packages (from aiohttp->datasets>=2.0.0->evaluate) (1.3.1)\r\n",
      "Requirement already satisfied: six>=1.5 in /opt/conda/lib/python3.10/site-packages (from python-dateutil>=2.8.2->pandas->evaluate) (1.16.0)\r\n",
      "Downloading evaluate-0.4.3-py3-none-any.whl (84 kB)\r\n",
      "\u001b[2K   \u001b[90m━━━━━━━━━━━━━━━━━━━━━━━━━━━━━━━━━━━━━━━━\u001b[0m \u001b[32m84.0/84.0 kB\u001b[0m \u001b[31m2.9 MB/s\u001b[0m eta \u001b[36m0:00:00\u001b[0m\r\n",
      "\u001b[?25hInstalling collected packages: evaluate\r\n",
      "Successfully installed evaluate-0.4.3\r\n"
     ]
    }
   ],
   "source": [
    "!pip install -q -U bitsandbytes\n",
    "#!pip install -q -U git+https://github.com/huggingface/transformers.git\n",
    "!pip install transformers==4.33.1\n",
    "!pip install -q -U git+https://github.com/huggingface/peft.git\n",
    "!pip install -q -U git+https://github.com/huggingface/accelerate.git\n",
    "!pip install -q datasets\n",
    "!pip install evaluate\n",
    "!pip install -qqq trl==0.7.1"
   ]
  },
  {
   "cell_type": "code",
   "execution_count": 3,
   "id": "dc440db8",
   "metadata": {
    "execution": {
     "iopub.execute_input": "2024-10-28T19:28:20.284667Z",
     "iopub.status.busy": "2024-10-28T19:28:20.283689Z",
     "iopub.status.idle": "2024-10-28T19:28:39.296060Z",
     "shell.execute_reply": "2024-10-28T19:28:39.295167Z"
    },
    "papermill": {
     "duration": 19.039761,
     "end_time": "2024-10-28T19:28:39.298409",
     "exception": false,
     "start_time": "2024-10-28T19:28:20.258648",
     "status": "completed"
    },
    "tags": []
   },
   "outputs": [
    {
     "name": "stderr",
     "output_type": "stream",
     "text": [
      "/opt/conda/lib/python3.10/site-packages/scipy/__init__.py:146: UserWarning: A NumPy version >=1.16.5 and <1.23.0 is required for this version of SciPy (detected version 1.24.3\n",
      "  warnings.warn(f\"A NumPy version >={np_minversion} and <{np_maxversion}\"\n"
     ]
    }
   ],
   "source": [
    "from torch import cuda\n",
    "import time\n",
    "import evaluate\n",
    "import pandas as pd\n",
    "import numpy as np\n",
    "from datasets import Dataset, load_dataset\n",
    "import random"
   ]
  },
  {
   "cell_type": "code",
   "execution_count": 4,
   "id": "c946fdc1",
   "metadata": {
    "execution": {
     "iopub.execute_input": "2024-10-28T19:28:39.345502Z",
     "iopub.status.busy": "2024-10-28T19:28:39.344521Z",
     "iopub.status.idle": "2024-10-28T19:31:16.593704Z",
     "shell.execute_reply": "2024-10-28T19:31:16.592625Z"
    },
    "papermill": {
     "duration": 157.275542,
     "end_time": "2024-10-28T19:31:16.596189",
     "exception": false,
     "start_time": "2024-10-28T19:28:39.320647",
     "status": "completed"
    },
    "tags": []
   },
   "outputs": [
    {
     "data": {
      "application/vnd.jupyter.widget-view+json": {
       "model_id": "910e45b304f24bf3b5c2ae683acac013",
       "version_major": 2,
       "version_minor": 0
      },
      "text/plain": [
       "Loading checkpoint shards:   0%|          | 0/2 [00:00<?, ?it/s]"
      ]
     },
     "metadata": {},
     "output_type": "display_data"
    },
    {
     "name": "stderr",
     "output_type": "stream",
     "text": [
      "/opt/conda/lib/python3.10/site-packages/transformers/generation/configuration_utils.py:362: UserWarning: `do_sample` is set to `False`. However, `temperature` is set to `0.9` -- this flag is only used in sample-based generation modes. You should set `do_sample=True` or unset `temperature`. This was detected when initializing the generation config instance, which means the corresponding file may hold incorrect parameterization and should be fixed.\n",
      "  warnings.warn(\n",
      "/opt/conda/lib/python3.10/site-packages/transformers/generation/configuration_utils.py:367: UserWarning: `do_sample` is set to `False`. However, `top_p` is set to `0.6` -- this flag is only used in sample-based generation modes. You should set `do_sample=True` or unset `top_p`. This was detected when initializing the generation config instance, which means the corresponding file may hold incorrect parameterization and should be fixed.\n",
      "  warnings.warn(\n"
     ]
    }
   ],
   "source": [
    "import torch\n",
    "from transformers import AutoTokenizer, AutoModelForCausalLM, BitsAndBytesConfig\n",
    "import transformers\n",
    "\n",
    "model_id = '/kaggle/input/llama-2/pytorch/7b-chat-hf/1'\n",
    "\n",
    "bnb_config = BitsAndBytesConfig(\n",
    "    load_in_4bit=True,\n",
    "    bnb_4bit_use_double_quant=True,\n",
    "    bnb_4bit_quant_type=\"nf4\",\n",
    "    bnb_4bit_compute_dtype=torch.bfloat16\n",
    ")\n",
    "\n",
    "model = AutoModelForCausalLM.from_pretrained(model_id, quantization_config=bnb_config, device_map=\"auto\")\n",
    "\n",
    "tokenizer = AutoTokenizer.from_pretrained(model_id)\n",
    "tokenizer.pad_token = tokenizer.eos_token\n",
    "tokenizer.padding_side = \"right\""
   ]
  },
  {
   "cell_type": "markdown",
   "id": "aa9c4792",
   "metadata": {
    "papermill": {
     "duration": 0.021791,
     "end_time": "2024-10-28T19:31:16.640386",
     "exception": false,
     "start_time": "2024-10-28T19:31:16.618595",
     "status": "completed"
    },
    "tags": []
   },
   "source": [
    "### Bangla RQA dataset Loading"
   ]
  },
  {
   "cell_type": "code",
   "execution_count": 5,
   "id": "db49b865",
   "metadata": {
    "execution": {
     "iopub.execute_input": "2024-10-28T19:31:16.687362Z",
     "iopub.status.busy": "2024-10-28T19:31:16.686435Z",
     "iopub.status.idle": "2024-10-28T19:31:24.467130Z",
     "shell.execute_reply": "2024-10-28T19:31:24.466360Z"
    },
    "papermill": {
     "duration": 7.806559,
     "end_time": "2024-10-28T19:31:24.469485",
     "exception": false,
     "start_time": "2024-10-28T19:31:16.662926",
     "status": "completed"
    },
    "tags": []
   },
   "outputs": [
    {
     "data": {
      "application/vnd.jupyter.widget-view+json": {
       "model_id": "817ca5b6ac824b88818fb8357c28a592",
       "version_major": 2,
       "version_minor": 0
      },
      "text/plain": [
       "Downloading builder script:   0%|          | 0.00/6.63k [00:00<?, ?B/s]"
      ]
     },
     "metadata": {},
     "output_type": "display_data"
    },
    {
     "name": "stdout",
     "output_type": "stream",
     "text": [
      "Downloading and preparing dataset bangla_rqa/BanglaRQA to /root/.cache/huggingface/datasets/sartajekram___bangla_rqa/BanglaRQA/0.0.1/d16b566a8f65c0812aa2ca603b7833c4eb3c1476621896496af7f94d7743ec7c...\n"
     ]
    },
    {
     "data": {
      "application/vnd.jupyter.widget-view+json": {
       "model_id": "491c3701770d4eacb3fc9ed18074118f",
       "version_major": 2,
       "version_minor": 0
      },
      "text/plain": [
       "Downloading data files:   0%|          | 0/3 [00:00<?, ?it/s]"
      ]
     },
     "metadata": {},
     "output_type": "display_data"
    },
    {
     "data": {
      "application/vnd.jupyter.widget-view+json": {
       "model_id": "9d43220eb2e74557afe745b5e5408418",
       "version_major": 2,
       "version_minor": 0
      },
      "text/plain": [
       "Downloading data:   0%|          | 0.00/27.8M [00:00<?, ?B/s]"
      ]
     },
     "metadata": {},
     "output_type": "display_data"
    },
    {
     "data": {
      "application/vnd.jupyter.widget-view+json": {
       "model_id": "c631e23d41c546f8aa0f7f9dc1503ca8",
       "version_major": 2,
       "version_minor": 0
      },
      "text/plain": [
       "Downloading data:   0%|          | 0.00/3.49M [00:00<?, ?B/s]"
      ]
     },
     "metadata": {},
     "output_type": "display_data"
    },
    {
     "data": {
      "application/vnd.jupyter.widget-view+json": {
       "model_id": "6caf169528b14e3c83598d8c527fbda7",
       "version_major": 2,
       "version_minor": 0
      },
      "text/plain": [
       "Downloading data:   0%|          | 0.00/3.60M [00:00<?, ?B/s]"
      ]
     },
     "metadata": {},
     "output_type": "display_data"
    },
    {
     "data": {
      "application/vnd.jupyter.widget-view+json": {
       "model_id": "f344c7a6ae7f4c6bb43814de1b4bfbf5",
       "version_major": 2,
       "version_minor": 0
      },
      "text/plain": [
       "Extracting data files:   0%|          | 0/3 [00:00<?, ?it/s]"
      ]
     },
     "metadata": {},
     "output_type": "display_data"
    },
    {
     "data": {
      "application/vnd.jupyter.widget-view+json": {
       "model_id": "1f2c2e57459f422da3bc858264189029",
       "version_major": 2,
       "version_minor": 0
      },
      "text/plain": [
       "Generating train split: 0 examples [00:00, ? examples/s]"
      ]
     },
     "metadata": {},
     "output_type": "display_data"
    },
    {
     "data": {
      "application/vnd.jupyter.widget-view+json": {
       "model_id": "299887d790784f7eac8e1f11d8cf869f",
       "version_major": 2,
       "version_minor": 0
      },
      "text/plain": [
       "Generating validation split: 0 examples [00:00, ? examples/s]"
      ]
     },
     "metadata": {},
     "output_type": "display_data"
    },
    {
     "data": {
      "application/vnd.jupyter.widget-view+json": {
       "model_id": "79f1f099ae424d768cdb80c1dd8f7ff3",
       "version_major": 2,
       "version_minor": 0
      },
      "text/plain": [
       "Generating test split: 0 examples [00:00, ? examples/s]"
      ]
     },
     "metadata": {},
     "output_type": "display_data"
    },
    {
     "name": "stdout",
     "output_type": "stream",
     "text": [
      "Dataset bangla_rqa downloaded and prepared to /root/.cache/huggingface/datasets/sartajekram___bangla_rqa/BanglaRQA/0.0.1/d16b566a8f65c0812aa2ca603b7833c4eb3c1476621896496af7f94d7743ec7c. Subsequent calls will reuse this data.\n"
     ]
    }
   ],
   "source": [
    "from datasets import load_dataset\n",
    "\n",
    "df_train = load_dataset(\"sartajekram/BanglaRQA\", split=\"train\")\n",
    "df_validation = load_dataset(\"sartajekram/BanglaRQA\", split=\"validation\")\n",
    "df_test = load_dataset(\"sartajekram/BanglaRQA\", split=\"test\")\n"
   ]
  },
  {
   "cell_type": "code",
   "execution_count": 6,
   "id": "4a7b5d77",
   "metadata": {
    "execution": {
     "iopub.execute_input": "2024-10-28T19:31:24.519872Z",
     "iopub.status.busy": "2024-10-28T19:31:24.518858Z",
     "iopub.status.idle": "2024-10-28T19:31:27.287191Z",
     "shell.execute_reply": "2024-10-28T19:31:27.286251Z"
    },
    "papermill": {
     "duration": 2.796054,
     "end_time": "2024-10-28T19:31:27.289643",
     "exception": false,
     "start_time": "2024-10-28T19:31:24.493589",
     "status": "completed"
    },
    "tags": []
   },
   "outputs": [
    {
     "data": {
      "text/html": [
       "<div>\n",
       "<style scoped>\n",
       "    .dataframe tbody tr th:only-of-type {\n",
       "        vertical-align: middle;\n",
       "    }\n",
       "\n",
       "    .dataframe tbody tr th {\n",
       "        vertical-align: top;\n",
       "    }\n",
       "\n",
       "    .dataframe thead th {\n",
       "        text-align: right;\n",
       "    }\n",
       "</style>\n",
       "<table border=\"1\" class=\"dataframe\">\n",
       "  <thead>\n",
       "    <tr style=\"text-align: right;\">\n",
       "      <th></th>\n",
       "      <th>passage_id</th>\n",
       "      <th>title</th>\n",
       "      <th>context</th>\n",
       "      <th>question_id</th>\n",
       "      <th>question_text</th>\n",
       "      <th>is_answerable</th>\n",
       "      <th>question_type</th>\n",
       "      <th>answers</th>\n",
       "    </tr>\n",
       "  </thead>\n",
       "  <tbody>\n",
       "    <tr>\n",
       "      <th>0</th>\n",
       "      <td>bn_wiki_2977</td>\n",
       "      <td>ফাজিল পরীক্ষা</td>\n",
       "      <td>ফাজিল পরীক্ষা বাংলাদেশ ও ভারতের আলিয়া মাদ্রাস...</td>\n",
       "      <td>bn_wiki_2977_01</td>\n",
       "      <td>ফাজিল পরীক্ষা বাংলাদেশ ও ভারতের আলিয়া মাদ্রাস...</td>\n",
       "      <td>1</td>\n",
       "      <td>confirmation</td>\n",
       "      <td>{'answer_text': ['হ্যাঁ', 'হ্যাঁ '], 'answer_t...</td>\n",
       "    </tr>\n",
       "    <tr>\n",
       "      <th>1</th>\n",
       "      <td>bn_wiki_2977</td>\n",
       "      <td>ফাজিল পরীক্ষা</td>\n",
       "      <td>ফাজিল পরীক্ষা বাংলাদেশ ও ভারতের আলিয়া মাদ্রাস...</td>\n",
       "      <td>bn_wiki_2977_02</td>\n",
       "      <td>বাংলাদেশের ফাজিল পরীক্ষা ইসলামি আরবি বিশ্ববিদ...</td>\n",
       "      <td>0</td>\n",
       "      <td>causal</td>\n",
       "      <td>{'answer_text': ['', ''], 'answer_type': ['', ...</td>\n",
       "    </tr>\n",
       "    <tr>\n",
       "      <th>2</th>\n",
       "      <td>bn_wiki_2977</td>\n",
       "      <td>ফাজিল পরীক্ষা</td>\n",
       "      <td>ফাজিল পরীক্ষা বাংলাদেশ ও ভারতের আলিয়া মাদ্রাস...</td>\n",
       "      <td>bn_wiki_2977_03</td>\n",
       "      <td>কত সালে ঢাকা আলিয়া মাদ্রাসা ঢাকায় স্থানান্তর...</td>\n",
       "      <td>1</td>\n",
       "      <td>factoid</td>\n",
       "      <td>{'answer_text': ['১৯৪৭', '১৯৪৭'], 'answer_type...</td>\n",
       "    </tr>\n",
       "    <tr>\n",
       "      <th>3</th>\n",
       "      <td>bn_wiki_2977</td>\n",
       "      <td>ফাজিল পরীক্ষা</td>\n",
       "      <td>ফাজিল পরীক্ষা বাংলাদেশ ও ভারতের আলিয়া মাদ্রাস...</td>\n",
       "      <td>bn_wiki_2977_04</td>\n",
       "      <td>মাদ্রাসা-ই-আলিয়া ঢাকায় স্থানান্তরিত হলে কত স...</td>\n",
       "      <td>1</td>\n",
       "      <td>factoid</td>\n",
       "      <td>{'answer_text': ['১৯৪৮', '১৯৪৮'], 'answer_type...</td>\n",
       "    </tr>\n",
       "    <tr>\n",
       "      <th>4</th>\n",
       "      <td>bn_wiki_2977</td>\n",
       "      <td>ফাজিল পরীক্ষা</td>\n",
       "      <td>ফাজিল পরীক্ষা বাংলাদেশ ও ভারতের আলিয়া মাদ্রাস...</td>\n",
       "      <td>bn_wiki_2977_05</td>\n",
       "      <td>মোট কত বছর ব্যাপী আলিয়া মাদ্রাসার পূর্ণাঙ্গ আ...</td>\n",
       "      <td>1</td>\n",
       "      <td>factoid</td>\n",
       "      <td>{'answer_text': ['১৬', '১৬'], 'answer_type': [...</td>\n",
       "    </tr>\n",
       "    <tr>\n",
       "      <th>...</th>\n",
       "      <td>...</td>\n",
       "      <td>...</td>\n",
       "      <td>...</td>\n",
       "      <td>...</td>\n",
       "      <td>...</td>\n",
       "      <td>...</td>\n",
       "      <td>...</td>\n",
       "      <td>...</td>\n",
       "    </tr>\n",
       "    <tr>\n",
       "      <th>11907</th>\n",
       "      <td>bn_wiki_2528</td>\n",
       "      <td>নারী ক্ষমতায়ন</td>\n",
       "      <td>বিংশ শতকের শেষ ভাগে ওয়েব ক্রমবর্ধমান অ্যাক্সে...</td>\n",
       "      <td>bn_wiki_2528_01</td>\n",
       "      <td>ইন্টারনেটের ব্যবহার নারীদেরকে ক্ষমতায়িত করার স...</td>\n",
       "      <td>1</td>\n",
       "      <td>factoid</td>\n",
       "      <td>{'answer_text': ['বিংশ শতকের শেষ ভাগে', 'বিংশ ...</td>\n",
       "    </tr>\n",
       "    <tr>\n",
       "      <th>11908</th>\n",
       "      <td>bn_wiki_2528</td>\n",
       "      <td>নারী ক্ষমতায়ন</td>\n",
       "      <td>বিংশ শতকের শেষ ভাগে ওয়েব ক্রমবর্ধমান অ্যাক্সে...</td>\n",
       "      <td>bn_wiki_2528_02</td>\n",
       "      <td>ব্লগিং কি নারী শিক্ষার ক্ষমতায়নে অন্যতম একটি স...</td>\n",
       "      <td>1</td>\n",
       "      <td>confirmation</td>\n",
       "      <td>{'answer_text': ['হ্যাঁ', 'হ্যাঁ '], 'answer_t...</td>\n",
       "    </tr>\n",
       "    <tr>\n",
       "      <th>11909</th>\n",
       "      <td>bn_wiki_2528</td>\n",
       "      <td>নারী ক্ষমতায়ন</td>\n",
       "      <td>বিংশ শতকের শেষ ভাগে ওয়েব ক্রমবর্ধমান অ্যাক্সে...</td>\n",
       "      <td>bn_wiki_2528_03</td>\n",
       "      <td>ই-লার্নিং এর সাহায্যে নারীরা অগ্রণী বিশ্বায়নে ...</td>\n",
       "      <td>1</td>\n",
       "      <td>causal</td>\n",
       "      <td>{'answer_text': ['শিক্ষাগতভাবে নিজেদের ক্ষমতায...</td>\n",
       "    </tr>\n",
       "    <tr>\n",
       "      <th>11910</th>\n",
       "      <td>bn_wiki_2528</td>\n",
       "      <td>নারী ক্ষমতায়ন</td>\n",
       "      <td>বিংশ শতকের শেষ ভাগে ওয়েব ক্রমবর্ধমান অ্যাক্সে...</td>\n",
       "      <td>bn_wiki_2528_04</td>\n",
       "      <td>এস ডি জি কী?</td>\n",
       "      <td>0</td>\n",
       "      <td>factoid</td>\n",
       "      <td>{'answer_text': ['', ''], 'answer_type': ['', ...</td>\n",
       "    </tr>\n",
       "    <tr>\n",
       "      <th>11911</th>\n",
       "      <td>bn_wiki_2528</td>\n",
       "      <td>নারী ক্ষমতায়ন</td>\n",
       "      <td>বিংশ শতকের শেষ ভাগে ওয়েব ক্রমবর্ধমান অ্যাক্সে...</td>\n",
       "      <td>bn_wiki_2528_05</td>\n",
       "      <td>এস ডি জির কোন লক্ষ্যটি নারী শিক্ষার সাথে সম্পর...</td>\n",
       "      <td>0</td>\n",
       "      <td>factoid</td>\n",
       "      <td>{'answer_text': ['', ''], 'answer_type': ['', ...</td>\n",
       "    </tr>\n",
       "  </tbody>\n",
       "</table>\n",
       "<p>11912 rows × 8 columns</p>\n",
       "</div>"
      ],
      "text/plain": [
       "         passage_id           title  \\\n",
       "0      bn_wiki_2977   ফাজিল পরীক্ষা   \n",
       "1      bn_wiki_2977   ফাজিল পরীক্ষা   \n",
       "2      bn_wiki_2977   ফাজিল পরীক্ষা   \n",
       "3      bn_wiki_2977   ফাজিল পরীক্ষা   \n",
       "4      bn_wiki_2977   ফাজিল পরীক্ষা   \n",
       "...             ...             ...   \n",
       "11907  bn_wiki_2528  নারী ক্ষমতায়ন   \n",
       "11908  bn_wiki_2528  নারী ক্ষমতায়ন   \n",
       "11909  bn_wiki_2528  নারী ক্ষমতায়ন   \n",
       "11910  bn_wiki_2528  নারী ক্ষমতায়ন   \n",
       "11911  bn_wiki_2528  নারী ক্ষমতায়ন   \n",
       "\n",
       "                                                 context      question_id  \\\n",
       "0      ফাজিল পরীক্ষা বাংলাদেশ ও ভারতের আলিয়া মাদ্রাস...  bn_wiki_2977_01   \n",
       "1      ফাজিল পরীক্ষা বাংলাদেশ ও ভারতের আলিয়া মাদ্রাস...  bn_wiki_2977_02   \n",
       "2      ফাজিল পরীক্ষা বাংলাদেশ ও ভারতের আলিয়া মাদ্রাস...  bn_wiki_2977_03   \n",
       "3      ফাজিল পরীক্ষা বাংলাদেশ ও ভারতের আলিয়া মাদ্রাস...  bn_wiki_2977_04   \n",
       "4      ফাজিল পরীক্ষা বাংলাদেশ ও ভারতের আলিয়া মাদ্রাস...  bn_wiki_2977_05   \n",
       "...                                                  ...              ...   \n",
       "11907  বিংশ শতকের শেষ ভাগে ওয়েব ক্রমবর্ধমান অ্যাক্সে...  bn_wiki_2528_01   \n",
       "11908  বিংশ শতকের শেষ ভাগে ওয়েব ক্রমবর্ধমান অ্যাক্সে...  bn_wiki_2528_02   \n",
       "11909  বিংশ শতকের শেষ ভাগে ওয়েব ক্রমবর্ধমান অ্যাক্সে...  bn_wiki_2528_03   \n",
       "11910  বিংশ শতকের শেষ ভাগে ওয়েব ক্রমবর্ধমান অ্যাক্সে...  bn_wiki_2528_04   \n",
       "11911  বিংশ শতকের শেষ ভাগে ওয়েব ক্রমবর্ধমান অ্যাক্সে...  bn_wiki_2528_05   \n",
       "\n",
       "                                           question_text is_answerable  \\\n",
       "0      ফাজিল পরীক্ষা বাংলাদেশ ও ভারতের আলিয়া মাদ্রাস...             1   \n",
       "1       বাংলাদেশের ফাজিল পরীক্ষা ইসলামি আরবি বিশ্ববিদ...             0   \n",
       "2      কত সালে ঢাকা আলিয়া মাদ্রাসা ঢাকায় স্থানান্তর...             1   \n",
       "3      মাদ্রাসা-ই-আলিয়া ঢাকায় স্থানান্তরিত হলে কত স...             1   \n",
       "4      মোট কত বছর ব্যাপী আলিয়া মাদ্রাসার পূর্ণাঙ্গ আ...             1   \n",
       "...                                                  ...           ...   \n",
       "11907  ইন্টারনেটের ব্যবহার নারীদেরকে ক্ষমতায়িত করার স...             1   \n",
       "11908  ব্লগিং কি নারী শিক্ষার ক্ষমতায়নে অন্যতম একটি স...             1   \n",
       "11909  ই-লার্নিং এর সাহায্যে নারীরা অগ্রণী বিশ্বায়নে ...             1   \n",
       "11910                                       এস ডি জি কী?             0   \n",
       "11911  এস ডি জির কোন লক্ষ্যটি নারী শিক্ষার সাথে সম্পর...             0   \n",
       "\n",
       "      question_type                                            answers  \n",
       "0      confirmation  {'answer_text': ['হ্যাঁ', 'হ্যাঁ '], 'answer_t...  \n",
       "1            causal  {'answer_text': ['', ''], 'answer_type': ['', ...  \n",
       "2           factoid  {'answer_text': ['১৯৪৭', '১৯৪৭'], 'answer_type...  \n",
       "3           factoid  {'answer_text': ['১৯৪৮', '১৯৪৮'], 'answer_type...  \n",
       "4           factoid  {'answer_text': ['১৬', '১৬'], 'answer_type': [...  \n",
       "...             ...                                                ...  \n",
       "11907       factoid  {'answer_text': ['বিংশ শতকের শেষ ভাগে', 'বিংশ ...  \n",
       "11908  confirmation  {'answer_text': ['হ্যাঁ', 'হ্যাঁ '], 'answer_t...  \n",
       "11909        causal  {'answer_text': ['শিক্ষাগতভাবে নিজেদের ক্ষমতায...  \n",
       "11910       factoid  {'answer_text': ['', ''], 'answer_type': ['', ...  \n",
       "11911       factoid  {'answer_text': ['', ''], 'answer_type': ['', ...  \n",
       "\n",
       "[11912 rows x 8 columns]"
      ]
     },
     "metadata": {},
     "output_type": "display_data"
    }
   ],
   "source": [
    "# Import Pandas for convenient table display\n",
    "import pandas as pd\n",
    "\n",
    "# Create a DataFrame from the first few examples\n",
    "BanglaRQA_train = pd.DataFrame(df_train)\n",
    "BanglaRQA_validation = pd.DataFrame(df_validation)\n",
    "BanglaRQA_test = pd.DataFrame(df_test)\n",
    "\n",
    "# Display the DataFrame\n",
    "display(BanglaRQA_train)"
   ]
  },
  {
   "cell_type": "code",
   "execution_count": 7,
   "id": "159dd55e",
   "metadata": {
    "execution": {
     "iopub.execute_input": "2024-10-28T19:31:27.343083Z",
     "iopub.status.busy": "2024-10-28T19:31:27.341970Z",
     "iopub.status.idle": "2024-10-28T19:31:27.349863Z",
     "shell.execute_reply": "2024-10-28T19:31:27.348935Z"
    },
    "papermill": {
     "duration": 0.037221,
     "end_time": "2024-10-28T19:31:27.351783",
     "exception": false,
     "start_time": "2024-10-28T19:31:27.314562",
     "status": "completed"
    },
    "tags": []
   },
   "outputs": [
    {
     "data": {
      "text/plain": [
       "Index(['passage_id', 'title', 'context', 'question_id', 'question_text',\n",
       "       'is_answerable', 'question_type', 'answers'],\n",
       "      dtype='object')"
      ]
     },
     "execution_count": 7,
     "metadata": {},
     "output_type": "execute_result"
    }
   ],
   "source": [
    "BanglaRQA_train.columns"
   ]
  },
  {
   "cell_type": "markdown",
   "id": "4d4b3101",
   "metadata": {
    "papermill": {
     "duration": 0.023953,
     "end_time": "2024-10-28T19:31:27.400533",
     "exception": false,
     "start_time": "2024-10-28T19:31:27.376580",
     "status": "completed"
    },
    "tags": []
   },
   "source": [
    "### Training Data Preprocessing"
   ]
  },
  {
   "cell_type": "code",
   "execution_count": 8,
   "id": "1c58dbc1",
   "metadata": {
    "execution": {
     "iopub.execute_input": "2024-10-28T19:31:27.450126Z",
     "iopub.status.busy": "2024-10-28T19:31:27.449522Z",
     "iopub.status.idle": "2024-10-28T19:31:47.917003Z",
     "shell.execute_reply": "2024-10-28T19:31:47.915710Z"
    },
    "papermill": {
     "duration": 20.495101,
     "end_time": "2024-10-28T19:31:47.919328",
     "exception": false,
     "start_time": "2024-10-28T19:31:27.424227",
     "status": "completed"
    },
    "tags": []
   },
   "outputs": [
    {
     "name": "stdout",
     "output_type": "stream",
     "text": [
      "Collecting git+https://github.com/csebuetnlp/normalizer\r\n",
      "  Cloning https://github.com/csebuetnlp/normalizer to /tmp/pip-req-build-0vgapto6\r\n",
      "  Running command git clone --filter=blob:none --quiet https://github.com/csebuetnlp/normalizer /tmp/pip-req-build-0vgapto6\r\n",
      "  Resolved https://github.com/csebuetnlp/normalizer to commit d405944dde5ceeacb7c2fd3245ae2a9dea5f35c9\r\n",
      "  Preparing metadata (setup.py) ... \u001b[?25ldone\r\n",
      "\u001b[?25hRequirement already satisfied: regex in /opt/conda/lib/python3.10/site-packages (from normalizer==0.0.1) (2023.8.8)\r\n",
      "Collecting emoji==1.4.2 (from normalizer==0.0.1)\r\n",
      "  Downloading emoji-1.4.2.tar.gz (184 kB)\r\n",
      "\u001b[2K     \u001b[90m━━━━━━━━━━━━━━━━━━━━━━━━━━━━━━━━━━━━━━━\u001b[0m \u001b[32m185.0/185.0 kB\u001b[0m \u001b[31m6.7 MB/s\u001b[0m eta \u001b[36m0:00:00\u001b[0m\r\n",
      "\u001b[?25h  Preparing metadata (setup.py) ... \u001b[?25l-\b \bdone\r\n",
      "\u001b[?25hCollecting ftfy==6.0.3 (from normalizer==0.0.1)\r\n",
      "  Downloading ftfy-6.0.3.tar.gz (64 kB)\r\n",
      "\u001b[2K     \u001b[90m━━━━━━━━━━━━━━━━━━━━━━━━━━━━━━━━━━━━━━━━\u001b[0m \u001b[32m64.2/64.2 kB\u001b[0m \u001b[31m6.7 MB/s\u001b[0m eta \u001b[36m0:00:00\u001b[0m\r\n",
      "\u001b[?25h  Preparing metadata (setup.py) ... \u001b[?25l-\b \bdone\r\n",
      "\u001b[?25hRequirement already satisfied: wcwidth in /opt/conda/lib/python3.10/site-packages (from ftfy==6.0.3->normalizer==0.0.1) (0.2.6)\r\n",
      "Building wheels for collected packages: normalizer, emoji, ftfy\r\n",
      "  Building wheel for normalizer (setup.py) ... \u001b[?25l-\b \bdone\r\n",
      "\u001b[?25h  Created wheel for normalizer: filename=normalizer-0.0.1-py3-none-any.whl size=6857 sha256=9571523e50df1457c3e68af124bb0c6be42055c2c259c8eda0c55ae840ad5a59\r\n",
      "  Stored in directory: /tmp/pip-ephem-wheel-cache-fpezbnqg/wheels/2e/79/9c/cd96d490298305d51d2da11484bb2c25fd1f759a6906708282\r\n",
      "  Building wheel for emoji (setup.py) ... \u001b[?25l-\b \bdone\r\n",
      "\u001b[?25h  Created wheel for emoji: filename=emoji-1.4.2-py3-none-any.whl size=186459 sha256=73d00a389c65f925500893840cd5b653dcd7260a9400dc1b7fbeb82ac5f67bdd\r\n",
      "  Stored in directory: /root/.cache/pip/wheels/10/f0/fd/4813b1177405693e8da9cdea839f0fb64fde161380e058c827\r\n",
      "  Building wheel for ftfy (setup.py) ... \u001b[?25l-\b \b\\\b \bdone\r\n",
      "\u001b[?25h  Created wheel for ftfy: filename=ftfy-6.0.3-py3-none-any.whl size=41930 sha256=53db4d1d2e2c6ae2def8096319b0cee9db17df0b5d5106ade54810ae9144b59e\r\n",
      "  Stored in directory: /root/.cache/pip/wheels/92/8e/16/c1e4d4d65685d71085e4e27b44d6ed880b0559474c9ee4ff66\r\n",
      "Successfully built normalizer emoji ftfy\r\n",
      "Installing collected packages: emoji, ftfy, normalizer\r\n",
      "  Attempting uninstall: emoji\r\n",
      "    Found existing installation: emoji 2.9.0\r\n",
      "    Uninstalling emoji-2.9.0:\r\n",
      "      Successfully uninstalled emoji-2.9.0\r\n",
      "Successfully installed emoji-1.4.2 ftfy-6.0.3 normalizer-0.0.1\r\n",
      "Note: you may need to restart the kernel to use updated packages.\n"
     ]
    }
   ],
   "source": [
    "pip install git+https://github.com/csebuetnlp/normalizer"
   ]
  },
  {
   "cell_type": "code",
   "execution_count": 9,
   "id": "1395560e",
   "metadata": {
    "execution": {
     "iopub.execute_input": "2024-10-28T19:31:47.973985Z",
     "iopub.status.busy": "2024-10-28T19:31:47.973584Z",
     "iopub.status.idle": "2024-10-28T19:31:47.982377Z",
     "shell.execute_reply": "2024-10-28T19:31:47.981483Z"
    },
    "papermill": {
     "duration": 0.038869,
     "end_time": "2024-10-28T19:31:47.984433",
     "exception": false,
     "start_time": "2024-10-28T19:31:47.945564",
     "status": "completed"
    },
    "tags": []
   },
   "outputs": [
    {
     "data": {
      "text/plain": [
       "passage_id       object\n",
       "title            object\n",
       "context          object\n",
       "question_id      object\n",
       "question_text    object\n",
       "is_answerable    object\n",
       "question_type    object\n",
       "answers          object\n",
       "dtype: object"
      ]
     },
     "execution_count": 9,
     "metadata": {},
     "output_type": "execute_result"
    }
   ],
   "source": [
    "BanglaRQA_train.dtypes"
   ]
  },
  {
   "cell_type": "code",
   "execution_count": 10,
   "id": "0fe11e39",
   "metadata": {
    "execution": {
     "iopub.execute_input": "2024-10-28T19:31:48.040813Z",
     "iopub.status.busy": "2024-10-28T19:31:48.040451Z",
     "iopub.status.idle": "2024-10-28T19:31:48.047141Z",
     "shell.execute_reply": "2024-10-28T19:31:48.046053Z"
    },
    "papermill": {
     "duration": 0.037995,
     "end_time": "2024-10-28T19:31:48.049494",
     "exception": false,
     "start_time": "2024-10-28T19:31:48.011499",
     "status": "completed"
    },
    "tags": []
   },
   "outputs": [
    {
     "data": {
      "text/plain": [
       "11912"
      ]
     },
     "execution_count": 10,
     "metadata": {},
     "output_type": "execute_result"
    }
   ],
   "source": [
    "#BanglaRQA_train.loc[0, 'context']\n",
    "len(BanglaRQA_train)"
   ]
  },
  {
   "cell_type": "code",
   "execution_count": 11,
   "id": "1906c775",
   "metadata": {
    "execution": {
     "iopub.execute_input": "2024-10-28T19:31:48.113606Z",
     "iopub.status.busy": "2024-10-28T19:31:48.112592Z",
     "iopub.status.idle": "2024-10-28T19:32:28.229726Z",
     "shell.execute_reply": "2024-10-28T19:32:28.228784Z"
    },
    "papermill": {
     "duration": 40.151702,
     "end_time": "2024-10-28T19:32:28.232168",
     "exception": false,
     "start_time": "2024-10-28T19:31:48.080466",
     "status": "completed"
    },
    "tags": []
   },
   "outputs": [],
   "source": [
    "from normalizer import normalize\n",
    "import string, re\n",
    "def remove_punc(text):\n",
    "  exclude = set(string.punctuation)\n",
    "  exclude.remove('?')\n",
    "  return \"\".join(ch for ch in text if ch not in exclude)\n",
    "\n",
    "context = []\n",
    "question = []\n",
    "answer = []\n",
    "\n",
    "for i in range(len(BanglaRQA_train)):\n",
    "        context.append(remove_punc(normalize(BanglaRQA_train.loc[i, 'context'])))\n",
    "        question.append(remove_punc(normalize(BanglaRQA_train.loc[i, 'question_text'])))\n",
    "        answer.append(normalize(BanglaRQA_train.loc[i, 'answers']['answer_text'][0]))\n",
    "     "
   ]
  },
  {
   "cell_type": "code",
   "execution_count": 12,
   "id": "9be8c162",
   "metadata": {
    "execution": {
     "iopub.execute_input": "2024-10-28T19:32:28.287840Z",
     "iopub.status.busy": "2024-10-28T19:32:28.286947Z",
     "iopub.status.idle": "2024-10-28T19:32:28.292676Z",
     "shell.execute_reply": "2024-10-28T19:32:28.291816Z"
    },
    "papermill": {
     "duration": 0.036244,
     "end_time": "2024-10-28T19:32:28.295126",
     "exception": false,
     "start_time": "2024-10-28T19:32:28.258882",
     "status": "completed"
    },
    "tags": []
   },
   "outputs": [
    {
     "name": "stdout",
     "output_type": "stream",
     "text": [
      "ফাজিল পরীক্ষা বাংলাদেশ ও ভারতের আলিয়া মাদ্রাসায় অনুষ্ঠিত একটি সরকারি পরীক্ষা ?\n",
      "ফাজিল পরীক্ষা বাংলাদেশ ও ভারতের আলিয়া মাদ্রাসায় অনুষ্ঠিত একটি সরকারি পরীক্ষা। ফাজিল পরীক্ষা বাংলাদেশে ডিগ্রি সমমানের কখনো স্নাতক সমমানের একটি পরীক্ষা যা একটি ফাজিল মাদ্রাসায় অনুষ্ঠিত হয়ে থাকে। তবে ভারতে ফাজিল পরীক্ষাকে উচ্চ মাধ্যমিক শ্রেণীর ১১ বা ১২ ক্লাস মান বলে বিবেচিত করা হয়। ফাজিল পরীক্ষা বাংলাদেশ ভারত ও পাকিস্তানের সরকারি স্বীকৃত আলিয়া মাদরাসায় প্রচলিত রয়েছে। বাংলাদেশের ফাজিল পরীক্ষা ইসলামি আরবি বিশ্ববিদ্যালয়ের অধীনে অনুষ্ঠিত হয়ে থাকে ও ভারতের ফাজিল পরীক্ষা পশ্চিমবঙ্গ মাদ্রাসা শিক্ষা পর্ষদের অধীনে অনুষ্ঠিত হয়ে থাকে। ১৯৪৭ সালে ঢাকা আলিয়া মাদ্রাসা ঢাকায় স্থানান্তরের পূর্বে বাংলাদেশ ও ভারতের ফাজিল পরীক্ষা কলকাতা আলিয়া মাদ্রাসার অধীনে অনুষ্ঠিত হতো। ফাযিল পরীক্ষা বর্তমানে ইসলামি আরবী বিশ্ববিদ্যালয়ের অধীনে অনুষ্ঠিত হয়। যা পূর্বে মাদরাসা বোর্ড ও ইসলামি বিশ্ববিদ্যালয়ের আধীনে অনুষ্ঠিত হত। মাদ্রাসাইআলিয়া ঢাকায় স্থানান্তরিত হলে ১৯৪৮ সালে মাদ্রাসা বোর্ডের ফাজিলগুলো পরীক্ষা ঢাকা বিশ্ববিদ্যালয় কর্তৃক গৃহীত হতো। ১৯৭৫ সালের কুদরতএখুদা শিক্ষা কমিশনের সুপারিশে মাদ্রাসা বোর্ড নিয়ন্ত্রিত আলিয়া মাদ্রাসাসমূহে জাতীয় শিক্ষাক্রম ও বহুমুখী পাঠ্যসূচি প্রবর্তিত করা হয়। ১৯৮০ সালে অনুষ্ঠিত ফাজিল পরীক্ষায় এই পাঠ্যসুচী কার্যকর হয়। এই শিক্ষা কমিশন অনুসারে ফাজিল শ্রেণীতে ইসলামি শিক্ষার পাশাপাশি সাধারণ পাঠ্যসূচী অন্তর্ভুক্ত করে ফাজিল পরীক্ষাকে সাধারণ উচ্চ মাধ্যমিক এইচ এস সির সমমান ঘোষণা করা হয়। ১৯৭৮ সালে অধ্যাপক মুস্তফা বিন কাসিমের নেতৃত্বে সিনিয়র মাদ্রাসা শিক্ষা ব্যবস্থা কমিটি গঠিত হয়। এই কমিটির নির্দেশনায় ১৯৮৪ সালে সাধারণ শিক্ষার স্তরের সঙ্গে বাংলাদেশ মাদ্রাসা বোর্ড নিয়ন্ত্রিত আলিয়া মাদ্রাসা শিক্ষা স্তরের সামঞ্জস্য করা হয়। ফাজিল স্তরকে ২ বছর মেয়াদী কোর্সে উন্নিত করে মোট ১৬ বছর ব্যাপী আলিয়া মাদ্রাসার পূর্ণাঙ্গ আধুনিক শিক্ষা ব্যবস্থা প্রবর্তন করা হয়। এই কমিশনের মাধ্যমেই সরকার ফাজিল পরীক্ষাকে সাধারণ ডিগ্রি মান ঘোষণা করে।\n",
      "11912\n",
      "11912\n",
      "11912\n"
     ]
    }
   ],
   "source": [
    "print(question[0])\n",
    "print(context[0])\n",
    "print(len(context))\n",
    "print(len(question))\n",
    "print(len(answer))"
   ]
  },
  {
   "cell_type": "code",
   "execution_count": 13,
   "id": "ecbf7fbe",
   "metadata": {
    "execution": {
     "iopub.execute_input": "2024-10-28T19:32:28.349210Z",
     "iopub.status.busy": "2024-10-28T19:32:28.348800Z",
     "iopub.status.idle": "2024-10-28T19:32:28.353096Z",
     "shell.execute_reply": "2024-10-28T19:32:28.352216Z"
    },
    "papermill": {
     "duration": 0.033813,
     "end_time": "2024-10-28T19:32:28.355131",
     "exception": false,
     "start_time": "2024-10-28T19:32:28.321318",
     "status": "completed"
    },
    "tags": []
   },
   "outputs": [],
   "source": [
    "# for i in range(len(context)):\n",
    "#   if question[i].find('?') == -1:\n",
    "#     print(f\"Context: {context[i]}\")\n",
    "#     print(f\"Question: {question[i]}\")\n",
    "#     print(\"---\")  # Separator between rows\n"
   ]
  },
  {
   "cell_type": "code",
   "execution_count": 14,
   "id": "02b85c09",
   "metadata": {
    "execution": {
     "iopub.execute_input": "2024-10-28T19:32:28.410187Z",
     "iopub.status.busy": "2024-10-28T19:32:28.409427Z",
     "iopub.status.idle": "2024-10-28T19:32:28.417530Z",
     "shell.execute_reply": "2024-10-28T19:32:28.416694Z"
    },
    "papermill": {
     "duration": 0.037943,
     "end_time": "2024-10-28T19:32:28.419848",
     "exception": false,
     "start_time": "2024-10-28T19:32:28.381905",
     "status": "completed"
    },
    "tags": []
   },
   "outputs": [],
   "source": [
    "for i in range(len(question)):\n",
    "    if question[i].endswith('|'):\n",
    "        question[i] = question[i][:-1] + '?'  # Remove '|' and add '?'\n"
   ]
  },
  {
   "cell_type": "code",
   "execution_count": 15,
   "id": "5ba01d4a",
   "metadata": {
    "execution": {
     "iopub.execute_input": "2024-10-28T19:32:28.474399Z",
     "iopub.status.busy": "2024-10-28T19:32:28.474064Z",
     "iopub.status.idle": "2024-10-28T19:32:28.487421Z",
     "shell.execute_reply": "2024-10-28T19:32:28.486548Z"
    },
    "papermill": {
     "duration": 0.043227,
     "end_time": "2024-10-28T19:32:28.489309",
     "exception": false,
     "start_time": "2024-10-28T19:32:28.446082",
     "status": "completed"
    },
    "tags": []
   },
   "outputs": [],
   "source": [
    "for i in range(len(question)):\n",
    "    if question[i].endswith(''):\n",
    "        question[i] = question[i][:-1] + '?'  # Remove '' and add '?'\n"
   ]
  },
  {
   "cell_type": "code",
   "execution_count": 16,
   "id": "a437b988",
   "metadata": {
    "execution": {
     "iopub.execute_input": "2024-10-28T19:32:28.544681Z",
     "iopub.status.busy": "2024-10-28T19:32:28.544044Z",
     "iopub.status.idle": "2024-10-28T19:32:28.590186Z",
     "shell.execute_reply": "2024-10-28T19:32:28.588794Z"
    },
    "papermill": {
     "duration": 0.076501,
     "end_time": "2024-10-28T19:32:28.592161",
     "exception": false,
     "start_time": "2024-10-28T19:32:28.515660",
     "status": "completed"
    },
    "tags": []
   },
   "outputs": [
    {
     "name": "stdout",
     "output_type": "stream",
     "text": [
      "ফাজিল পরীক্ষা বাংলাদেশ ও ভারতের আলিয়া মাদ্রাসায় অনুষ্ঠিত একটি সরকারি পরীক্ষা । ফাজিল পরীক্ষা বাংলাদেশে ডিগ্রি সমমানের কখনো স্নাতক সমমানের একটি পরীক্ষা যা একটি ফাজিল মাদ্রাসায় অনুষ্ঠিত হয়ে থাকে । তবে ভারতে ফাজিল পরীক্ষাকে উচ্চ মাধ্যমিক শ্রেণীর ১১ বা ১২ ক্লাস মান বলে বিবেচিত করা হয় । ফাজিল পরীক্ষা বাংলাদেশ ভারত ও পাকিস্তানের সরকারি স্বীকৃত আলিয়া মাদরাসায় প্রচলিত রয়েছে । বাংলাদেশের ফাজিল পরীক্ষা ইসলামি আরবি বিশ্ববিদ্যালয়ের অধীনে অনুষ্ঠিত হয়ে থাকে ও ভারতের ফাজিল পরীক্ষা পশ্চিমবঙ্গ মাদ্রাসা শিক্ষা পর্ষদের অধীনে অনুষ্ঠিত হয়ে থাকে । ১৯৪৭ সালে ঢাকা আলিয়া মাদ্রাসা ঢাকায় স্থানান্তরের পূর্বে বাংলাদেশ ও ভারতের ফাজিল পরীক্ষা কলকাতা আলিয়া মাদ্রাসার অধীনে অনুষ্ঠিত হতো । ফাযিল পরীক্ষা বর্তমানে ইসলামি আরবী বিশ্ববিদ্যালয়ের অধীনে অনুষ্ঠিত হয় । যা পূর্বে মাদরাসা বোর্ড ও ইসলামি বিশ্ববিদ্যালয়ের আধীনে অনুষ্ঠিত হত । মাদ্রাসাইআলিয়া ঢাকায় স্থানান্তরিত হলে ১৯৪৮ সালে মাদ্রাসা বোর্ডের ফাজিলগুলো পরীক্ষা ঢাকা বিশ্ববিদ্যালয় কর্তৃক গৃহীত হতো । ১৯৭৫ সালের কুদরতএখুদা শিক্ষা কমিশনের সুপারিশে মাদ্রাসা বোর্ড নিয়ন্ত্রিত আলিয়া মাদ্রাসাসমূহে জাতীয় শিক্ষাক্রম ও বহুমুখী পাঠ্যসূচি প্রবর্তিত করা হয় । ১৯৮০ সালে অনুষ্ঠিত ফাজিল পরীক্ষায় এই পাঠ্যসুচী কার্যকর হয় । এই শিক্ষা কমিশন অনুসারে ফাজিল শ্রেণীতে ইসলামি শিক্ষার পাশাপাশি সাধারণ পাঠ্যসূচী অন্তর্ভুক্ত করে ফাজিল পরীক্ষাকে সাধারণ উচ্চ মাধ্যমিক এইচ এস সির সমমান ঘোষণা করা হয় । ১৯৭৮ সালে অধ্যাপক মুস্তফা বিন কাসিমের নেতৃত্বে সিনিয়র মাদ্রাসা শিক্ষা ব্যবস্থা কমিটি গঠিত হয় । এই কমিটির নির্দেশনায় ১৯৮৪ সালে সাধারণ শিক্ষার স্তরের সঙ্গে বাংলাদেশ মাদ্রাসা বোর্ড নিয়ন্ত্রিত আলিয়া মাদ্রাসা শিক্ষা স্তরের সামঞ্জস্য করা হয় । ফাজিল স্তরকে ২ বছর মেয়াদী কোর্সে উন্নিত করে মোট ১৬ বছর ব্যাপী আলিয়া মাদ্রাসার পূর্ণাঙ্গ আধুনিক শিক্ষা ব্যবস্থা প্রবর্তন করা হয় । এই কমিশনের মাধ্যমেই সরকার ফাজিল পরীক্ষাকে সাধারণ ডিগ্রি মান ঘোষণা করে ।\n"
     ]
    }
   ],
   "source": [
    "for i in range(len(context)):\n",
    "  context[i] = context[i].replace('।', ' ।')\n",
    "  answer[i] = answer[i].replace('।', ' ।')\n",
    "  question[i] = question[i].replace('।', ' ।')\n",
    "\n",
    "print(context[0])"
   ]
  },
  {
   "cell_type": "code",
   "execution_count": 17,
   "id": "4e32f4d3",
   "metadata": {
    "execution": {
     "iopub.execute_input": "2024-10-28T19:32:28.648050Z",
     "iopub.status.busy": "2024-10-28T19:32:28.647432Z",
     "iopub.status.idle": "2024-10-28T19:32:28.663193Z",
     "shell.execute_reply": "2024-10-28T19:32:28.662295Z"
    },
    "papermill": {
     "duration": 0.045736,
     "end_time": "2024-10-28T19:32:28.665251",
     "exception": false,
     "start_time": "2024-10-28T19:32:28.619515",
     "status": "completed"
    },
    "tags": []
   },
   "outputs": [],
   "source": [
    "for i in range(len(context)):\n",
    "  if question[i].find(' ?') == -1:\n",
    "    question[i] = question[i].replace('?', ' ?')"
   ]
  },
  {
   "cell_type": "code",
   "execution_count": 18,
   "id": "a619668c",
   "metadata": {
    "execution": {
     "iopub.execute_input": "2024-10-28T19:32:28.719704Z",
     "iopub.status.busy": "2024-10-28T19:32:28.719335Z",
     "iopub.status.idle": "2024-10-28T19:32:28.731671Z",
     "shell.execute_reply": "2024-10-28T19:32:28.730877Z"
    },
    "papermill": {
     "duration": 0.041653,
     "end_time": "2024-10-28T19:32:28.733596",
     "exception": false,
     "start_time": "2024-10-28T19:32:28.691943",
     "status": "completed"
    },
    "tags": []
   },
   "outputs": [
    {
     "name": "stdout",
     "output_type": "stream",
     "text": [
      "11912\n"
     ]
    }
   ],
   "source": [
    "c = 0\n",
    "for i in range(len(context)):\n",
    "  if question[i].find(' ?') != -1:\n",
    "    c = c+1\n",
    "print(c)"
   ]
  },
  {
   "cell_type": "code",
   "execution_count": 19,
   "id": "19164318",
   "metadata": {
    "execution": {
     "iopub.execute_input": "2024-10-28T19:32:28.787717Z",
     "iopub.status.busy": "2024-10-28T19:32:28.787402Z",
     "iopub.status.idle": "2024-10-28T19:32:30.153180Z",
     "shell.execute_reply": "2024-10-28T19:32:30.152334Z"
    },
    "papermill": {
     "duration": 1.395777,
     "end_time": "2024-10-28T19:32:30.155577",
     "exception": false,
     "start_time": "2024-10-28T19:32:28.759800",
     "status": "completed"
    },
    "tags": []
   },
   "outputs": [],
   "source": [
    "question_context = []\n",
    "\n",
    "for i in range(len(context)):\n",
    "  context[i] = 'হ্যাঁ না । ' + context[i]\n",
    "  question_context.append(question[i] + ' ' + context[i])\n",
    "  a = question[i] + ' ' + context[i]\n",
    "  ans_spans = answer[i].split('; ')\n",
    "\n",
    "  for ans in ans_spans:\n",
    "    ans = remove_punc(ans)\n",
    "    if(ans == ''):\n",
    "      continue\n",
    "    else:\n",
    "      ansx = ans.split()\n",
    "      x = ''\n",
    "      for j in range(len(ansx)):\n",
    "        if(j == 0):\n",
    "          x = 'B'\n",
    "        else:\n",
    "          x = x + ' I'\n",
    "      a = a.replace(ans, x, 1)\n",
    "\n",
    "  a = a.split()\n",
    "  for j, x in enumerate(a):\n",
    "    if(x != 'B' and x!= 'I'):\n",
    "      a[j] = 'O'\n",
    "\n",
    "  answer[i] = a\n"
   ]
  },
  {
   "cell_type": "code",
   "execution_count": 20,
   "id": "672be180",
   "metadata": {
    "execution": {
     "iopub.execute_input": "2024-10-28T19:32:30.210006Z",
     "iopub.status.busy": "2024-10-28T19:32:30.209609Z",
     "iopub.status.idle": "2024-10-28T19:32:30.213597Z",
     "shell.execute_reply": "2024-10-28T19:32:30.212778Z"
    },
    "papermill": {
     "duration": 0.033104,
     "end_time": "2024-10-28T19:32:30.215618",
     "exception": false,
     "start_time": "2024-10-28T19:32:30.182514",
     "status": "completed"
    },
    "tags": []
   },
   "outputs": [],
   "source": [
    "# print(ans_spans)"
   ]
  },
  {
   "cell_type": "code",
   "execution_count": 21,
   "id": "63936450",
   "metadata": {
    "execution": {
     "iopub.execute_input": "2024-10-28T19:32:30.270743Z",
     "iopub.status.busy": "2024-10-28T19:32:30.270345Z",
     "iopub.status.idle": "2024-10-28T19:32:30.275460Z",
     "shell.execute_reply": "2024-10-28T19:32:30.274586Z"
    },
    "papermill": {
     "duration": 0.035139,
     "end_time": "2024-10-28T19:32:30.277798",
     "exception": false,
     "start_time": "2024-10-28T19:32:30.242659",
     "status": "completed"
    },
    "tags": []
   },
   "outputs": [
    {
     "name": "stdout",
     "output_type": "stream",
     "text": [
      "ডরিক গ্রীক কোন অঞ্চলের আঞ্চলিক ভাষা ছিল ? হ্যাঁ না । আর্কিমিডিস তার কাজের লিখিত রূপের জন্য ডরিক গ্রিক ভাষা ব্যবহার করতেন যা প্রাচীন সিরাকিউজের আঞ্চলিক ভাষা হিসেবে প্রচলিত ছিল । আর্কিমিডিসের অধিকাংশ কাজ ইউক্লিডের কাজের মত সংরক্ষিত হয়নি তার সাতটি থীসিসের কথা জানা যায় কেবলমাত্র অন্যদের কাজের রেফারেন্স থেকে । পাপ্পাস অভ আলেকজান্দ্রিয়া আর্কিমিডিসের অন স্ফীয়ার মেকিং এবং বহুতল বিশিষ্ট বস্তুর উপর আরএকটি কাজের কথা উল্লেখ করেছেন । অপরদিকে থেরন অভ আলেকজান্দ্রিয়া প্রতিসরণ সম্পর্কে আর্কিমিডিসের হারিয়ে যাওয়া একটি লেখনী ক্যাটোপট্রিকা এর উল্লেখ করেন । জীবদ্দশায় আর্কিমিডিস তার কাজের প্রচারের জন্য আলেকজান্দ্রিয়ার গণিতবিদদের উপর নির্ভর করতেন । বাইজান্টাইন স্থপতি ইসিডোর অভ মিলেতাস আর্কিমিডিসের লেখনীগুলোকে একত্রিত করেন পরবর্তীতে ষষ্ঠ শতকে ইউতোশিয়াস অভ আসকালোন তার কাজের উপর লিখিত বিবরণ প্রকাশ করার পর আর্কিমিডিসের কাজ বৃহত্তর জনগোষ্ঠীর কাছে পরিচিত হয়ে ওঠে । আর্কিমিডিসের কাজ থাবিত ইবনে কুররা ৮৩৬৯০১ খ্রিষ্টাব্দ আরবিতে এবং জেরার্ড অভ ক্রেমোনা ১১৪৭১১৮৭ খ্রিষ্টাব্দ ল্যাটিনে অনুবাদ করেন । রেনেসাঁর সময় ১৫৪৪ সালে জোহান হেরওয়াগেন সুইজারল্যান্ডের বাজল শহর থেকে গ্রিক ও ল্যাটিন ভাষায় আর্কিমিডিসের কাজ সহ এডিটিও প্রিন্সেপস বইয়ের প্রথম সংস্করণ প্রকাশ করেন । ১৫৮৬ সালে গ্যালিলিও গ্যালিলি বাতাস ও পানিতে ধাতব বস্তুর ওজন নির্ণয়ের জন্য একটি হাইড্রোস্ট্যাটিক নিক্তি উদ্ভাবন করেন যা আর্কিমিডিসের কাজ দ্বারা অণুপ্রাণিত বলে বলা হয়ে থাকে । অন দ্য ইকুইলিব্রিয়াম অভ প্লেইনস দুই খন্ড প্রথম খণ্ডে পনেরটি উপপাদ্য আর সাতটি অণুসিদ্ধান্ত রয়েছে অপরদিকে দ্বিতীয় খণ্ডে দশটি উপপাদ্য পাওয়া যায় । এই বইতে আর্কিমিডিস লিভারের মূলনীতি ব্যাখ্যা করেন । তিনি বলেন লিভারের দুই বাহুতে প্রযুক্ত ওজন বাহু দুইটির দৈর্ঘ্যের ব্যস্তানুপাতিক । এই বইয়ে উল্লিখিত মূলনীতির সাহায্যে আর্কিমিডিস বিভিন্ন জ্যামিতিক আকারের বস্তু যেমন ত্রিভুজ সামান্তরিক পরাবৃত্তের ক্ষেত্রফল এবং ভরকেন্দ্র নির্ণয় করেন । অন দ্য মেজারমেন্ট অভ আ সার্কেল কোনন অভ সামোস এর ছাত্র ডোসিথিস অভ পেলুসিয়ামের সাথে যৌথভাবে লিখিত এই নিবন্ধে তিনটি উপপাদ্য রয়েছে । দ্বিতীয় উপপাদ্যে আর্কিমিডিস দেখান যে পাইয়ের মান ২২৩৭১ এর চেয়ে বড় এবং ২২৭ এর চেয়ে ছোট । ২২৭ কে পাইয়ের আসন্ন মান হিসেবে মধ্যযুগে গ্রহণ করা হয় এবং বর্তমানেও অত্যন্ত নিখুঁত হিসাবের প্রয়োজন না থাকলে ২২৭ কেই পাইয়ের মান হিসেবে ব্যবহার করা হয়ে থাকে । \n",
      "['O', 'O', 'O', 'O', 'O', 'O', 'O', 'O', 'O', 'O', 'O', 'O', 'O', 'O', 'O', 'O', 'O', 'O', 'O', 'O', 'O', 'O', 'O', 'B', 'I', 'O', 'O', 'O', 'O', 'O', 'O', 'O', 'O', 'O', 'O', 'O', 'O', 'O', 'O', 'O', 'O', 'O', 'O', 'O', 'O', 'O', 'O', 'O', 'O', 'O', 'O', 'O', 'O', 'O', 'O', 'O', 'O', 'O', 'O', 'O', 'O', 'O', 'O', 'O', 'O', 'O', 'O', 'O', 'O', 'O', 'O', 'O', 'O', 'O', 'O', 'O', 'O', 'O', 'O', 'O', 'O', 'O', 'O', 'O', 'O', 'O', 'O', 'O', 'O', 'O', 'O', 'O', 'O', 'O', 'O', 'O', 'O', 'O', 'O', 'O', 'O', 'O', 'O', 'O', 'O', 'O', 'O', 'O', 'O', 'O', 'O', 'O', 'O', 'O', 'O', 'O', 'O', 'O', 'O', 'O', 'O', 'O', 'O', 'O', 'O', 'O', 'O', 'O', 'O', 'O', 'O', 'O', 'O', 'O', 'O', 'O', 'O', 'O', 'O', 'O', 'O', 'O', 'O', 'O', 'O', 'O', 'O', 'O', 'O', 'O', 'O', 'O', 'O', 'O', 'O', 'O', 'O', 'O', 'O', 'O', 'O', 'O', 'O', 'O', 'O', 'O', 'O', 'O', 'O', 'O', 'O', 'O', 'O', 'O', 'O', 'O', 'O', 'O', 'O', 'O', 'O', 'O', 'O', 'O', 'O', 'O', 'O', 'O', 'O', 'O', 'O', 'O', 'O', 'O', 'O', 'O', 'O', 'O', 'O', 'O', 'O', 'O', 'O', 'O', 'O', 'O', 'O', 'O', 'O', 'O', 'O', 'O', 'O', 'O', 'O', 'O', 'O', 'O', 'O', 'O', 'O', 'O', 'O', 'O', 'O', 'O', 'O', 'O', 'O', 'O', 'O', 'O', 'O', 'O', 'O', 'O', 'O', 'O', 'O', 'O', 'O', 'O', 'O', 'O', 'O', 'O', 'O', 'O', 'O', 'O', 'O', 'O', 'O', 'O', 'O', 'O', 'O', 'O', 'O', 'O', 'O', 'O', 'O', 'O', 'O', 'O', 'O', 'O', 'O', 'O', 'O', 'O', 'O', 'O', 'O', 'O', 'O', 'O', 'O', 'O', 'O', 'O', 'O', 'O', 'O', 'O', 'O', 'O', 'O', 'O', 'O', 'O', 'O', 'O', 'O', 'O', 'O', 'O', 'O', 'O', 'O', 'O', 'O', 'O', 'O', 'O', 'O', 'O', 'O', 'O', 'O', 'O', 'O', 'O', 'O', 'O', 'O', 'O', 'O', 'O', 'O', 'O', 'O', 'O', 'O', 'O', 'O', 'O', 'O', 'O']\n"
     ]
    }
   ],
   "source": [
    "print(question_context[565])\n",
    "print(answer[565])"
   ]
  },
  {
   "cell_type": "code",
   "execution_count": 22,
   "id": "729da05f",
   "metadata": {
    "execution": {
     "iopub.execute_input": "2024-10-28T19:32:30.334613Z",
     "iopub.status.busy": "2024-10-28T19:32:30.333475Z",
     "iopub.status.idle": "2024-10-28T19:32:30.340040Z",
     "shell.execute_reply": "2024-10-28T19:32:30.338921Z"
    },
    "papermill": {
     "duration": 0.036518,
     "end_time": "2024-10-28T19:32:30.342088",
     "exception": false,
     "start_time": "2024-10-28T19:32:30.305570",
     "status": "completed"
    },
    "tags": []
   },
   "outputs": [
    {
     "name": "stdout",
     "output_type": "stream",
     "text": [
      "{'B': 0, 'I': 1, 'O': 2}\n",
      "{0: 'B', 1: 'I', 2: 'O'}\n"
     ]
    }
   ],
   "source": [
    "labels_to_ids = {k: v for v, k in enumerate(['B', 'I', 'O'])}\n",
    "ids_to_labels = {v: k for v, k in enumerate(['B', 'I', 'O'])}\n",
    "print(labels_to_ids)\n",
    "print(ids_to_labels)"
   ]
  },
  {
   "cell_type": "markdown",
   "id": "ac29fb69",
   "metadata": {
    "papermill": {
     "duration": 0.027029,
     "end_time": "2024-10-28T19:32:30.395764",
     "exception": false,
     "start_time": "2024-10-28T19:32:30.368735",
     "status": "completed"
    },
    "tags": []
   },
   "source": [
    "### Validation Data Preprocessing"
   ]
  },
  {
   "cell_type": "code",
   "execution_count": 23,
   "id": "35d93192",
   "metadata": {
    "execution": {
     "iopub.execute_input": "2024-10-28T19:32:30.452720Z",
     "iopub.status.busy": "2024-10-28T19:32:30.452298Z",
     "iopub.status.idle": "2024-10-28T19:32:30.458821Z",
     "shell.execute_reply": "2024-10-28T19:32:30.457771Z"
    },
    "papermill": {
     "duration": 0.037664,
     "end_time": "2024-10-28T19:32:30.461048",
     "exception": false,
     "start_time": "2024-10-28T19:32:30.423384",
     "status": "completed"
    },
    "tags": []
   },
   "outputs": [
    {
     "data": {
      "text/plain": [
       "1484"
      ]
     },
     "execution_count": 23,
     "metadata": {},
     "output_type": "execute_result"
    }
   ],
   "source": [
    "len(BanglaRQA_validation)"
   ]
  },
  {
   "cell_type": "code",
   "execution_count": 24,
   "id": "0e3cc442",
   "metadata": {
    "execution": {
     "iopub.execute_input": "2024-10-28T19:32:30.516536Z",
     "iopub.status.busy": "2024-10-28T19:32:30.515639Z",
     "iopub.status.idle": "2024-10-28T19:32:35.556813Z",
     "shell.execute_reply": "2024-10-28T19:32:35.555783Z"
    },
    "papermill": {
     "duration": 5.071299,
     "end_time": "2024-10-28T19:32:35.559363",
     "exception": false,
     "start_time": "2024-10-28T19:32:30.488064",
     "status": "completed"
    },
    "tags": []
   },
   "outputs": [],
   "source": [
    "from normalizer import normalize\n",
    "import string, re\n",
    "def remove_punc(text):\n",
    "  exclude = set(string.punctuation)\n",
    "  exclude.remove('?')\n",
    "  return \"\".join(ch for ch in text if ch not in exclude)\n",
    "\n",
    "context_val = []\n",
    "question_val = []\n",
    "answer_val = []\n",
    "\n",
    "for i in range(len(BanglaRQA_validation)):\n",
    "        context_val.append(remove_punc(normalize(BanglaRQA_validation.loc[i, 'context'])))\n",
    "        question_val.append(remove_punc(normalize(BanglaRQA_validation.loc[i, 'question_text'])))\n",
    "        answer_val.append(normalize(BanglaRQA_validation.loc[i, 'answers']['answer_text'][0]))\n",
    "     "
   ]
  },
  {
   "cell_type": "code",
   "execution_count": 25,
   "id": "3a24b34e",
   "metadata": {
    "execution": {
     "iopub.execute_input": "2024-10-28T19:32:35.615836Z",
     "iopub.status.busy": "2024-10-28T19:32:35.614992Z",
     "iopub.status.idle": "2024-10-28T19:32:35.619994Z",
     "shell.execute_reply": "2024-10-28T19:32:35.619042Z"
    },
    "papermill": {
     "duration": 0.035787,
     "end_time": "2024-10-28T19:32:35.622508",
     "exception": false,
     "start_time": "2024-10-28T19:32:35.586721",
     "status": "completed"
    },
    "tags": []
   },
   "outputs": [
    {
     "name": "stdout",
     "output_type": "stream",
     "text": [
      "1484\n",
      "আস্যাইরিয়ান ও ব্যাবলিয়ান সাহিত্যে সরগন তার অবনমিত অবস্থান থেকে ক্ষমতায় উত্থান ও মেসোপটেমিয়া অভিযানের জন্য কিংবদন্তি গল্পের মুল উপজীব্যে পরিনত হয়েছিলেন এরকম আরও কিছু কিছু আংশিক কিংবদন্তী উপাখ্যান ছাড়াও সারগনের খোদ নিজের অনেক লিপি আছে যদিও তার বেশিরভাগ পরবর্তী সংস্করনগুলি থেকে নেওয়া। ল্যুভর জাদুঘরে দুটি সারগনিক বিজয় ফলক এর অংশবিশেষ আছে যা সুসা যেখানে এগুলি খুব সম্ভবত মেসোপটেমিয়া ত্থেকে দ্বাদশ শতাব্দীতে স্থানান্তরিত করা হয়েছিল থেকে পুনঃউদ্ধার করা হয়েছিল। দৃশ্যত সরগন সেমেটিক আক্কাদীয়ান ভাষার লিপির লিখিত আকারে প্রসার ঘটিয়েছিলেন তিনি আক্কাদ শহর প্রতিষ্ঠিত করার প্রথমদিকে নিজেকে প্রায়শয়ই আক্কাদীয়ান রাজা হিসিবে প্রচার করতেন পরে তিনি কোন এক সময় কিস শহর অধিগ্রহণ করে নেন পরবর্তীতে মেসোপটেমিয়ার বৃহদাংশও দখল করে নেন এবং ক্রমে ক্রমে সরগন আক্কদীয়ান রাজা ইনান্নার তত্ত্বাবধায়ক কিস এর রাজা আনুর স্থলাভিষিক্ত রাজ্যেরমেসোপটেমিয়া রাজা এনলিলের রাজ্যপালএনসি নামে নিজেকে প্রচার করে ছিলেন। যদিও সুমেরিয়ান রাজাদের তালিকার অনেক অনুলিপিতে সারগনের শাসনকাল ৫৬ ৫৫ বা ৫৪ বছর বলা হয়েছে কিন্তু তারিখ সংবলিত নথি অনুযায়ী তার আসল শাসনকালের শুধুমাত্র ৪ টি ভিন্ন ভিন্ন বছরের উল্লেখ পাওয়া যায় এই চার শাসনবছরে তিনি এলাম মারি সিমুররামএকটি হুঋয়ান অঞ্চল এবং উরুয়ার একটি এলামিটে নগররাষ্ট্র বিরুদ্ধে অভিযান পরিচালনা করেন বলে বিবরন পাওয়া যায়। সারগনের শাসনামলে কীলকাকার লিপির জন্য পূর্ব সেমেটিক ভাষাকে প্রমিতকরণ ও স্বীকৃতকরণ করা হয়েছিল যা পূর্বে সুমেরিয়ান ভাষার সাথে ব্যবহৃত হত এবং বর্তমানের আক্কাদীয়ান ভাষা হিসেবে প্রচলিত।মাটির ফলক ও স্তম্ভে পুরাণ এবং ধর্মীয় আচারঅনুষ্ঠানের দৃশ্য প্রথিত করার এক শিল্পস্বরুপহস্তলিপি ক্যালিগ্রাফি এই সময়ে বিকশিত হয়েছিল।\n"
     ]
    }
   ],
   "source": [
    "print(len(question_val))\n",
    "print(context_val[0])"
   ]
  },
  {
   "cell_type": "code",
   "execution_count": 26,
   "id": "17f5ce2d",
   "metadata": {
    "execution": {
     "iopub.execute_input": "2024-10-28T19:32:35.678164Z",
     "iopub.status.busy": "2024-10-28T19:32:35.677529Z",
     "iopub.status.idle": "2024-10-28T19:32:35.683352Z",
     "shell.execute_reply": "2024-10-28T19:32:35.682519Z"
    },
    "papermill": {
     "duration": 0.036108,
     "end_time": "2024-10-28T19:32:35.685189",
     "exception": false,
     "start_time": "2024-10-28T19:32:35.649081",
     "status": "completed"
    },
    "tags": []
   },
   "outputs": [],
   "source": [
    "for i in range(len(question_val)):\n",
    "    if question_val[i].endswith('|'):\n",
    "        question_val[i] = question_val[i][:-1] + '?'  # Remove '|' and add '?'\n"
   ]
  },
  {
   "cell_type": "code",
   "execution_count": 27,
   "id": "f1049d3b",
   "metadata": {
    "execution": {
     "iopub.execute_input": "2024-10-28T19:32:35.740957Z",
     "iopub.status.busy": "2024-10-28T19:32:35.740260Z",
     "iopub.status.idle": "2024-10-28T19:32:35.746494Z",
     "shell.execute_reply": "2024-10-28T19:32:35.745629Z"
    },
    "papermill": {
     "duration": 0.036604,
     "end_time": "2024-10-28T19:32:35.748414",
     "exception": false,
     "start_time": "2024-10-28T19:32:35.711810",
     "status": "completed"
    },
    "tags": []
   },
   "outputs": [],
   "source": [
    "for i in range(len(question_val)):\n",
    "    if question_val[i].endswith(''):\n",
    "        question_val[i] = question_val[i][:-1] + '?'  # Remove '' and add '?'\n"
   ]
  },
  {
   "cell_type": "code",
   "execution_count": 28,
   "id": "39e0ef7d",
   "metadata": {
    "execution": {
     "iopub.execute_input": "2024-10-28T19:32:35.804860Z",
     "iopub.status.busy": "2024-10-28T19:32:35.804514Z",
     "iopub.status.idle": "2024-10-28T19:32:35.815955Z",
     "shell.execute_reply": "2024-10-28T19:32:35.815144Z"
    },
    "papermill": {
     "duration": 0.042482,
     "end_time": "2024-10-28T19:32:35.818312",
     "exception": false,
     "start_time": "2024-10-28T19:32:35.775830",
     "status": "completed"
    },
    "tags": []
   },
   "outputs": [
    {
     "name": "stdout",
     "output_type": "stream",
     "text": [
      "হ্যাঁ না । ফাজিল পরীক্ষা বাংলাদেশ ও ভারতের আলিয়া মাদ্রাসায় অনুষ্ঠিত একটি সরকারি পরীক্ষা । ফাজিল পরীক্ষা বাংলাদেশে ডিগ্রি সমমানের কখনো স্নাতক সমমানের একটি পরীক্ষা যা একটি ফাজিল মাদ্রাসায় অনুষ্ঠিত হয়ে থাকে । তবে ভারতে ফাজিল পরীক্ষাকে উচ্চ মাধ্যমিক শ্রেণীর ১১ বা ১২ ক্লাস মান বলে বিবেচিত করা হয় । ফাজিল পরীক্ষা বাংলাদেশ ভারত ও পাকিস্তানের সরকারি স্বীকৃত আলিয়া মাদরাসায় প্রচলিত রয়েছে । বাংলাদেশের ফাজিল পরীক্ষা ইসলামি আরবি বিশ্ববিদ্যালয়ের অধীনে অনুষ্ঠিত হয়ে থাকে ও ভারতের ফাজিল পরীক্ষা পশ্চিমবঙ্গ মাদ্রাসা শিক্ষা পর্ষদের অধীনে অনুষ্ঠিত হয়ে থাকে । ১৯৪৭ সালে ঢাকা আলিয়া মাদ্রাসা ঢাকায় স্থানান্তরের পূর্বে বাংলাদেশ ও ভারতের ফাজিল পরীক্ষা কলকাতা আলিয়া মাদ্রাসার অধীনে অনুষ্ঠিত হতো । ফাযিল পরীক্ষা বর্তমানে ইসলামি আরবী বিশ্ববিদ্যালয়ের অধীনে অনুষ্ঠিত হয় । যা পূর্বে মাদরাসা বোর্ড ও ইসলামি বিশ্ববিদ্যালয়ের আধীনে অনুষ্ঠিত হত । মাদ্রাসাইআলিয়া ঢাকায় স্থানান্তরিত হলে ১৯৪৮ সালে মাদ্রাসা বোর্ডের ফাজিলগুলো পরীক্ষা ঢাকা বিশ্ববিদ্যালয় কর্তৃক গৃহীত হতো । ১৯৭৫ সালের কুদরতএখুদা শিক্ষা কমিশনের সুপারিশে মাদ্রাসা বোর্ড নিয়ন্ত্রিত আলিয়া মাদ্রাসাসমূহে জাতীয় শিক্ষাক্রম ও বহুমুখী পাঠ্যসূচি প্রবর্তিত করা হয় । ১৯৮০ সালে অনুষ্ঠিত ফাজিল পরীক্ষায় এই পাঠ্যসুচী কার্যকর হয় । এই শিক্ষা কমিশন অনুসারে ফাজিল শ্রেণীতে ইসলামি শিক্ষার পাশাপাশি সাধারণ পাঠ্যসূচী অন্তর্ভুক্ত করে ফাজিল পরীক্ষাকে সাধারণ উচ্চ মাধ্যমিক এইচ এস সির সমমান ঘোষণা করা হয় । ১৯৭৮ সালে অধ্যাপক মুস্তফা বিন কাসিমের নেতৃত্বে সিনিয়র মাদ্রাসা শিক্ষা ব্যবস্থা কমিটি গঠিত হয় । এই কমিটির নির্দেশনায় ১৯৮৪ সালে সাধারণ শিক্ষার স্তরের সঙ্গে বাংলাদেশ মাদ্রাসা বোর্ড নিয়ন্ত্রিত আলিয়া মাদ্রাসা শিক্ষা স্তরের সামঞ্জস্য করা হয় । ফাজিল স্তরকে ২ বছর মেয়াদী কোর্সে উন্নিত করে মোট ১৬ বছর ব্যাপী আলিয়া মাদ্রাসার পূর্ণাঙ্গ আধুনিক শিক্ষা ব্যবস্থা প্রবর্তন করা হয় । এই কমিশনের মাধ্যমেই সরকার ফাজিল পরীক্ষাকে সাধারণ ডিগ্রি মান ঘোষণা করে ।\n"
     ]
    }
   ],
   "source": [
    "for i in range(len(context_val)):\n",
    "  context_val[i] = context_val[i].replace('।', ' ।')\n",
    "  answer_val[i] = answer_val[i].replace('।', ' ।')\n",
    "  question_val[i] = question_val[i].replace('।', ' ।')\n",
    "\n",
    "print(context[0])"
   ]
  },
  {
   "cell_type": "code",
   "execution_count": 29,
   "id": "94ab5ba9",
   "metadata": {
    "execution": {
     "iopub.execute_input": "2024-10-28T19:32:35.874215Z",
     "iopub.status.busy": "2024-10-28T19:32:35.873853Z",
     "iopub.status.idle": "2024-10-28T19:32:35.880286Z",
     "shell.execute_reply": "2024-10-28T19:32:35.879377Z"
    },
    "papermill": {
     "duration": 0.036655,
     "end_time": "2024-10-28T19:32:35.882346",
     "exception": false,
     "start_time": "2024-10-28T19:32:35.845691",
     "status": "completed"
    },
    "tags": []
   },
   "outputs": [],
   "source": [
    "for i in range(len(context_val)):\n",
    "  if question_val[i].find(' ?') == -1:\n",
    "    question_val[i] = question_val[i].replace('?', ' ?')"
   ]
  },
  {
   "cell_type": "code",
   "execution_count": 30,
   "id": "a5f0cd35",
   "metadata": {
    "execution": {
     "iopub.execute_input": "2024-10-28T19:32:35.938701Z",
     "iopub.status.busy": "2024-10-28T19:32:35.938340Z",
     "iopub.status.idle": "2024-10-28T19:32:35.945196Z",
     "shell.execute_reply": "2024-10-28T19:32:35.944311Z"
    },
    "papermill": {
     "duration": 0.037615,
     "end_time": "2024-10-28T19:32:35.947716",
     "exception": false,
     "start_time": "2024-10-28T19:32:35.910101",
     "status": "completed"
    },
    "tags": []
   },
   "outputs": [
    {
     "name": "stdout",
     "output_type": "stream",
     "text": [
      "1484\n"
     ]
    }
   ],
   "source": [
    "c = 0\n",
    "for i in range(len(context_val)):\n",
    "  if question_val[i].find(' ?') != -1:\n",
    "    c = c+1\n",
    "print(c)"
   ]
  },
  {
   "cell_type": "code",
   "execution_count": 31,
   "id": "444d5939",
   "metadata": {
    "execution": {
     "iopub.execute_input": "2024-10-28T19:32:36.004154Z",
     "iopub.status.busy": "2024-10-28T19:32:36.003783Z",
     "iopub.status.idle": "2024-10-28T19:32:36.008477Z",
     "shell.execute_reply": "2024-10-28T19:32:36.007631Z"
    },
    "papermill": {
     "duration": 0.035369,
     "end_time": "2024-10-28T19:32:36.010773",
     "exception": false,
     "start_time": "2024-10-28T19:32:35.975404",
     "status": "completed"
    },
    "tags": []
   },
   "outputs": [
    {
     "name": "stdout",
     "output_type": "stream",
     "text": [
      "কোন জাদুঘরে সারগনিক বিজয় ফলক আছে ?\n"
     ]
    }
   ],
   "source": [
    "print(question_val[0])"
   ]
  },
  {
   "cell_type": "code",
   "execution_count": 32,
   "id": "5010f2f2",
   "metadata": {
    "execution": {
     "iopub.execute_input": "2024-10-28T19:32:36.067474Z",
     "iopub.status.busy": "2024-10-28T19:32:36.066630Z",
     "iopub.status.idle": "2024-10-28T19:32:36.246897Z",
     "shell.execute_reply": "2024-10-28T19:32:36.245886Z"
    },
    "papermill": {
     "duration": 0.211409,
     "end_time": "2024-10-28T19:32:36.249351",
     "exception": false,
     "start_time": "2024-10-28T19:32:36.037942",
     "status": "completed"
    },
    "tags": []
   },
   "outputs": [],
   "source": [
    "question_context_val = []\n",
    "\n",
    "for i in range(len(context_val)):\n",
    "  context_val[i] = 'হ্যাঁ না । ' + context_val[i]\n",
    "  question_context_val.append(question_val[i] + ' ' + context_val[i])\n",
    "  a = question_val[i] + ' ' + context_val[i]\n",
    "  ans_spans = answer_val[i].split('; ')\n",
    "\n",
    "  for ans in ans_spans:\n",
    "    ans = remove_punc(ans)\n",
    "    if(ans == ''):\n",
    "      continue\n",
    "    else:\n",
    "      ansx = ans.split()\n",
    "      x = ''\n",
    "      for j in range(len(ansx)):\n",
    "        if(j == 0):\n",
    "          x = 'B'\n",
    "        else:\n",
    "          x = x + ' I'\n",
    "      a = a.replace(ans, x, 1)\n",
    "\n",
    "  a = a.split()\n",
    "  for j, x in enumerate(a):\n",
    "    if(x != 'B' and x!= 'I'):\n",
    "      a[j] = 'O'\n",
    "\n",
    "  answer_val[i] = a\n"
   ]
  },
  {
   "cell_type": "code",
   "execution_count": 33,
   "id": "6f72b47a",
   "metadata": {
    "execution": {
     "iopub.execute_input": "2024-10-28T19:32:36.306650Z",
     "iopub.status.busy": "2024-10-28T19:32:36.305754Z",
     "iopub.status.idle": "2024-10-28T19:32:36.310753Z",
     "shell.execute_reply": "2024-10-28T19:32:36.309753Z"
    },
    "papermill": {
     "duration": 0.036495,
     "end_time": "2024-10-28T19:32:36.313365",
     "exception": false,
     "start_time": "2024-10-28T19:32:36.276870",
     "status": "completed"
    },
    "tags": []
   },
   "outputs": [
    {
     "name": "stdout",
     "output_type": "stream",
     "text": [
      "আরপানেট এর জন্ম হয় কত সালে ? হ্যাঁ না । বিভিন্ন রকম ইংরেজি বানান রয়েছে বাছাই করার যেগুলো একে অন্যের সাথে মিলে না । ইমেইল বানানটি আইইটিএফ রিকোয়েস্ট ফর কমেন্ট এবং তাদের কাজের দল এবং বিস্তৃত ভাবে স্টাইল গাইডস দ্বারা ব্যবহৃত হয় । এই বানানটি বিভিন্ন অভিধানেও দেখা যায় । ইমেইল এই বানানটি কিছু প্রথম সারির খ্যাতিমান সাংবাদিক এবং বিভিন্ন টেকনিকাল স্টাইল গাইড দ্বারা সুপারিশ করা হয়েছিল । করপাস অব কনটেমপরারি আমেরিকান ইংলিশ তথ্য অনুযায়ী এই বানানটি আমেরিকান সম্পাদনাতে পুনপুন প্রকাশিত হয়েছিল । মেইল এই বানান প্রধান আরএফসি ব্যবহার করত । সেবা মেইল হিসেবে বুঝানো হত এবং একটি ইলেক্ট্রনিক মেইলকে ম্যাসেজ বলা হত । ইমেইল প্রথম এম অক্ষরটি বড় হাতের হরফে লেখা হত এটা অর্পানেট ব্যবহারকারী এবং প্রথম দিকের উন্নয়নকারী ইউনিক্স সিএমএস এ্যপললিংক ইওয়ার্ল্ড এওএল জিনি এবং হটমেইল কর্তৃক ব্যবহৃত হত । ইমেইল এই বানানটি আরএফসির প্রথাগত বানান যেখানে এটি ব্যবহৃত হত অথর বা প্রবর্তকের ঠিকানা হিসেবে । ইমেইল প্রথম ই অক্ষরটি কে বড় হরফে লেখার যেটা এক্সরে বা টিশার্ট এর মতো । বিশ শতকের ষাটসত্তরের দশকে ইন্টারনেট প্রোটোকলএর মাধ্যমে আরপানেট এর জন্ম হয় ১৯৭১ সালে তখন আমেরিকার প্রোগ্রামার রোমান্ড স্যামুয়েল টমলিসন ইমেইল এর সূচনা করেন ইমেইল ঠিকানা দুইটি অংশে বিভক্ত । প্রথম অংশটি হল ব্যবহারকারী নাম । এর ঠিক পরপরই থাকে  চিহ্নটি । তার পরে থাকে সংশ্লিষ্ট ব্যবহারকারীর প্রতিষ্ঠানের নাম । ইমেইল প্রেরণের ক্ষেত্রে দুইটি মূল সফটওয়ার কাজ করে । এগুলো হলো মেইল ইউজার এজেন্ট অর্থাৎ ইমেইল প্রেরকপ্রাপকের ব্যবহৃত প্রোগ্রাম মেইল ট্রান্সফার এজেন্ট যা মেইল স্থানান্তর করে ।\n",
      "['O', 'O', 'O', 'O', 'O', 'O', 'O', 'O', 'O', 'O', 'O', 'O', 'O', 'O', 'O', 'O', 'O', 'O', 'O', 'O', 'O', 'O', 'O', 'O', 'O', 'O', 'O', 'O', 'O', 'O', 'O', 'O', 'O', 'O', 'O', 'O', 'O', 'O', 'O', 'O', 'O', 'O', 'O', 'O', 'O', 'O', 'O', 'O', 'O', 'O', 'O', 'O', 'O', 'O', 'O', 'O', 'O', 'O', 'O', 'O', 'O', 'O', 'O', 'O', 'O', 'O', 'O', 'O', 'O', 'O', 'O', 'O', 'O', 'O', 'O', 'O', 'O', 'O', 'O', 'O', 'O', 'O', 'O', 'O', 'O', 'O', 'O', 'O', 'O', 'O', 'O', 'O', 'O', 'O', 'O', 'O', 'O', 'O', 'O', 'O', 'O', 'O', 'O', 'O', 'O', 'O', 'O', 'O', 'O', 'O', 'O', 'O', 'O', 'O', 'O', 'O', 'O', 'O', 'O', 'O', 'O', 'O', 'O', 'O', 'O', 'O', 'O', 'O', 'O', 'O', 'O', 'O', 'O', 'O', 'O', 'O', 'O', 'O', 'O', 'O', 'O', 'O', 'O', 'O', 'O', 'O', 'O', 'O', 'O', 'O', 'O', 'O', 'O', 'O', 'O', 'O', 'O', 'O', 'O', 'O', 'O', 'O', 'O', 'O', 'O', 'O', 'O', 'O', 'O', 'O', 'O', 'O', 'O', 'O', 'B', 'O', 'O', 'O', 'O', 'O', 'O', 'O', 'O', 'O', 'O', 'O', 'O', 'O', 'O', 'O', 'O', 'O', 'O', 'O', 'O', 'O', 'O', 'O', 'O', 'O', 'O', 'O', 'O', 'O', 'O', 'O', 'O', 'O', 'O', 'O', 'O', 'O', 'O', 'O', 'O', 'O', 'O', 'O', 'O', 'O', 'O', 'O', 'O', 'O', 'O', 'O', 'O', 'O', 'O', 'O', 'O', 'O', 'O', 'O', 'O', 'O', 'O', 'O', 'O']\n"
     ]
    }
   ],
   "source": [
    "print(question_context_val[565])\n",
    "print(answer_val[565])"
   ]
  },
  {
   "cell_type": "markdown",
   "id": "73237dc5",
   "metadata": {
    "papermill": {
     "duration": 0.026652,
     "end_time": "2024-10-28T19:32:36.368647",
     "exception": false,
     "start_time": "2024-10-28T19:32:36.341995",
     "status": "completed"
    },
    "tags": []
   },
   "source": [
    "### Further Processing"
   ]
  },
  {
   "cell_type": "code",
   "execution_count": 34,
   "id": "9ec80182",
   "metadata": {
    "execution": {
     "iopub.execute_input": "2024-10-28T19:32:36.425840Z",
     "iopub.status.busy": "2024-10-28T19:32:36.425485Z",
     "iopub.status.idle": "2024-10-28T19:32:36.436573Z",
     "shell.execute_reply": "2024-10-28T19:32:36.435593Z"
    },
    "papermill": {
     "duration": 0.042222,
     "end_time": "2024-10-28T19:32:36.438733",
     "exception": false,
     "start_time": "2024-10-28T19:32:36.396511",
     "status": "completed"
    },
    "tags": []
   },
   "outputs": [],
   "source": [
    "from collections import Counter\n",
    "\n",
    "# these functions are heavily influenced by the HF squad_metrics.py script\n",
    "def normalize_text(s):\n",
    "    \"\"\"Removing articles and punctuation, and standardizing whitespace are all typical text processing steps.\"\"\"\n",
    "    import string, re\n",
    "\n",
    "    def remove_articles(text):\n",
    "        regex = re.compile(r\"\\b(a|an|the)\\b\", re.UNICODE)\n",
    "        return re.sub(regex, \" \", text)\n",
    "\n",
    "    def white_space_fix(text):\n",
    "        return \" \".join(text.split())\n",
    "\n",
    "    def remove_punc(text):\n",
    "        exclude = set(string.punctuation)\n",
    "        return \"\".join(ch for ch in text if ch not in exclude)\n",
    "\n",
    "    def lower(text):\n",
    "        return text.lower()\n",
    "\n",
    "    return white_space_fix(remove_articles(remove_punc(lower(s))))\n",
    "\n",
    "def compute_exact_match(prediction, truth):\n",
    "    return int(normalize_text(prediction) == normalize_text(truth))\n",
    "\n",
    "def compute_f1(prediction, truth):\n",
    "    pred_tokens = normalize_text(prediction).split()\n",
    "    truth_tokens = normalize_text(truth).split()\n",
    "    \n",
    "    # if either the prediction or the truth is no-answer then f1 = 1 if they agree, 0 otherwise\n",
    "    if len(pred_tokens) == 0 or len(truth_tokens) == 0:\n",
    "        return int(pred_tokens == truth_tokens)\n",
    "    \n",
    "    common_tokens = Counter(pred_tokens) & Counter(truth_tokens)\n",
    "    common_tokens = sum(common_tokens.values())\n",
    "    \n",
    "    # if there are no common tokens then f1 = 0\n",
    "    if common_tokens == 0:\n",
    "        return 0\n",
    "    \n",
    "    prec = 1.0 * common_tokens / len(pred_tokens)\n",
    "    rec = 1.0 * common_tokens / len(truth_tokens)\n",
    "    \n",
    "    return 2 * (prec * rec) / (prec + rec)"
   ]
  },
  {
   "cell_type": "code",
   "execution_count": 35,
   "id": "f66981ef",
   "metadata": {
    "execution": {
     "iopub.execute_input": "2024-10-28T19:32:36.495306Z",
     "iopub.status.busy": "2024-10-28T19:32:36.494940Z",
     "iopub.status.idle": "2024-10-28T19:32:36.502942Z",
     "shell.execute_reply": "2024-10-28T19:32:36.502051Z"
    },
    "papermill": {
     "duration": 0.038485,
     "end_time": "2024-10-28T19:32:36.504936",
     "exception": false,
     "start_time": "2024-10-28T19:32:36.466451",
     "status": "completed"
    },
    "tags": []
   },
   "outputs": [],
   "source": [
    "label_all_tokens = False\n",
    "\n",
    "def align_label(qc, labels):\n",
    "    #print(qc)\n",
    "    #print(labels)\n",
    "    \n",
    "    tokenized_inputs = tokenizer(qc, max_length=512, padding=\"max_length\", truncation=True, return_attention_mask=True, add_special_tokens=True, return_tensors=\"pt\")\n",
    "    \n",
    "    word_ids = tokenized_inputs.word_ids()\n",
    "    print(word_ids)\n",
    "    previous_word_idx = None\n",
    "    label_ids = []\n",
    "\n",
    "    for word_idx in word_ids:\n",
    "        #print(word_idx)\n",
    "        if word_idx is None:\n",
    "            label_ids.append(-100)\n",
    "\n",
    "        elif word_idx != previous_word_idx:\n",
    "            try:\n",
    "                label_ids.append(labels_to_ids[labels[word_idx]])\n",
    "            except:\n",
    "                label_ids.append(-100)\n",
    "        else:\n",
    "            try:\n",
    "                label_ids.append(labels_to_ids[labels[word_idx]] if label_all_tokens else -100)\n",
    "            except:\n",
    "                label_ids.append(-100)\n",
    "        \n",
    "        #print(label_ids)\n",
    "        previous_word_idx = word_idx\n",
    "\n",
    "    return label_ids"
   ]
  },
  {
   "cell_type": "code",
   "execution_count": 36,
   "id": "d10df8c5",
   "metadata": {
    "execution": {
     "iopub.execute_input": "2024-10-28T19:32:36.562288Z",
     "iopub.status.busy": "2024-10-28T19:32:36.561920Z",
     "iopub.status.idle": "2024-10-28T19:32:36.565799Z",
     "shell.execute_reply": "2024-10-28T19:32:36.564928Z"
    },
    "papermill": {
     "duration": 0.034602,
     "end_time": "2024-10-28T19:32:36.567767",
     "exception": false,
     "start_time": "2024-10-28T19:32:36.533165",
     "status": "completed"
    },
    "tags": []
   },
   "outputs": [],
   "source": [
    "#question_context[0]\n"
   ]
  },
  {
   "cell_type": "code",
   "execution_count": 37,
   "id": "1f723c14",
   "metadata": {
    "execution": {
     "iopub.execute_input": "2024-10-28T19:32:36.624585Z",
     "iopub.status.busy": "2024-10-28T19:32:36.624224Z",
     "iopub.status.idle": "2024-10-28T19:32:36.628545Z",
     "shell.execute_reply": "2024-10-28T19:32:36.627632Z"
    },
    "papermill": {
     "duration": 0.035393,
     "end_time": "2024-10-28T19:32:36.630649",
     "exception": false,
     "start_time": "2024-10-28T19:32:36.595256",
     "status": "completed"
    },
    "tags": []
   },
   "outputs": [],
   "source": [
    "# answer[0]"
   ]
  },
  {
   "cell_type": "markdown",
   "id": "9ccd3d5b",
   "metadata": {
    "papermill": {
     "duration": 0.030391,
     "end_time": "2024-10-28T19:32:36.690669",
     "exception": false,
     "start_time": "2024-10-28T19:32:36.660278",
     "status": "completed"
    },
    "tags": []
   },
   "source": [
    "### Not needed From Here"
   ]
  },
  {
   "cell_type": "markdown",
   "id": "39e1c037",
   "metadata": {
    "papermill": {
     "duration": 0.029145,
     "end_time": "2024-10-28T19:32:36.749806",
     "exception": false,
     "start_time": "2024-10-28T19:32:36.720661",
     "status": "completed"
    },
    "tags": []
   },
   "source": [
    "From Here it is commented."
   ]
  },
  {
   "cell_type": "code",
   "execution_count": 38,
   "id": "68a57982",
   "metadata": {
    "execution": {
     "iopub.execute_input": "2024-10-28T19:32:36.808525Z",
     "iopub.status.busy": "2024-10-28T19:32:36.808148Z",
     "iopub.status.idle": "2024-10-28T19:32:36.812651Z",
     "shell.execute_reply": "2024-10-28T19:32:36.811725Z"
    },
    "papermill": {
     "duration": 0.035028,
     "end_time": "2024-10-28T19:32:36.814600",
     "exception": false,
     "start_time": "2024-10-28T19:32:36.779572",
     "status": "completed"
    },
    "tags": []
   },
   "outputs": [],
   "source": [
    "# from transformers import AutoModelForTokenClassification, AutoTokenizer\n",
    "# from normalizer import normalize # pip install git+https://github.com/csebuetnlp/normalizer\n",
    "# import torch\n",
    "\n",
    "# model = AutoModelForTokenClassification.from_pretrained(\"csebuetnlp/banglabert\", num_labels=3)\n",
    "# tokenizer = AutoTokenizer.from_pretrained(\"csebuetnlp/banglabert\", use_fast=True,)"
   ]
  },
  {
   "cell_type": "code",
   "execution_count": 39,
   "id": "ecae2564",
   "metadata": {
    "execution": {
     "iopub.execute_input": "2024-10-28T19:32:36.872966Z",
     "iopub.status.busy": "2024-10-28T19:32:36.872588Z",
     "iopub.status.idle": "2024-10-28T19:32:36.876967Z",
     "shell.execute_reply": "2024-10-28T19:32:36.876147Z"
    },
    "papermill": {
     "duration": 0.03601,
     "end_time": "2024-10-28T19:32:36.879112",
     "exception": false,
     "start_time": "2024-10-28T19:32:36.843102",
     "status": "completed"
    },
    "tags": []
   },
   "outputs": [],
   "source": [
    "# ins = []\n",
    "# outs = []\n",
    "# for i in range(3):\n",
    "#   ins.append(tokenizer(question_context[i], max_length=512, padding=\"max_length\", truncation=True, return_attention_mask=True, add_special_tokens=True, return_tensors=\"pt\"))\n",
    "#   outs.append(align_label(question_context[i], answer[i]))"
   ]
  },
  {
   "cell_type": "code",
   "execution_count": 40,
   "id": "f993adca",
   "metadata": {
    "execution": {
     "iopub.execute_input": "2024-10-28T19:32:36.935562Z",
     "iopub.status.busy": "2024-10-28T19:32:36.935248Z",
     "iopub.status.idle": "2024-10-28T19:32:36.939218Z",
     "shell.execute_reply": "2024-10-28T19:32:36.938381Z"
    },
    "papermill": {
     "duration": 0.034426,
     "end_time": "2024-10-28T19:32:36.941308",
     "exception": false,
     "start_time": "2024-10-28T19:32:36.906882",
     "status": "completed"
    },
    "tags": []
   },
   "outputs": [],
   "source": [
    "# ins[2]"
   ]
  },
  {
   "cell_type": "code",
   "execution_count": 41,
   "id": "01b954a6",
   "metadata": {
    "execution": {
     "iopub.execute_input": "2024-10-28T19:32:36.998548Z",
     "iopub.status.busy": "2024-10-28T19:32:36.997833Z",
     "iopub.status.idle": "2024-10-28T19:32:37.002278Z",
     "shell.execute_reply": "2024-10-28T19:32:37.001328Z"
    },
    "papermill": {
     "duration": 0.035195,
     "end_time": "2024-10-28T19:32:37.004339",
     "exception": false,
     "start_time": "2024-10-28T19:32:36.969144",
     "status": "completed"
    },
    "tags": []
   },
   "outputs": [],
   "source": [
    "# outs[2]"
   ]
  },
  {
   "cell_type": "markdown",
   "id": "b56c4e26",
   "metadata": {
    "papermill": {
     "duration": 0.027153,
     "end_time": "2024-10-28T19:32:37.059540",
     "exception": false,
     "start_time": "2024-10-28T19:32:37.032387",
     "status": "completed"
    },
    "tags": []
   },
   "source": [
    "Till now"
   ]
  },
  {
   "cell_type": "code",
   "execution_count": 42,
   "id": "6e7279e9",
   "metadata": {
    "execution": {
     "iopub.execute_input": "2024-10-28T19:32:37.119737Z",
     "iopub.status.busy": "2024-10-28T19:32:37.119320Z",
     "iopub.status.idle": "2024-10-28T19:32:37.124201Z",
     "shell.execute_reply": "2024-10-28T19:32:37.123308Z"
    },
    "papermill": {
     "duration": 0.036829,
     "end_time": "2024-10-28T19:32:37.126236",
     "exception": false,
     "start_time": "2024-10-28T19:32:37.089407",
     "status": "completed"
    },
    "tags": []
   },
   "outputs": [],
   "source": [
    "# from torch.utils.data import Dataset\n",
    "\n",
    "# class CustomDataset(Dataset):\n",
    "#     def __init__(self, data_dict):\n",
    "#         self.data = data_dict\n",
    "\n",
    "#     def __len__(self):\n",
    "#         return len(self.data[\"inputs\"])  # Assuming equal lengths for inputs and outputs\n",
    "\n",
    "# def __getitem__(self, idx):\n",
    "#     inputs, outputs = super().__getitem__(idx)  # Assuming `inputs` is a BatchEncoding\n",
    "#     return {\"input_ids\": inputs, \"outputs\": outputs}  # Wrap in a dictionary\n",
    "\n",
    "\n",
    "# training_dataset = CustomDataset(training_data)  # Pass the dictionary to create the dataset"
   ]
  },
  {
   "cell_type": "code",
   "execution_count": 43,
   "id": "c1c870f7",
   "metadata": {
    "execution": {
     "iopub.execute_input": "2024-10-28T19:32:37.183849Z",
     "iopub.status.busy": "2024-10-28T19:32:37.183147Z",
     "iopub.status.idle": "2024-10-28T19:32:37.187148Z",
     "shell.execute_reply": "2024-10-28T19:32:37.186149Z"
    },
    "papermill": {
     "duration": 0.034696,
     "end_time": "2024-10-28T19:32:37.188962",
     "exception": false,
     "start_time": "2024-10-28T19:32:37.154266",
     "status": "completed"
    },
    "tags": []
   },
   "outputs": [],
   "source": [
    "# print(type(ins[0]))"
   ]
  },
  {
   "cell_type": "code",
   "execution_count": 44,
   "id": "13415293",
   "metadata": {
    "execution": {
     "iopub.execute_input": "2024-10-28T19:32:37.246386Z",
     "iopub.status.busy": "2024-10-28T19:32:37.245685Z",
     "iopub.status.idle": "2024-10-28T19:32:37.249989Z",
     "shell.execute_reply": "2024-10-28T19:32:37.249033Z"
    },
    "papermill": {
     "duration": 0.035819,
     "end_time": "2024-10-28T19:32:37.252151",
     "exception": false,
     "start_time": "2024-10-28T19:32:37.216332",
     "status": "completed"
    },
    "tags": []
   },
   "outputs": [],
   "source": [
    "# print(type(outs[0]))"
   ]
  },
  {
   "cell_type": "code",
   "execution_count": 45,
   "id": "6c4d0bca",
   "metadata": {
    "execution": {
     "iopub.execute_input": "2024-10-28T19:32:37.308230Z",
     "iopub.status.busy": "2024-10-28T19:32:37.307885Z",
     "iopub.status.idle": "2024-10-28T19:32:37.312178Z",
     "shell.execute_reply": "2024-10-28T19:32:37.311341Z"
    },
    "papermill": {
     "duration": 0.034428,
     "end_time": "2024-10-28T19:32:37.314048",
     "exception": false,
     "start_time": "2024-10-28T19:32:37.279620",
     "status": "completed"
    },
    "tags": []
   },
   "outputs": [],
   "source": [
    "# def combine_to_dict(source_data, target_data):\n",
    "    \n",
    "# #    combined_data = [{\"qc\": src.strip(), \"label\": tgt.strip()} for src, tgt in zip(source_data, target_data)]\n",
    "#     return Dataset.from_dict({\n",
    "#          \"qc\": source_data,\n",
    "#          \"label\": target_data\n",
    "#      }\n",
    "#     )\n",
    "\n",
    "# # Load train, and validation data into separate variables\n",
    "# train_data = combine_to_dict(ins, outs)\n",
    "# validation_data = combine_to_dict(ins_val, outs_val)"
   ]
  },
  {
   "cell_type": "code",
   "execution_count": 46,
   "id": "5ca1fb91",
   "metadata": {
    "execution": {
     "iopub.execute_input": "2024-10-28T19:32:37.370829Z",
     "iopub.status.busy": "2024-10-28T19:32:37.370461Z",
     "iopub.status.idle": "2024-10-28T19:32:37.374901Z",
     "shell.execute_reply": "2024-10-28T19:32:37.374048Z"
    },
    "papermill": {
     "duration": 0.034939,
     "end_time": "2024-10-28T19:32:37.376812",
     "exception": false,
     "start_time": "2024-10-28T19:32:37.341873",
     "status": "completed"
    },
    "tags": []
   },
   "outputs": [],
   "source": [
    "# training_data = []  # Store preprocessed data as dictionaries\n",
    "\n",
    "# for i in range(len(context)):\n",
    "#     # Tokenize text input\n",
    "#     tokenized_text = tokenizer(question_context[i], max_length=512, padding=\"max_length\", truncation=True, return_attention_mask=True, add_special_tokens=True, return_tensors=\"pt\")\n",
    "\n",
    "#     # Align label (assuming `align_label` already aligns with tokenized input)\n",
    "#     aligned_label = align_label(question_context[i], answer[i])\n",
    "\n",
    "#     # Create dictionary for this example\n",
    "#     data_dict = {\n",
    "#         \"text\": tokenized_text,\n",
    "#         \"label\": aligned_label\n",
    "#     }\n",
    "\n",
    "#     training_data.append(data_dict)"
   ]
  },
  {
   "cell_type": "code",
   "execution_count": 47,
   "id": "52a6e9ef",
   "metadata": {
    "execution": {
     "iopub.execute_input": "2024-10-28T19:32:37.433210Z",
     "iopub.status.busy": "2024-10-28T19:32:37.432524Z",
     "iopub.status.idle": "2024-10-28T19:32:37.436781Z",
     "shell.execute_reply": "2024-10-28T19:32:37.435874Z"
    },
    "papermill": {
     "duration": 0.034817,
     "end_time": "2024-10-28T19:32:37.438738",
     "exception": false,
     "start_time": "2024-10-28T19:32:37.403921",
     "status": "completed"
    },
    "tags": []
   },
   "outputs": [],
   "source": [
    "# training_data"
   ]
  },
  {
   "cell_type": "code",
   "execution_count": 48,
   "id": "5a2737d2",
   "metadata": {
    "execution": {
     "iopub.execute_input": "2024-10-28T19:32:37.495875Z",
     "iopub.status.busy": "2024-10-28T19:32:37.494893Z",
     "iopub.status.idle": "2024-10-28T19:32:37.499872Z",
     "shell.execute_reply": "2024-10-28T19:32:37.498900Z"
    },
    "papermill": {
     "duration": 0.035993,
     "end_time": "2024-10-28T19:32:37.502031",
     "exception": false,
     "start_time": "2024-10-28T19:32:37.466038",
     "status": "completed"
    },
    "tags": []
   },
   "outputs": [],
   "source": [
    "# validation_data = []  # Store preprocessed data as dictionaries\n",
    "\n",
    "# for i in range(len(context_val)):\n",
    "#     # Tokenize text input\n",
    "#     tokenized_text = tokenizer(question_context_val[i], max_length=512, padding=\"max_length\", truncation=True, return_attention_mask=True, add_special_tokens=True, return_tensors=\"pt\")\n",
    "\n",
    "#     # Align label (assuming `align_label` already aligns with tokenized input)\n",
    "#     aligned_label = align_label(question_context_val[i], answer_val[i])\n",
    "\n",
    "#     # Create dictionary for this example\n",
    "#     data_dict_val = {\n",
    "#         \"text\": tokenized_text,\n",
    "#         \"label\": aligned_label\n",
    "#     }\n",
    "\n",
    "#     validation_data.append(data_dict_val)"
   ]
  },
  {
   "cell_type": "code",
   "execution_count": 49,
   "id": "e4f158de",
   "metadata": {
    "execution": {
     "iopub.execute_input": "2024-10-28T19:32:37.558259Z",
     "iopub.status.busy": "2024-10-28T19:32:37.557848Z",
     "iopub.status.idle": "2024-10-28T19:32:37.562123Z",
     "shell.execute_reply": "2024-10-28T19:32:37.561206Z"
    },
    "papermill": {
     "duration": 0.034781,
     "end_time": "2024-10-28T19:32:37.564258",
     "exception": false,
     "start_time": "2024-10-28T19:32:37.529477",
     "status": "completed"
    },
    "tags": []
   },
   "outputs": [],
   "source": [
    "# print(type(validation_data))"
   ]
  },
  {
   "cell_type": "code",
   "execution_count": 50,
   "id": "7b8e8657",
   "metadata": {
    "execution": {
     "iopub.execute_input": "2024-10-28T19:32:37.620490Z",
     "iopub.status.busy": "2024-10-28T19:32:37.620110Z",
     "iopub.status.idle": "2024-10-28T19:32:37.625141Z",
     "shell.execute_reply": "2024-10-28T19:32:37.624181Z"
    },
    "papermill": {
     "duration": 0.035434,
     "end_time": "2024-10-28T19:32:37.626957",
     "exception": false,
     "start_time": "2024-10-28T19:32:37.591523",
     "status": "completed"
    },
    "tags": []
   },
   "outputs": [],
   "source": [
    "# class DataSequence(torch.utils.data.Dataset):\n",
    "   \n",
    "#     def __init__(self, i, o, tokenizer):\n",
    "#         self.texts = i\n",
    "#         self.labels = o\n",
    "#         self.tokenizer = tokenizer  # Store the tokenizer\n",
    "\n",
    "#     def __len__(self):\n",
    "\n",
    "#         return len(self.labels)\n",
    "\n",
    "#     def get_batch_data(self, idx):\n",
    "\n",
    "#         return self.texts[idx]\n",
    "\n",
    "#     def get_batch_labels(self, idx):\n",
    "\n",
    "#         return torch.LongTensor(self.labels[idx])\n",
    "\n",
    "#     def __getitem__(self, idx):\n",
    "#         text_data = self.get_batch_data(idx)\n",
    "#         input_ids = self.tokenizer(text_data, return_tensors=\"pt\").input_ids  # Add tokenization\n",
    "#         batch_labels = self.get_batch_labels(idx)\n",
    "#         return {\"input_ids\": input_ids, \"labels\": batch_labels}  # Return as a dictionary\n",
    "\n"
   ]
  },
  {
   "cell_type": "code",
   "execution_count": 51,
   "id": "510896eb",
   "metadata": {
    "execution": {
     "iopub.execute_input": "2024-10-28T19:32:37.682663Z",
     "iopub.status.busy": "2024-10-28T19:32:37.682125Z",
     "iopub.status.idle": "2024-10-28T19:32:37.686214Z",
     "shell.execute_reply": "2024-10-28T19:32:37.685348Z"
    },
    "papermill": {
     "duration": 0.034091,
     "end_time": "2024-10-28T19:32:37.688184",
     "exception": false,
     "start_time": "2024-10-28T19:32:37.654093",
     "status": "completed"
    },
    "tags": []
   },
   "outputs": [],
   "source": [
    "# train_dataset = DataSequence(ins, outs, tokenizer)"
   ]
  },
  {
   "cell_type": "code",
   "execution_count": 52,
   "id": "76d9960a",
   "metadata": {
    "execution": {
     "iopub.execute_input": "2024-10-28T19:32:37.744789Z",
     "iopub.status.busy": "2024-10-28T19:32:37.744426Z",
     "iopub.status.idle": "2024-10-28T19:32:37.748674Z",
     "shell.execute_reply": "2024-10-28T19:32:37.747763Z"
    },
    "papermill": {
     "duration": 0.035103,
     "end_time": "2024-10-28T19:32:37.750671",
     "exception": false,
     "start_time": "2024-10-28T19:32:37.715568",
     "status": "completed"
    },
    "tags": []
   },
   "outputs": [],
   "source": [
    "# print(type(train_dataset))"
   ]
  },
  {
   "cell_type": "code",
   "execution_count": null,
   "id": "39db5694",
   "metadata": {
    "papermill": {
     "duration": 0.02742,
     "end_time": "2024-10-28T19:32:37.804838",
     "exception": false,
     "start_time": "2024-10-28T19:32:37.777418",
     "status": "completed"
    },
    "tags": []
   },
   "outputs": [],
   "source": []
  },
  {
   "cell_type": "markdown",
   "id": "2f32d92a",
   "metadata": {
    "papermill": {
     "duration": 0.026804,
     "end_time": "2024-10-28T19:32:37.858752",
     "exception": false,
     "start_time": "2024-10-28T19:32:37.831948",
     "status": "completed"
    },
    "tags": []
   },
   "source": [
    "### Validation"
   ]
  },
  {
   "cell_type": "code",
   "execution_count": 53,
   "id": "12f475ab",
   "metadata": {
    "execution": {
     "iopub.execute_input": "2024-10-28T19:32:37.915816Z",
     "iopub.status.busy": "2024-10-28T19:32:37.914906Z",
     "iopub.status.idle": "2024-10-28T19:32:37.919185Z",
     "shell.execute_reply": "2024-10-28T19:32:37.918338Z"
    },
    "papermill": {
     "duration": 0.034774,
     "end_time": "2024-10-28T19:32:37.921317",
     "exception": false,
     "start_time": "2024-10-28T19:32:37.886543",
     "status": "completed"
    },
    "tags": []
   },
   "outputs": [],
   "source": [
    "# ins_val = []\n",
    "# outs_val = []\n",
    "# for i in range(len(context_val)):\n",
    "#   ins_val.append(tokenizer(question_context_val[i], max_length=512, padding=\"max_length\", truncation=True, return_attention_mask=True, add_special_tokens=True, return_tensors=\"pt\"))\n",
    "#   outs_val.append(align_label(question_context_val[i], answer_val[i]))"
   ]
  },
  {
   "cell_type": "code",
   "execution_count": 54,
   "id": "68407558",
   "metadata": {
    "execution": {
     "iopub.execute_input": "2024-10-28T19:32:37.978117Z",
     "iopub.status.busy": "2024-10-28T19:32:37.977287Z",
     "iopub.status.idle": "2024-10-28T19:32:37.981654Z",
     "shell.execute_reply": "2024-10-28T19:32:37.980733Z"
    },
    "papermill": {
     "duration": 0.034808,
     "end_time": "2024-10-28T19:32:37.983497",
     "exception": false,
     "start_time": "2024-10-28T19:32:37.948689",
     "status": "completed"
    },
    "tags": []
   },
   "outputs": [],
   "source": [
    "# validation_dataset = DataSequence(ins_val, outs_val)"
   ]
  },
  {
   "cell_type": "code",
   "execution_count": 55,
   "id": "bd15b97c",
   "metadata": {
    "execution": {
     "iopub.execute_input": "2024-10-28T19:32:38.039876Z",
     "iopub.status.busy": "2024-10-28T19:32:38.039496Z",
     "iopub.status.idle": "2024-10-28T19:32:38.043690Z",
     "shell.execute_reply": "2024-10-28T19:32:38.042829Z"
    },
    "papermill": {
     "duration": 0.035175,
     "end_time": "2024-10-28T19:32:38.045622",
     "exception": false,
     "start_time": "2024-10-28T19:32:38.010447",
     "status": "completed"
    },
    "tags": []
   },
   "outputs": [],
   "source": [
    "# print(type(train_dataset))"
   ]
  },
  {
   "cell_type": "code",
   "execution_count": 56,
   "id": "6e4cb1a6",
   "metadata": {
    "_kg_hide-input": false,
    "execution": {
     "iopub.execute_input": "2024-10-28T19:32:38.102705Z",
     "iopub.status.busy": "2024-10-28T19:32:38.102422Z",
     "iopub.status.idle": "2024-10-28T19:32:38.108239Z",
     "shell.execute_reply": "2024-10-28T19:32:38.107273Z"
    },
    "papermill": {
     "duration": 0.037692,
     "end_time": "2024-10-28T19:32:38.110389",
     "exception": false,
     "start_time": "2024-10-28T19:32:38.072697",
     "status": "completed"
    },
    "tags": []
   },
   "outputs": [],
   "source": [
    "# def align_word_ids(qc):\n",
    "  \n",
    "#     tokenized_inputs = tokenizer(qc, max_length=512, padding=\"max_length\", truncation=True, return_attention_mask=True, add_special_tokens=True, return_tensors=\"pt\")\n",
    "#     #print(qc)\n",
    "#     word_ids = tokenized_inputs.word_ids()\n",
    "#     #print(word_ids)\n",
    "#     previous_word_idx = None\n",
    "#     label_ids = []\n",
    "\n",
    "#     for word_idx in word_ids:\n",
    "\n",
    "#         if word_idx is None:\n",
    "#             label_ids.append(-100)\n",
    "\n",
    "#         elif word_idx != previous_word_idx:\n",
    "#             try:\n",
    "#                 label_ids.append(1)\n",
    "#             except:\n",
    "#                 label_ids.append(-100)\n",
    "#         else:\n",
    "#             try:\n",
    "#                 label_ids.append(1 if label_all_tokens else -100)\n",
    "#             except:\n",
    "#                 label_ids.append(-100)\n",
    "#         previous_word_idx = word_idx\n",
    "\n",
    "#     return label_ids\n",
    "\n",
    "# def evaluate_one_text(qc):\n",
    "\n",
    "#     text = tokenizer(qc, max_length=512, padding=\"max_length\", truncation=True, return_attention_mask=True, add_special_tokens=True, return_tensors=\"pt\")\n",
    "    \n",
    "#     mask = text['attention_mask'].to(device)\n",
    "#     input_id = text['input_ids'].to(device)\n",
    "#     label_ids = torch.Tensor(align_word_ids(qc)).unsqueeze(0).to(device)\n",
    "\n",
    "#     logits = model(input_id, mask, None)\n",
    "#     #print(logits[0])\n",
    "#     #print(len(logits[0][0]))\n",
    "#     #logits_clean = logits[0][label_ids != -100]\n",
    "#     #print(logits_clean)\n",
    "#     #print(logits[0][0])\n",
    "\n",
    "#     predictions = logits[0][0].argmax(dim=1).tolist()\n",
    "#     #print(predictions)\n",
    "#     prediction_label = [ids_to_labels[i] for i in predictions]\n",
    "#     #print(prediction_label)\n",
    "\n",
    "#     #print(input_id)\n",
    "#     a = tokenizer.convert_ids_to_tokens(input_id[0])\n",
    "#     #print(a)\n",
    "#     '''\n",
    "#     print(prediction_label)\n",
    "#     print(len(prediction_label))\n",
    "#     print(a)\n",
    "#     print(len(a))\n",
    "#     '''\n",
    "#     ans = ''\n",
    "#     ind = True\n",
    "#     for i in range(len(prediction_label)):\n",
    "#       #print(i)\n",
    "#       if(prediction_label[i] == 'B' and ind == True):\n",
    "#         ans = ans + a[i]\n",
    "#         ind = False\n",
    "#       elif (prediction_label[i] == 'B'):\n",
    "#         ans = ans + '; ' + a[i]\n",
    "#       elif (label_ids[0][i] == -100 and prediction_label[i] == 'I'):\n",
    "#         ans = ans + a[i]\n",
    "#       elif (prediction_label[i] == 'I'):\n",
    "#         ans = ans + ' ' + a[i]\n",
    "\n",
    "#     return ans\n",
    "     \n"
   ]
  },
  {
   "cell_type": "code",
   "execution_count": 57,
   "id": "31ac01a9",
   "metadata": {
    "execution": {
     "iopub.execute_input": "2024-10-28T19:32:38.168413Z",
     "iopub.status.busy": "2024-10-28T19:32:38.167502Z",
     "iopub.status.idle": "2024-10-28T19:32:38.172293Z",
     "shell.execute_reply": "2024-10-28T19:32:38.171369Z"
    },
    "papermill": {
     "duration": 0.035726,
     "end_time": "2024-10-28T19:32:38.174431",
     "exception": false,
     "start_time": "2024-10-28T19:32:38.138705",
     "status": "completed"
    },
    "tags": []
   },
   "outputs": [],
   "source": [
    "# checkpoint_dir = '/kaggle/working/' "
   ]
  },
  {
   "cell_type": "code",
   "execution_count": 58,
   "id": "77a01329",
   "metadata": {
    "execution": {
     "iopub.execute_input": "2024-10-28T19:32:38.231839Z",
     "iopub.status.busy": "2024-10-28T19:32:38.231508Z",
     "iopub.status.idle": "2024-10-28T19:32:38.238376Z",
     "shell.execute_reply": "2024-10-28T19:32:38.237306Z"
    },
    "papermill": {
     "duration": 0.038325,
     "end_time": "2024-10-28T19:32:38.240691",
     "exception": false,
     "start_time": "2024-10-28T19:32:38.202366",
     "status": "completed"
    },
    "tags": []
   },
   "outputs": [],
   "source": [
    "# from torch.utils.data import DataLoader\n",
    "# from transformers import AdamW\n",
    "# from tqdm import tqdm\n",
    "\n",
    "# # setup GPU/CPU\n",
    "# device = torch.device('cuda') if torch.cuda.is_available() else torch.device('cpu')\n",
    "# # move model over to detected device\n",
    "# model.to(device)\n",
    "\n",
    "# model.config.architectures = ['ElectraForTokenClassification']\n",
    "# # activate training mode of model\n",
    "# model.train()\n",
    "# # initialize adam optimizer with weight decay (reduces chance of overfitting)\n",
    "# optim = AdamW(model.parameters(), lr=2e-5)\n",
    "\n",
    "# # initialize data loader for training data\n",
    "# train_loader = DataLoader(train_dataset, batch_size=8, shuffle=True)\n",
    "\n",
    "# for epoch in range(15):\n",
    "#     # set model to train mode\n",
    "#     model.train()\n",
    "#     model_name = 'banglaBERT_model_weights_epoch_' + str(epoch) + '.pth'\n",
    "#     # setup loop (we use tqdm for the progress bar)\n",
    "#     loop = tqdm(train_loader, leave=True)\n",
    "#     for train_data, train_label in loop:\n",
    "#         # initialize calculated gradients (from prev step)\n",
    "#         optim.zero_grad()\n",
    "#         # pull all the tensor batches required for training\n",
    "#         input_ids = train_data['input_ids'].squeeze(1).to(device)\n",
    "#         attention_mask = train_data['attention_mask'].squeeze(1).to(device)\n",
    "#         labels = train_label.to(device)\n",
    "      \n",
    "#         outputs = model(input_ids=input_ids, \n",
    "#                           attention_mask=attention_mask, \n",
    "#                             labels = labels)\n",
    "#         #print(outputs)\n",
    "#         # extract loss\n",
    "#         loss = outputs[0]\n",
    "#         #print(loss)\n",
    "#         # calculate loss for every parameter that needs grad update \n",
    "#         loss.backward()\n",
    "#         # update parameters\n",
    "#         optim.step()\n",
    "\n",
    "#         #print(outputs)\n",
    "#         #print(model.config.architectures)\n",
    "#         # print relevant info to progress bar\n",
    "#         loop.set_description(f'Epoch {epoch}')\n",
    "#         loop.set_postfix(loss=loss.item())\n",
    "#         torch.save({\n",
    "#         'epoch': epoch,\n",
    "#         'model_state_dict': model.state_dict(),\n",
    "#         'optimizer_state_dict': optim.state_dict(),\n",
    "#         'loss': loss,\n",
    "        \n",
    "#         }, os.path.join(checkpoint_dir,model_name))\n",
    "    \n",
    "#     optim.zero_grad()\n",
    "#     model.eval()\n",
    "\n",
    "\n",
    "#     f1_total = 0.0\n",
    "#     em_total = 0.0\n",
    "\n",
    "#     with torch.no_grad():\n",
    "#       l = len(context_val)\n",
    "#       for i in range(l):\n",
    "#           pred = evaluate_one_text(question_val[i] + ' হ্যাঁ না । ' + context_val[i])\n",
    "#           pred = pred.replace('#', '')\n",
    "#           #if(i<10):\n",
    "#             #print(pred)\n",
    "#           f1_total = f1_total + compute_f1(pred, answer_val[i])\n",
    "#           em_total = em_total + compute_exact_match(pred, answer_val[i])\n",
    "\n",
    "#       print(\"Epoch\", epoch)\n",
    "#       print('F1: ', f1_total/l)\n",
    "#       print('EM: ', em_total/l)  "
   ]
  },
  {
   "cell_type": "code",
   "execution_count": 59,
   "id": "943eedce",
   "metadata": {
    "execution": {
     "iopub.execute_input": "2024-10-28T19:32:38.297486Z",
     "iopub.status.busy": "2024-10-28T19:32:38.297133Z",
     "iopub.status.idle": "2024-10-28T19:32:38.301634Z",
     "shell.execute_reply": "2024-10-28T19:32:38.300780Z"
    },
    "papermill": {
     "duration": 0.034867,
     "end_time": "2024-10-28T19:32:38.303597",
     "exception": false,
     "start_time": "2024-10-28T19:32:38.268730",
     "status": "completed"
    },
    "tags": []
   },
   "outputs": [],
   "source": [
    "# with torch.no_grad():\n",
    "#       l = len(context_val)\n",
    "#       for i in range(l):\n",
    "#           print(i)\n",
    "#           pred = evaluate_one_text(question_context[i])\n",
    "#           pred = pred.replace('#', '')\n",
    "#           if(i<10):\n",
    "#             print(pred)\n",
    "#             print(answer_raw[i])\n",
    "#           else:\n",
    "#             break"
   ]
  },
  {
   "cell_type": "markdown",
   "id": "2f71be32",
   "metadata": {
    "papermill": {
     "duration": 0.026903,
     "end_time": "2024-10-28T19:32:38.358007",
     "exception": false,
     "start_time": "2024-10-28T19:32:38.331104",
     "status": "completed"
    },
    "tags": []
   },
   "source": [
    "### Model Load"
   ]
  },
  {
   "cell_type": "markdown",
   "id": "9b20eb87",
   "metadata": {
    "papermill": {
     "duration": 0.02818,
     "end_time": "2024-10-28T19:32:38.413832",
     "exception": false,
     "start_time": "2024-10-28T19:32:38.385652",
     "status": "completed"
    },
    "tags": []
   },
   "source": [
    "From there, this is commented"
   ]
  },
  {
   "cell_type": "code",
   "execution_count": 60,
   "id": "5e4eeef7",
   "metadata": {
    "execution": {
     "iopub.execute_input": "2024-10-28T19:32:38.470620Z",
     "iopub.status.busy": "2024-10-28T19:32:38.469794Z",
     "iopub.status.idle": "2024-10-28T19:32:38.474261Z",
     "shell.execute_reply": "2024-10-28T19:32:38.473371Z"
    },
    "papermill": {
     "duration": 0.034734,
     "end_time": "2024-10-28T19:32:38.476341",
     "exception": false,
     "start_time": "2024-10-28T19:32:38.441607",
     "status": "completed"
    },
    "tags": []
   },
   "outputs": [],
   "source": [
    "# import torch\n",
    "# from transformers import AutoTokenizer, AutoModelForCausalLM, BitsAndBytesConfig\n",
    "# import transformers\n",
    "\n",
    "# model_id = '/kaggle/input/llama-2/pytorch/7b-chat-hf/1'\n",
    "\n",
    "# bnb_config = BitsAndBytesConfig(\n",
    "#     load_in_4bit=True,\n",
    "#     bnb_4bit_use_double_quant=True,\n",
    "#     bnb_4bit_quant_type=\"nf4\",\n",
    "#     bnb_4bit_compute_dtype=torch.bfloat16\n",
    "# )\n",
    "\n",
    "# model_2 = AutoModelForCausalLM.from_pretrained(model_id, quantization_config=bnb_config, device_map=\"auto\")\n",
    "\n",
    "# tokenizer_2 = AutoTokenizer.from_pretrained(model_id)\n",
    "# tokenizer_2.pad_token = tokenizer.eos_token\n",
    "# tokenizer_2.padding_side = \"right\""
   ]
  },
  {
   "cell_type": "code",
   "execution_count": 61,
   "id": "6f68dbdc",
   "metadata": {
    "execution": {
     "iopub.execute_input": "2024-10-28T19:32:38.531056Z",
     "iopub.status.busy": "2024-10-28T19:32:38.530713Z",
     "iopub.status.idle": "2024-10-28T19:32:38.534900Z",
     "shell.execute_reply": "2024-10-28T19:32:38.533958Z"
    },
    "papermill": {
     "duration": 0.033784,
     "end_time": "2024-10-28T19:32:38.536919",
     "exception": false,
     "start_time": "2024-10-28T19:32:38.503135",
     "status": "completed"
    },
    "tags": []
   },
   "outputs": [],
   "source": [
    "# def print_trainable_parameters(model):\n",
    "#     \"\"\"\n",
    "#     Prints the number of trainable parameters in the model.\n",
    "#     \"\"\"\n",
    "#     trainable_params = 0\n",
    "#     all_param = 0\n",
    "#     for _, param in model.named_parameters():\n",
    "\n",
    "#         all_param += param.numel()\n",
    "#         if param.requires_grad:\n",
    "#             trainable_params += param.numel()\n",
    "#     print(\n",
    "#         f\"trainable params: {trainable_params} || all params: {all_param} || trainable%: {100 * trainable_params / all_param}\"\n",
    "#     )"
   ]
  },
  {
   "cell_type": "code",
   "execution_count": 62,
   "id": "e9c468e4",
   "metadata": {
    "execution": {
     "iopub.execute_input": "2024-10-28T19:32:38.593700Z",
     "iopub.status.busy": "2024-10-28T19:32:38.592862Z",
     "iopub.status.idle": "2024-10-28T19:32:38.597110Z",
     "shell.execute_reply": "2024-10-28T19:32:38.596201Z"
    },
    "papermill": {
     "duration": 0.034578,
     "end_time": "2024-10-28T19:32:38.598946",
     "exception": false,
     "start_time": "2024-10-28T19:32:38.564368",
     "status": "completed"
    },
    "tags": []
   },
   "outputs": [],
   "source": [
    "# from peft import prepare_model_for_kbit_training\n",
    "\n",
    "# model.gradient_checkpointing_enable()\n",
    "# model = prepare_model_for_kbit_training(model)\n",
    "\n",
    "# print(model)"
   ]
  },
  {
   "cell_type": "code",
   "execution_count": 63,
   "id": "75c9d842",
   "metadata": {
    "execution": {
     "iopub.execute_input": "2024-10-28T19:32:38.654528Z",
     "iopub.status.busy": "2024-10-28T19:32:38.654216Z",
     "iopub.status.idle": "2024-10-28T19:32:38.658472Z",
     "shell.execute_reply": "2024-10-28T19:32:38.657717Z"
    },
    "papermill": {
     "duration": 0.03458,
     "end_time": "2024-10-28T19:32:38.660470",
     "exception": false,
     "start_time": "2024-10-28T19:32:38.625890",
     "status": "completed"
    },
    "tags": []
   },
   "outputs": [],
   "source": [
    "# from peft import LoraConfig, get_peft_model\n",
    "\n",
    "# lora_config = LoraConfig(\n",
    "#     r=16,\n",
    "#     lora_alpha=64,\n",
    "#     # target_modules=[\"query_key_value\"],\n",
    "#     target_modules=[\"q_proj\", \"k_proj\", \"v_proj\", \"o_proj\"], #specific to Llama models.\n",
    "#     lora_dropout=0.1,\n",
    "#     bias=\"none\",\n",
    "#     task_type=\"CAUSAL_LM\"\n",
    "# )\n",
    "\n",
    "# model = get_peft_model(model_2, lora_config)\n",
    "# print_trainable_parameters(model_2)"
   ]
  },
  {
   "cell_type": "code",
   "execution_count": 64,
   "id": "f2b50ea7",
   "metadata": {
    "execution": {
     "iopub.execute_input": "2024-10-28T19:32:38.716697Z",
     "iopub.status.busy": "2024-10-28T19:32:38.716022Z",
     "iopub.status.idle": "2024-10-28T19:32:38.720480Z",
     "shell.execute_reply": "2024-10-28T19:32:38.719504Z"
    },
    "papermill": {
     "duration": 0.034893,
     "end_time": "2024-10-28T19:32:38.722498",
     "exception": false,
     "start_time": "2024-10-28T19:32:38.687605",
     "status": "completed"
    },
    "tags": []
   },
   "outputs": [],
   "source": [
    "# import tensorflow as tf\n",
    "# import os\n",
    "\n",
    "# log_dir = '/kaggle/working/llama2-docsum-adapter/runs'  \n",
    "# summary_writer = tf.summary.create_file_writer(log_dir)\n",
    "\n",
    "# # with summary_writer.as_default():\n",
    "# #     tf.summary.scalar('loss', loss, step=epoch)\n",
    "\n",
    "# os.makedirs(log_dir, exist_ok=True)\n",
    "\n",
    "\n",
    "\n",
    "# OUTPUT_DIR = \"/kaggle/working/llama2-docsum-adapter\"\n",
    "\n",
    "# # %load_ext tensorboard\n",
    "# # %tensorboard --logdir llama2-docsum-adapter/runs"
   ]
  },
  {
   "cell_type": "code",
   "execution_count": 65,
   "id": "2bcd6e62",
   "metadata": {
    "execution": {
     "iopub.execute_input": "2024-10-28T19:32:38.780828Z",
     "iopub.status.busy": "2024-10-28T19:32:38.780414Z",
     "iopub.status.idle": "2024-10-28T19:32:38.785204Z",
     "shell.execute_reply": "2024-10-28T19:32:38.784307Z"
    },
    "papermill": {
     "duration": 0.036277,
     "end_time": "2024-10-28T19:32:38.787152",
     "exception": false,
     "start_time": "2024-10-28T19:32:38.750875",
     "status": "completed"
    },
    "tags": []
   },
   "outputs": [],
   "source": [
    "# from transformers import TrainingArguments\n",
    "\n",
    "# training_arguments = TrainingArguments(\n",
    "#     per_device_train_batch_size=4,\n",
    "#     gradient_accumulation_steps=4,\n",
    "#     optim=\"paged_adamw_32bit\",\n",
    "#     logging_steps=1,\n",
    "#     learning_rate=1e-4,\n",
    "#     fp16=True,\n",
    "#     max_grad_norm=0.3,\n",
    "#     num_train_epochs=3,\n",
    "#     evaluation_strategy=\"steps\",\n",
    "#     eval_steps=0.2,\n",
    "#     warmup_ratio=0.05,\n",
    "#     save_strategy=\"epoch\",\n",
    "#     group_by_length=True,\n",
    "#     output_dir=OUTPUT_DIR,\n",
    "# #     report_to=\"tensorboard\",\n",
    "#     save_safetensors=True,\n",
    "#     lr_scheduler_type=\"cosine\",\n",
    "#     seed=42,\n",
    "# )\n",
    "# model.config.use_cache = False  # silence the warnings. Please re-enable for inference!"
   ]
  },
  {
   "cell_type": "code",
   "execution_count": 66,
   "id": "7fdc8390",
   "metadata": {
    "execution": {
     "iopub.execute_input": "2024-10-28T19:32:38.843707Z",
     "iopub.status.busy": "2024-10-28T19:32:38.843345Z",
     "iopub.status.idle": "2024-10-28T19:32:38.847491Z",
     "shell.execute_reply": "2024-10-28T19:32:38.846760Z"
    },
    "papermill": {
     "duration": 0.034929,
     "end_time": "2024-10-28T19:32:38.849460",
     "exception": false,
     "start_time": "2024-10-28T19:32:38.814531",
     "status": "completed"
    },
    "tags": []
   },
   "outputs": [],
   "source": [
    "# from trl import SFTTrainer\n",
    "# trainer = SFTTrainer(\n",
    "#     model=model_2,\n",
    "#     train_dataset=training_dataset,\n",
    "# #    eval_dataset=validation_data,\n",
    "#     peft_config=lora_config,\n",
    "#     dataset_text_field=\"text\",\n",
    "#     max_seq_length=4096,\n",
    "#     tokenizer=tokenizer,\n",
    "#     args=training_arguments,\n",
    "# )\n",
    "\n",
    "# trainer.train()"
   ]
  },
  {
   "cell_type": "code",
   "execution_count": null,
   "id": "ede71904",
   "metadata": {
    "papermill": {
     "duration": 0.026648,
     "end_time": "2024-10-28T19:32:38.903171",
     "exception": false,
     "start_time": "2024-10-28T19:32:38.876523",
     "status": "completed"
    },
    "tags": []
   },
   "outputs": [],
   "source": []
  }
 ],
 "metadata": {
  "kaggle": {
   "accelerator": "gpu",
   "dataSources": [
    {
     "datasetId": 4216182,
     "sourceId": 7272762,
     "sourceType": "datasetVersion"
    },
    {
     "modelId": 735,
     "modelInstanceId": 3093,
     "sourceId": 4298,
     "sourceType": "modelInstanceVersion"
    }
   ],
   "dockerImageVersionId": 30627,
   "isGpuEnabled": true,
   "isInternetEnabled": true,
   "language": "python",
   "sourceType": "notebook"
  },
  "kernelspec": {
   "display_name": "Python 3",
   "language": "python",
   "name": "python3"
  },
  "language_info": {
   "codemirror_mode": {
    "name": "ipython",
    "version": 3
   },
   "file_extension": ".py",
   "mimetype": "text/x-python",
   "name": "python",
   "nbconvert_exporter": "python",
   "pygments_lexer": "ipython3",
   "version": "3.10.12"
  },
  "papermill": {
   "default_parameters": {},
   "duration": 403.937477,
   "end_time": "2024-10-28T19:32:41.751854",
   "environment_variables": {},
   "exception": null,
   "input_path": "__notebook__.ipynb",
   "output_path": "__notebook__.ipynb",
   "parameters": {},
   "start_time": "2024-10-28T19:25:57.814377",
   "version": "2.4.0"
  },
  "widgets": {
   "application/vnd.jupyter.widget-state+json": {
    "state": {
     "022ce06107284063bd3d47e316c4792f": {
      "model_module": "@jupyter-widgets/controls",
      "model_module_version": "1.5.0",
      "model_name": "HTMLModel",
      "state": {
       "_dom_classes": [],
       "_model_module": "@jupyter-widgets/controls",
       "_model_module_version": "1.5.0",
       "_model_name": "HTMLModel",
       "_view_count": null,
       "_view_module": "@jupyter-widgets/controls",
       "_view_module_version": "1.5.0",
       "_view_name": "HTMLView",
       "description": "",
       "description_tooltip": null,
       "layout": "IPY_MODEL_104140b41dd340cd8b4e8d369ad8f788",
       "placeholder": "​",
       "style": "IPY_MODEL_0ebf483a0d674b599e71a13ebf6aaedf",
       "value": " 3.60M/3.60M [00:00&lt;00:00, 14.9MB/s]"
      }
     },
     "06b63d72bdc54f089756729c13fd1d60": {
      "model_module": "@jupyter-widgets/controls",
      "model_module_version": "1.5.0",
      "model_name": "ProgressStyleModel",
      "state": {
       "_model_module": "@jupyter-widgets/controls",
       "_model_module_version": "1.5.0",
       "_model_name": "ProgressStyleModel",
       "_view_count": null,
       "_view_module": "@jupyter-widgets/base",
       "_view_module_version": "1.2.0",
       "_view_name": "StyleView",
       "bar_color": null,
       "description_width": ""
      }
     },
     "0716a96824024d7188c03d9ad343512f": {
      "model_module": "@jupyter-widgets/controls",
      "model_module_version": "1.5.0",
      "model_name": "DescriptionStyleModel",
      "state": {
       "_model_module": "@jupyter-widgets/controls",
       "_model_module_version": "1.5.0",
       "_model_name": "DescriptionStyleModel",
       "_view_count": null,
       "_view_module": "@jupyter-widgets/base",
       "_view_module_version": "1.2.0",
       "_view_name": "StyleView",
       "description_width": ""
      }
     },
     "0ac1ebb13d88430092196f53fab5ea84": {
      "model_module": "@jupyter-widgets/controls",
      "model_module_version": "1.5.0",
      "model_name": "DescriptionStyleModel",
      "state": {
       "_model_module": "@jupyter-widgets/controls",
       "_model_module_version": "1.5.0",
       "_model_name": "DescriptionStyleModel",
       "_view_count": null,
       "_view_module": "@jupyter-widgets/base",
       "_view_module_version": "1.2.0",
       "_view_name": "StyleView",
       "description_width": ""
      }
     },
     "0b0d9b163f9a4ed795e258557d730ba7": {
      "model_module": "@jupyter-widgets/controls",
      "model_module_version": "1.5.0",
      "model_name": "ProgressStyleModel",
      "state": {
       "_model_module": "@jupyter-widgets/controls",
       "_model_module_version": "1.5.0",
       "_model_name": "ProgressStyleModel",
       "_view_count": null,
       "_view_module": "@jupyter-widgets/base",
       "_view_module_version": "1.2.0",
       "_view_name": "StyleView",
       "bar_color": null,
       "description_width": ""
      }
     },
     "0c89cc7f65d44be4a625f19e52cc790e": {
      "model_module": "@jupyter-widgets/controls",
      "model_module_version": "1.5.0",
      "model_name": "DescriptionStyleModel",
      "state": {
       "_model_module": "@jupyter-widgets/controls",
       "_model_module_version": "1.5.0",
       "_model_name": "DescriptionStyleModel",
       "_view_count": null,
       "_view_module": "@jupyter-widgets/base",
       "_view_module_version": "1.2.0",
       "_view_name": "StyleView",
       "description_width": ""
      }
     },
     "0d185937b196403b941f44b99cc36f0b": {
      "model_module": "@jupyter-widgets/base",
      "model_module_version": "1.2.0",
      "model_name": "LayoutModel",
      "state": {
       "_model_module": "@jupyter-widgets/base",
       "_model_module_version": "1.2.0",
       "_model_name": "LayoutModel",
       "_view_count": null,
       "_view_module": "@jupyter-widgets/base",
       "_view_module_version": "1.2.0",
       "_view_name": "LayoutView",
       "align_content": null,
       "align_items": null,
       "align_self": null,
       "border": null,
       "bottom": null,
       "display": null,
       "flex": null,
       "flex_flow": null,
       "grid_area": null,
       "grid_auto_columns": null,
       "grid_auto_flow": null,
       "grid_auto_rows": null,
       "grid_column": null,
       "grid_gap": null,
       "grid_row": null,
       "grid_template_areas": null,
       "grid_template_columns": null,
       "grid_template_rows": null,
       "height": null,
       "justify_content": null,
       "justify_items": null,
       "left": null,
       "margin": null,
       "max_height": null,
       "max_width": null,
       "min_height": null,
       "min_width": null,
       "object_fit": null,
       "object_position": null,
       "order": null,
       "overflow": null,
       "overflow_x": null,
       "overflow_y": null,
       "padding": null,
       "right": null,
       "top": null,
       "visibility": null,
       "width": null
      }
     },
     "0ebf483a0d674b599e71a13ebf6aaedf": {
      "model_module": "@jupyter-widgets/controls",
      "model_module_version": "1.5.0",
      "model_name": "DescriptionStyleModel",
      "state": {
       "_model_module": "@jupyter-widgets/controls",
       "_model_module_version": "1.5.0",
       "_model_name": "DescriptionStyleModel",
       "_view_count": null,
       "_view_module": "@jupyter-widgets/base",
       "_view_module_version": "1.2.0",
       "_view_name": "StyleView",
       "description_width": ""
      }
     },
     "0f64cfb87f7940408331916b33a62823": {
      "model_module": "@jupyter-widgets/controls",
      "model_module_version": "1.5.0",
      "model_name": "HTMLModel",
      "state": {
       "_dom_classes": [],
       "_model_module": "@jupyter-widgets/controls",
       "_model_module_version": "1.5.0",
       "_model_name": "HTMLModel",
       "_view_count": null,
       "_view_module": "@jupyter-widgets/controls",
       "_view_module_version": "1.5.0",
       "_view_name": "HTMLView",
       "description": "",
       "description_tooltip": null,
       "layout": "IPY_MODEL_7f19069f665341d498b8cbf646e65469",
       "placeholder": "​",
       "style": "IPY_MODEL_806ad8b7ad794d5a9c30edf276c5a040",
       "value": " 3.49M/3.49M [00:00&lt;00:00, 7.87MB/s]"
      }
     },
     "103caae87edf42938a4470632263f0a9": {
      "model_module": "@jupyter-widgets/controls",
      "model_module_version": "1.5.0",
      "model_name": "HTMLModel",
      "state": {
       "_dom_classes": [],
       "_model_module": "@jupyter-widgets/controls",
       "_model_module_version": "1.5.0",
       "_model_name": "HTMLModel",
       "_view_count": null,
       "_view_module": "@jupyter-widgets/controls",
       "_view_module_version": "1.5.0",
       "_view_name": "HTMLView",
       "description": "",
       "description_tooltip": null,
       "layout": "IPY_MODEL_e247452d194944c7b9975d8a52b1a3de",
       "placeholder": "​",
       "style": "IPY_MODEL_c84d45a6e49640f084d04fd1d592c711",
       "value": "Downloading data: 100%"
      }
     },
     "104140b41dd340cd8b4e8d369ad8f788": {
      "model_module": "@jupyter-widgets/base",
      "model_module_version": "1.2.0",
      "model_name": "LayoutModel",
      "state": {
       "_model_module": "@jupyter-widgets/base",
       "_model_module_version": "1.2.0",
       "_model_name": "LayoutModel",
       "_view_count": null,
       "_view_module": "@jupyter-widgets/base",
       "_view_module_version": "1.2.0",
       "_view_name": "LayoutView",
       "align_content": null,
       "align_items": null,
       "align_self": null,
       "border": null,
       "bottom": null,
       "display": null,
       "flex": null,
       "flex_flow": null,
       "grid_area": null,
       "grid_auto_columns": null,
       "grid_auto_flow": null,
       "grid_auto_rows": null,
       "grid_column": null,
       "grid_gap": null,
       "grid_row": null,
       "grid_template_areas": null,
       "grid_template_columns": null,
       "grid_template_rows": null,
       "height": null,
       "justify_content": null,
       "justify_items": null,
       "left": null,
       "margin": null,
       "max_height": null,
       "max_width": null,
       "min_height": null,
       "min_width": null,
       "object_fit": null,
       "object_position": null,
       "order": null,
       "overflow": null,
       "overflow_x": null,
       "overflow_y": null,
       "padding": null,
       "right": null,
       "top": null,
       "visibility": null,
       "width": null
      }
     },
     "10d2aa9a97f54757a113f97b3a859a3e": {
      "model_module": "@jupyter-widgets/controls",
      "model_module_version": "1.5.0",
      "model_name": "HTMLModel",
      "state": {
       "_dom_classes": [],
       "_model_module": "@jupyter-widgets/controls",
       "_model_module_version": "1.5.0",
       "_model_name": "HTMLModel",
       "_view_count": null,
       "_view_module": "@jupyter-widgets/controls",
       "_view_module_version": "1.5.0",
       "_view_name": "HTMLView",
       "description": "",
       "description_tooltip": null,
       "layout": "IPY_MODEL_21e85f14b0524f95a230cb1d84a105e7",
       "placeholder": "​",
       "style": "IPY_MODEL_4f9dab9a00704925a5d3682adfa92a78",
       "value": " 27.8M/27.8M [00:00&lt;00:00, 54.3MB/s]"
      }
     },
     "127a5413451e44bc8fd5f2e2d6869208": {
      "model_module": "@jupyter-widgets/controls",
      "model_module_version": "1.5.0",
      "model_name": "DescriptionStyleModel",
      "state": {
       "_model_module": "@jupyter-widgets/controls",
       "_model_module_version": "1.5.0",
       "_model_name": "DescriptionStyleModel",
       "_view_count": null,
       "_view_module": "@jupyter-widgets/base",
       "_view_module_version": "1.2.0",
       "_view_name": "StyleView",
       "description_width": ""
      }
     },
     "1825d982b8de46e4b97a34187516c013": {
      "model_module": "@jupyter-widgets/base",
      "model_module_version": "1.2.0",
      "model_name": "LayoutModel",
      "state": {
       "_model_module": "@jupyter-widgets/base",
       "_model_module_version": "1.2.0",
       "_model_name": "LayoutModel",
       "_view_count": null,
       "_view_module": "@jupyter-widgets/base",
       "_view_module_version": "1.2.0",
       "_view_name": "LayoutView",
       "align_content": null,
       "align_items": null,
       "align_self": null,
       "border": null,
       "bottom": null,
       "display": null,
       "flex": null,
       "flex_flow": null,
       "grid_area": null,
       "grid_auto_columns": null,
       "grid_auto_flow": null,
       "grid_auto_rows": null,
       "grid_column": null,
       "grid_gap": null,
       "grid_row": null,
       "grid_template_areas": null,
       "grid_template_columns": null,
       "grid_template_rows": null,
       "height": null,
       "justify_content": null,
       "justify_items": null,
       "left": null,
       "margin": null,
       "max_height": null,
       "max_width": null,
       "min_height": null,
       "min_width": null,
       "object_fit": null,
       "object_position": null,
       "order": null,
       "overflow": null,
       "overflow_x": null,
       "overflow_y": null,
       "padding": null,
       "right": null,
       "top": null,
       "visibility": null,
       "width": null
      }
     },
     "1d997f6c56a14a6f865a75a253e885d7": {
      "model_module": "@jupyter-widgets/base",
      "model_module_version": "1.2.0",
      "model_name": "LayoutModel",
      "state": {
       "_model_module": "@jupyter-widgets/base",
       "_model_module_version": "1.2.0",
       "_model_name": "LayoutModel",
       "_view_count": null,
       "_view_module": "@jupyter-widgets/base",
       "_view_module_version": "1.2.0",
       "_view_name": "LayoutView",
       "align_content": null,
       "align_items": null,
       "align_self": null,
       "border": null,
       "bottom": null,
       "display": null,
       "flex": null,
       "flex_flow": null,
       "grid_area": null,
       "grid_auto_columns": null,
       "grid_auto_flow": null,
       "grid_auto_rows": null,
       "grid_column": null,
       "grid_gap": null,
       "grid_row": null,
       "grid_template_areas": null,
       "grid_template_columns": null,
       "grid_template_rows": null,
       "height": null,
       "justify_content": null,
       "justify_items": null,
       "left": null,
       "margin": null,
       "max_height": null,
       "max_width": null,
       "min_height": null,
       "min_width": null,
       "object_fit": null,
       "object_position": null,
       "order": null,
       "overflow": null,
       "overflow_x": null,
       "overflow_y": null,
       "padding": null,
       "right": null,
       "top": null,
       "visibility": null,
       "width": null
      }
     },
     "1f2c2e57459f422da3bc858264189029": {
      "model_module": "@jupyter-widgets/controls",
      "model_module_version": "1.5.0",
      "model_name": "HBoxModel",
      "state": {
       "_dom_classes": [],
       "_model_module": "@jupyter-widgets/controls",
       "_model_module_version": "1.5.0",
       "_model_name": "HBoxModel",
       "_view_count": null,
       "_view_module": "@jupyter-widgets/controls",
       "_view_module_version": "1.5.0",
       "_view_name": "HBoxView",
       "box_style": "",
       "children": [
        "IPY_MODEL_614a89268fe740f7974c89825c38b7bc",
        "IPY_MODEL_5c54806db9c844cea197d5f15d70b8d2",
        "IPY_MODEL_ff474cee730846118b9732d12708b7ee"
       ],
       "layout": "IPY_MODEL_99adbffde93943fd981ca9bcda47acaf"
      }
     },
     "20d89ee72c874525b0c3334d1b4f0033": {
      "model_module": "@jupyter-widgets/controls",
      "model_module_version": "1.5.0",
      "model_name": "FloatProgressModel",
      "state": {
       "_dom_classes": [],
       "_model_module": "@jupyter-widgets/controls",
       "_model_module_version": "1.5.0",
       "_model_name": "FloatProgressModel",
       "_view_count": null,
       "_view_module": "@jupyter-widgets/controls",
       "_view_module_version": "1.5.0",
       "_view_name": "ProgressView",
       "bar_style": "success",
       "description": "",
       "description_tooltip": null,
       "layout": "IPY_MODEL_3870bc167a1547b99c7bd7497cf2251b",
       "max": 6632.0,
       "min": 0.0,
       "orientation": "horizontal",
       "style": "IPY_MODEL_9083dc2c9d3f4f05b023266001ff7fb1",
       "value": 6632.0
      }
     },
     "21e85f14b0524f95a230cb1d84a105e7": {
      "model_module": "@jupyter-widgets/base",
      "model_module_version": "1.2.0",
      "model_name": "LayoutModel",
      "state": {
       "_model_module": "@jupyter-widgets/base",
       "_model_module_version": "1.2.0",
       "_model_name": "LayoutModel",
       "_view_count": null,
       "_view_module": "@jupyter-widgets/base",
       "_view_module_version": "1.2.0",
       "_view_name": "LayoutView",
       "align_content": null,
       "align_items": null,
       "align_self": null,
       "border": null,
       "bottom": null,
       "display": null,
       "flex": null,
       "flex_flow": null,
       "grid_area": null,
       "grid_auto_columns": null,
       "grid_auto_flow": null,
       "grid_auto_rows": null,
       "grid_column": null,
       "grid_gap": null,
       "grid_row": null,
       "grid_template_areas": null,
       "grid_template_columns": null,
       "grid_template_rows": null,
       "height": null,
       "justify_content": null,
       "justify_items": null,
       "left": null,
       "margin": null,
       "max_height": null,
       "max_width": null,
       "min_height": null,
       "min_width": null,
       "object_fit": null,
       "object_position": null,
       "order": null,
       "overflow": null,
       "overflow_x": null,
       "overflow_y": null,
       "padding": null,
       "right": null,
       "top": null,
       "visibility": null,
       "width": null
      }
     },
     "222e6dbf61264e20bd1cb4760dbd1bc8": {
      "model_module": "@jupyter-widgets/controls",
      "model_module_version": "1.5.0",
      "model_name": "HTMLModel",
      "state": {
       "_dom_classes": [],
       "_model_module": "@jupyter-widgets/controls",
       "_model_module_version": "1.5.0",
       "_model_name": "HTMLModel",
       "_view_count": null,
       "_view_module": "@jupyter-widgets/controls",
       "_view_module_version": "1.5.0",
       "_view_name": "HTMLView",
       "description": "",
       "description_tooltip": null,
       "layout": "IPY_MODEL_f799f4c9e6de4cc181f0f70d9e52a65c",
       "placeholder": "​",
       "style": "IPY_MODEL_3f733298aa7f41b19b42241c5a8f54f1",
       "value": "Generating validation split: "
      }
     },
     "2580ff543a254b099ccaeb858a409607": {
      "model_module": "@jupyter-widgets/controls",
      "model_module_version": "1.5.0",
      "model_name": "FloatProgressModel",
      "state": {
       "_dom_classes": [],
       "_model_module": "@jupyter-widgets/controls",
       "_model_module_version": "1.5.0",
       "_model_name": "FloatProgressModel",
       "_view_count": null,
       "_view_module": "@jupyter-widgets/controls",
       "_view_module_version": "1.5.0",
       "_view_name": "ProgressView",
       "bar_style": "info",
       "description": "",
       "description_tooltip": null,
       "layout": "IPY_MODEL_d56ef51261d14653a8319df556d609f2",
       "max": 1.0,
       "min": 0.0,
       "orientation": "horizontal",
       "style": "IPY_MODEL_a313f23e0eda4eb783d5cb7b9dc4e0e6",
       "value": 1.0
      }
     },
     "2618110bc0d04e27908d3dc8efd2a08e": {
      "model_module": "@jupyter-widgets/base",
      "model_module_version": "1.2.0",
      "model_name": "LayoutModel",
      "state": {
       "_model_module": "@jupyter-widgets/base",
       "_model_module_version": "1.2.0",
       "_model_name": "LayoutModel",
       "_view_count": null,
       "_view_module": "@jupyter-widgets/base",
       "_view_module_version": "1.2.0",
       "_view_name": "LayoutView",
       "align_content": null,
       "align_items": null,
       "align_self": null,
       "border": null,
       "bottom": null,
       "display": null,
       "flex": null,
       "flex_flow": null,
       "grid_area": null,
       "grid_auto_columns": null,
       "grid_auto_flow": null,
       "grid_auto_rows": null,
       "grid_column": null,
       "grid_gap": null,
       "grid_row": null,
       "grid_template_areas": null,
       "grid_template_columns": null,
       "grid_template_rows": null,
       "height": null,
       "justify_content": null,
       "justify_items": null,
       "left": null,
       "margin": null,
       "max_height": null,
       "max_width": null,
       "min_height": null,
       "min_width": null,
       "object_fit": null,
       "object_position": null,
       "order": null,
       "overflow": null,
       "overflow_x": null,
       "overflow_y": null,
       "padding": null,
       "right": null,
       "top": null,
       "visibility": null,
       "width": null
      }
     },
     "265412f10ac24869baa7cc9b6b8da2d9": {
      "model_module": "@jupyter-widgets/base",
      "model_module_version": "1.2.0",
      "model_name": "LayoutModel",
      "state": {
       "_model_module": "@jupyter-widgets/base",
       "_model_module_version": "1.2.0",
       "_model_name": "LayoutModel",
       "_view_count": null,
       "_view_module": "@jupyter-widgets/base",
       "_view_module_version": "1.2.0",
       "_view_name": "LayoutView",
       "align_content": null,
       "align_items": null,
       "align_self": null,
       "border": null,
       "bottom": null,
       "display": null,
       "flex": null,
       "flex_flow": null,
       "grid_area": null,
       "grid_auto_columns": null,
       "grid_auto_flow": null,
       "grid_auto_rows": null,
       "grid_column": null,
       "grid_gap": null,
       "grid_row": null,
       "grid_template_areas": null,
       "grid_template_columns": null,
       "grid_template_rows": null,
       "height": null,
       "justify_content": null,
       "justify_items": null,
       "left": null,
       "margin": null,
       "max_height": null,
       "max_width": null,
       "min_height": null,
       "min_width": null,
       "object_fit": null,
       "object_position": null,
       "order": null,
       "overflow": null,
       "overflow_x": null,
       "overflow_y": null,
       "padding": null,
       "right": null,
       "top": null,
       "visibility": null,
       "width": null
      }
     },
     "281e1aa5b64945119f01847a824fd0a4": {
      "model_module": "@jupyter-widgets/controls",
      "model_module_version": "1.5.0",
      "model_name": "DescriptionStyleModel",
      "state": {
       "_model_module": "@jupyter-widgets/controls",
       "_model_module_version": "1.5.0",
       "_model_name": "DescriptionStyleModel",
       "_view_count": null,
       "_view_module": "@jupyter-widgets/base",
       "_view_module_version": "1.2.0",
       "_view_name": "StyleView",
       "description_width": ""
      }
     },
     "2857d607ba2e4bebbcb94673e152f2ab": {
      "model_module": "@jupyter-widgets/controls",
      "model_module_version": "1.5.0",
      "model_name": "FloatProgressModel",
      "state": {
       "_dom_classes": [],
       "_model_module": "@jupyter-widgets/controls",
       "_model_module_version": "1.5.0",
       "_model_name": "FloatProgressModel",
       "_view_count": null,
       "_view_module": "@jupyter-widgets/controls",
       "_view_module_version": "1.5.0",
       "_view_name": "ProgressView",
       "bar_style": "success",
       "description": "",
       "description_tooltip": null,
       "layout": "IPY_MODEL_f967c89f818a4bd48a52a715e0ead5e2",
       "max": 3603506.0,
       "min": 0.0,
       "orientation": "horizontal",
       "style": "IPY_MODEL_7e272c0c4cdb4a6d867ec508cd37bbaa",
       "value": 3603506.0
      }
     },
     "299887d790784f7eac8e1f11d8cf869f": {
      "model_module": "@jupyter-widgets/controls",
      "model_module_version": "1.5.0",
      "model_name": "HBoxModel",
      "state": {
       "_dom_classes": [],
       "_model_module": "@jupyter-widgets/controls",
       "_model_module_version": "1.5.0",
       "_model_name": "HBoxModel",
       "_view_count": null,
       "_view_module": "@jupyter-widgets/controls",
       "_view_module_version": "1.5.0",
       "_view_name": "HBoxView",
       "box_style": "",
       "children": [
        "IPY_MODEL_222e6dbf61264e20bd1cb4760dbd1bc8",
        "IPY_MODEL_2580ff543a254b099ccaeb858a409607",
        "IPY_MODEL_87c381e0bacc4ec8bd525efeb9830d7c"
       ],
       "layout": "IPY_MODEL_dedcdef64e264ccb8658a6234091456a"
      }
     },
     "2a1a091dab554d7ca16b74128f7b3284": {
      "model_module": "@jupyter-widgets/base",
      "model_module_version": "1.2.0",
      "model_name": "LayoutModel",
      "state": {
       "_model_module": "@jupyter-widgets/base",
       "_model_module_version": "1.2.0",
       "_model_name": "LayoutModel",
       "_view_count": null,
       "_view_module": "@jupyter-widgets/base",
       "_view_module_version": "1.2.0",
       "_view_name": "LayoutView",
       "align_content": null,
       "align_items": null,
       "align_self": null,
       "border": null,
       "bottom": null,
       "display": null,
       "flex": null,
       "flex_flow": null,
       "grid_area": null,
       "grid_auto_columns": null,
       "grid_auto_flow": null,
       "grid_auto_rows": null,
       "grid_column": null,
       "grid_gap": null,
       "grid_row": null,
       "grid_template_areas": null,
       "grid_template_columns": null,
       "grid_template_rows": null,
       "height": null,
       "justify_content": null,
       "justify_items": null,
       "left": null,
       "margin": null,
       "max_height": null,
       "max_width": null,
       "min_height": null,
       "min_width": null,
       "object_fit": null,
       "object_position": null,
       "order": null,
       "overflow": null,
       "overflow_x": null,
       "overflow_y": null,
       "padding": null,
       "right": null,
       "top": null,
       "visibility": null,
       "width": null
      }
     },
     "2f0cdd95efaa483fa6d3b8ddb1d6dfe6": {
      "model_module": "@jupyter-widgets/base",
      "model_module_version": "1.2.0",
      "model_name": "LayoutModel",
      "state": {
       "_model_module": "@jupyter-widgets/base",
       "_model_module_version": "1.2.0",
       "_model_name": "LayoutModel",
       "_view_count": null,
       "_view_module": "@jupyter-widgets/base",
       "_view_module_version": "1.2.0",
       "_view_name": "LayoutView",
       "align_content": null,
       "align_items": null,
       "align_self": null,
       "border": null,
       "bottom": null,
       "display": null,
       "flex": null,
       "flex_flow": null,
       "grid_area": null,
       "grid_auto_columns": null,
       "grid_auto_flow": null,
       "grid_auto_rows": null,
       "grid_column": null,
       "grid_gap": null,
       "grid_row": null,
       "grid_template_areas": null,
       "grid_template_columns": null,
       "grid_template_rows": null,
       "height": null,
       "justify_content": null,
       "justify_items": null,
       "left": null,
       "margin": null,
       "max_height": null,
       "max_width": null,
       "min_height": null,
       "min_width": null,
       "object_fit": null,
       "object_position": null,
       "order": null,
       "overflow": null,
       "overflow_x": null,
       "overflow_y": null,
       "padding": null,
       "right": null,
       "top": null,
       "visibility": "hidden",
       "width": null
      }
     },
     "3019dd14f5d24869a40c0b7aa35659b5": {
      "model_module": "@jupyter-widgets/controls",
      "model_module_version": "1.5.0",
      "model_name": "HTMLModel",
      "state": {
       "_dom_classes": [],
       "_model_module": "@jupyter-widgets/controls",
       "_model_module_version": "1.5.0",
       "_model_name": "HTMLModel",
       "_view_count": null,
       "_view_module": "@jupyter-widgets/controls",
       "_view_module_version": "1.5.0",
       "_view_name": "HTMLView",
       "description": "",
       "description_tooltip": null,
       "layout": "IPY_MODEL_a93bca4947d045ab88f8495ce0e7a7c9",
       "placeholder": "​",
       "style": "IPY_MODEL_546fdf5a705b4a04aa64e27756c5f724",
       "value": " 3/3 [00:00&lt;00:00, 206.14it/s]"
      }
     },
     "355887f2c65a41eaa108d55640e75f35": {
      "model_module": "@jupyter-widgets/controls",
      "model_module_version": "1.5.0",
      "model_name": "FloatProgressModel",
      "state": {
       "_dom_classes": [],
       "_model_module": "@jupyter-widgets/controls",
       "_model_module_version": "1.5.0",
       "_model_name": "FloatProgressModel",
       "_view_count": null,
       "_view_module": "@jupyter-widgets/controls",
       "_view_module_version": "1.5.0",
       "_view_name": "ProgressView",
       "bar_style": "success",
       "description": "",
       "description_tooltip": null,
       "layout": "IPY_MODEL_bb4bebac33064c9ab561b61d8d4df1b0",
       "max": 27818012.0,
       "min": 0.0,
       "orientation": "horizontal",
       "style": "IPY_MODEL_06b63d72bdc54f089756729c13fd1d60",
       "value": 27818012.0
      }
     },
     "369772843e9e4815826f4b3bde91d21f": {
      "model_module": "@jupyter-widgets/controls",
      "model_module_version": "1.5.0",
      "model_name": "HTMLModel",
      "state": {
       "_dom_classes": [],
       "_model_module": "@jupyter-widgets/controls",
       "_model_module_version": "1.5.0",
       "_model_name": "HTMLModel",
       "_view_count": null,
       "_view_module": "@jupyter-widgets/controls",
       "_view_module_version": "1.5.0",
       "_view_name": "HTMLView",
       "description": "",
       "description_tooltip": null,
       "layout": "IPY_MODEL_1825d982b8de46e4b97a34187516c013",
       "placeholder": "​",
       "style": "IPY_MODEL_3c951792a4ef4241acff5e89da3b4cc9",
       "value": "Downloading data: 100%"
      }
     },
     "3870bc167a1547b99c7bd7497cf2251b": {
      "model_module": "@jupyter-widgets/base",
      "model_module_version": "1.2.0",
      "model_name": "LayoutModel",
      "state": {
       "_model_module": "@jupyter-widgets/base",
       "_model_module_version": "1.2.0",
       "_model_name": "LayoutModel",
       "_view_count": null,
       "_view_module": "@jupyter-widgets/base",
       "_view_module_version": "1.2.0",
       "_view_name": "LayoutView",
       "align_content": null,
       "align_items": null,
       "align_self": null,
       "border": null,
       "bottom": null,
       "display": null,
       "flex": null,
       "flex_flow": null,
       "grid_area": null,
       "grid_auto_columns": null,
       "grid_auto_flow": null,
       "grid_auto_rows": null,
       "grid_column": null,
       "grid_gap": null,
       "grid_row": null,
       "grid_template_areas": null,
       "grid_template_columns": null,
       "grid_template_rows": null,
       "height": null,
       "justify_content": null,
       "justify_items": null,
       "left": null,
       "margin": null,
       "max_height": null,
       "max_width": null,
       "min_height": null,
       "min_width": null,
       "object_fit": null,
       "object_position": null,
       "order": null,
       "overflow": null,
       "overflow_x": null,
       "overflow_y": null,
       "padding": null,
       "right": null,
       "top": null,
       "visibility": null,
       "width": null
      }
     },
     "396851f2cf094279a8713cd0205797f7": {
      "model_module": "@jupyter-widgets/controls",
      "model_module_version": "1.5.0",
      "model_name": "HTMLModel",
      "state": {
       "_dom_classes": [],
       "_model_module": "@jupyter-widgets/controls",
       "_model_module_version": "1.5.0",
       "_model_name": "HTMLModel",
       "_view_count": null,
       "_view_module": "@jupyter-widgets/controls",
       "_view_module_version": "1.5.0",
       "_view_name": "HTMLView",
       "description": "",
       "description_tooltip": null,
       "layout": "IPY_MODEL_0d185937b196403b941f44b99cc36f0b",
       "placeholder": "​",
       "style": "IPY_MODEL_127a5413451e44bc8fd5f2e2d6869208",
       "value": "Downloading builder script: 100%"
      }
     },
     "3c951792a4ef4241acff5e89da3b4cc9": {
      "model_module": "@jupyter-widgets/controls",
      "model_module_version": "1.5.0",
      "model_name": "DescriptionStyleModel",
      "state": {
       "_model_module": "@jupyter-widgets/controls",
       "_model_module_version": "1.5.0",
       "_model_name": "DescriptionStyleModel",
       "_view_count": null,
       "_view_module": "@jupyter-widgets/base",
       "_view_module_version": "1.2.0",
       "_view_name": "StyleView",
       "description_width": ""
      }
     },
     "3f733298aa7f41b19b42241c5a8f54f1": {
      "model_module": "@jupyter-widgets/controls",
      "model_module_version": "1.5.0",
      "model_name": "DescriptionStyleModel",
      "state": {
       "_model_module": "@jupyter-widgets/controls",
       "_model_module_version": "1.5.0",
       "_model_name": "DescriptionStyleModel",
       "_view_count": null,
       "_view_module": "@jupyter-widgets/base",
       "_view_module_version": "1.2.0",
       "_view_name": "StyleView",
       "description_width": ""
      }
     },
     "412348da98944a74bdbf91481ab93bae": {
      "model_module": "@jupyter-widgets/controls",
      "model_module_version": "1.5.0",
      "model_name": "ProgressStyleModel",
      "state": {
       "_model_module": "@jupyter-widgets/controls",
       "_model_module_version": "1.5.0",
       "_model_name": "ProgressStyleModel",
       "_view_count": null,
       "_view_module": "@jupyter-widgets/base",
       "_view_module_version": "1.2.0",
       "_view_name": "StyleView",
       "bar_color": null,
       "description_width": ""
      }
     },
     "491c3701770d4eacb3fc9ed18074118f": {
      "model_module": "@jupyter-widgets/controls",
      "model_module_version": "1.5.0",
      "model_name": "HBoxModel",
      "state": {
       "_dom_classes": [],
       "_model_module": "@jupyter-widgets/controls",
       "_model_module_version": "1.5.0",
       "_model_name": "HBoxModel",
       "_view_count": null,
       "_view_module": "@jupyter-widgets/controls",
       "_view_module_version": "1.5.0",
       "_view_name": "HBoxView",
       "box_style": "",
       "children": [
        "IPY_MODEL_7ab4794175c64d4f9fc66c2a3265eb57",
        "IPY_MODEL_4a38156398ef4947ae75af937c63039e",
        "IPY_MODEL_4c941039a3e94707b1fafa5d58cf0405"
       ],
       "layout": "IPY_MODEL_8acfd4dcabaa454998b223f44c1ed6f3"
      }
     },
     "4a38156398ef4947ae75af937c63039e": {
      "model_module": "@jupyter-widgets/controls",
      "model_module_version": "1.5.0",
      "model_name": "FloatProgressModel",
      "state": {
       "_dom_classes": [],
       "_model_module": "@jupyter-widgets/controls",
       "_model_module_version": "1.5.0",
       "_model_name": "FloatProgressModel",
       "_view_count": null,
       "_view_module": "@jupyter-widgets/controls",
       "_view_module_version": "1.5.0",
       "_view_name": "ProgressView",
       "bar_style": "success",
       "description": "",
       "description_tooltip": null,
       "layout": "IPY_MODEL_800deccbd24844b2ac78a3e53f54eaf9",
       "max": 3.0,
       "min": 0.0,
       "orientation": "horizontal",
       "style": "IPY_MODEL_0b0d9b163f9a4ed795e258557d730ba7",
       "value": 3.0
      }
     },
     "4af9a0d6c7ef4dd981a3c40a2351e87c": {
      "model_module": "@jupyter-widgets/base",
      "model_module_version": "1.2.0",
      "model_name": "LayoutModel",
      "state": {
       "_model_module": "@jupyter-widgets/base",
       "_model_module_version": "1.2.0",
       "_model_name": "LayoutModel",
       "_view_count": null,
       "_view_module": "@jupyter-widgets/base",
       "_view_module_version": "1.2.0",
       "_view_name": "LayoutView",
       "align_content": null,
       "align_items": null,
       "align_self": null,
       "border": null,
       "bottom": null,
       "display": null,
       "flex": null,
       "flex_flow": null,
       "grid_area": null,
       "grid_auto_columns": null,
       "grid_auto_flow": null,
       "grid_auto_rows": null,
       "grid_column": null,
       "grid_gap": null,
       "grid_row": null,
       "grid_template_areas": null,
       "grid_template_columns": null,
       "grid_template_rows": null,
       "height": null,
       "justify_content": null,
       "justify_items": null,
       "left": null,
       "margin": null,
       "max_height": null,
       "max_width": null,
       "min_height": null,
       "min_width": null,
       "object_fit": null,
       "object_position": null,
       "order": null,
       "overflow": null,
       "overflow_x": null,
       "overflow_y": null,
       "padding": null,
       "right": null,
       "top": null,
       "visibility": null,
       "width": null
      }
     },
     "4c941039a3e94707b1fafa5d58cf0405": {
      "model_module": "@jupyter-widgets/controls",
      "model_module_version": "1.5.0",
      "model_name": "HTMLModel",
      "state": {
       "_dom_classes": [],
       "_model_module": "@jupyter-widgets/controls",
       "_model_module_version": "1.5.0",
       "_model_name": "HTMLModel",
       "_view_count": null,
       "_view_module": "@jupyter-widgets/controls",
       "_view_module_version": "1.5.0",
       "_view_name": "HTMLView",
       "description": "",
       "description_tooltip": null,
       "layout": "IPY_MODEL_d6ba069718a8458599ad34a8b6ff87ea",
       "placeholder": "​",
       "style": "IPY_MODEL_e3975dd66f8f459e92f9181e1f7ae808",
       "value": " 3/3 [00:02&lt;00:00,  1.49it/s]"
      }
     },
     "4f9dab9a00704925a5d3682adfa92a78": {
      "model_module": "@jupyter-widgets/controls",
      "model_module_version": "1.5.0",
      "model_name": "DescriptionStyleModel",
      "state": {
       "_model_module": "@jupyter-widgets/controls",
       "_model_module_version": "1.5.0",
       "_model_name": "DescriptionStyleModel",
       "_view_count": null,
       "_view_module": "@jupyter-widgets/base",
       "_view_module_version": "1.2.0",
       "_view_name": "StyleView",
       "description_width": ""
      }
     },
     "5047f58344674c959fbb2662a02c1ff9": {
      "model_module": "@jupyter-widgets/controls",
      "model_module_version": "1.5.0",
      "model_name": "DescriptionStyleModel",
      "state": {
       "_model_module": "@jupyter-widgets/controls",
       "_model_module_version": "1.5.0",
       "_model_name": "DescriptionStyleModel",
       "_view_count": null,
       "_view_module": "@jupyter-widgets/base",
       "_view_module_version": "1.2.0",
       "_view_name": "StyleView",
       "description_width": ""
      }
     },
     "546fdf5a705b4a04aa64e27756c5f724": {
      "model_module": "@jupyter-widgets/controls",
      "model_module_version": "1.5.0",
      "model_name": "DescriptionStyleModel",
      "state": {
       "_model_module": "@jupyter-widgets/controls",
       "_model_module_version": "1.5.0",
       "_model_name": "DescriptionStyleModel",
       "_view_count": null,
       "_view_module": "@jupyter-widgets/base",
       "_view_module_version": "1.2.0",
       "_view_name": "StyleView",
       "description_width": ""
      }
     },
     "5c54806db9c844cea197d5f15d70b8d2": {
      "model_module": "@jupyter-widgets/controls",
      "model_module_version": "1.5.0",
      "model_name": "FloatProgressModel",
      "state": {
       "_dom_classes": [],
       "_model_module": "@jupyter-widgets/controls",
       "_model_module_version": "1.5.0",
       "_model_name": "FloatProgressModel",
       "_view_count": null,
       "_view_module": "@jupyter-widgets/controls",
       "_view_module_version": "1.5.0",
       "_view_name": "ProgressView",
       "bar_style": "info",
       "description": "",
       "description_tooltip": null,
       "layout": "IPY_MODEL_62f126551e7941eea7f458f79e8e3957",
       "max": 1.0,
       "min": 0.0,
       "orientation": "horizontal",
       "style": "IPY_MODEL_b2186248394e4c88bf6b55ffe62a4676",
       "value": 1.0
      }
     },
     "614a89268fe740f7974c89825c38b7bc": {
      "model_module": "@jupyter-widgets/controls",
      "model_module_version": "1.5.0",
      "model_name": "HTMLModel",
      "state": {
       "_dom_classes": [],
       "_model_module": "@jupyter-widgets/controls",
       "_model_module_version": "1.5.0",
       "_model_name": "HTMLModel",
       "_view_count": null,
       "_view_module": "@jupyter-widgets/controls",
       "_view_module_version": "1.5.0",
       "_view_name": "HTMLView",
       "description": "",
       "description_tooltip": null,
       "layout": "IPY_MODEL_e745dcd15a0d4937969788c10fca3a76",
       "placeholder": "​",
       "style": "IPY_MODEL_281e1aa5b64945119f01847a824fd0a4",
       "value": "Generating train split: "
      }
     },
     "62f126551e7941eea7f458f79e8e3957": {
      "model_module": "@jupyter-widgets/base",
      "model_module_version": "1.2.0",
      "model_name": "LayoutModel",
      "state": {
       "_model_module": "@jupyter-widgets/base",
       "_model_module_version": "1.2.0",
       "_model_name": "LayoutModel",
       "_view_count": null,
       "_view_module": "@jupyter-widgets/base",
       "_view_module_version": "1.2.0",
       "_view_name": "LayoutView",
       "align_content": null,
       "align_items": null,
       "align_self": null,
       "border": null,
       "bottom": null,
       "display": null,
       "flex": null,
       "flex_flow": null,
       "grid_area": null,
       "grid_auto_columns": null,
       "grid_auto_flow": null,
       "grid_auto_rows": null,
       "grid_column": null,
       "grid_gap": null,
       "grid_row": null,
       "grid_template_areas": null,
       "grid_template_columns": null,
       "grid_template_rows": null,
       "height": null,
       "justify_content": null,
       "justify_items": null,
       "left": null,
       "margin": null,
       "max_height": null,
       "max_width": null,
       "min_height": null,
       "min_width": null,
       "object_fit": null,
       "object_position": null,
       "order": null,
       "overflow": null,
       "overflow_x": null,
       "overflow_y": null,
       "padding": null,
       "right": null,
       "top": null,
       "visibility": null,
       "width": "20px"
      }
     },
     "64f1886656c442beade11bdf2efc3b8e": {
      "model_module": "@jupyter-widgets/controls",
      "model_module_version": "1.5.0",
      "model_name": "ProgressStyleModel",
      "state": {
       "_model_module": "@jupyter-widgets/controls",
       "_model_module_version": "1.5.0",
       "_model_name": "ProgressStyleModel",
       "_view_count": null,
       "_view_module": "@jupyter-widgets/base",
       "_view_module_version": "1.2.0",
       "_view_name": "StyleView",
       "bar_color": null,
       "description_width": ""
      }
     },
     "669af2c0e78a4e089d59da3ae8ff4407": {
      "model_module": "@jupyter-widgets/controls",
      "model_module_version": "1.5.0",
      "model_name": "HTMLModel",
      "state": {
       "_dom_classes": [],
       "_model_module": "@jupyter-widgets/controls",
       "_model_module_version": "1.5.0",
       "_model_name": "HTMLModel",
       "_view_count": null,
       "_view_module": "@jupyter-widgets/controls",
       "_view_module_version": "1.5.0",
       "_view_name": "HTMLView",
       "description": "",
       "description_tooltip": null,
       "layout": "IPY_MODEL_96b4ebd9283447798b088a5da87f61fe",
       "placeholder": "​",
       "style": "IPY_MODEL_8af928abd0ab4f4e80a11f4139094cfa",
       "value": "Generating test split: "
      }
     },
     "695ed44141164b23b731f73f41341a7d": {
      "model_module": "@jupyter-widgets/base",
      "model_module_version": "1.2.0",
      "model_name": "LayoutModel",
      "state": {
       "_model_module": "@jupyter-widgets/base",
       "_model_module_version": "1.2.0",
       "_model_name": "LayoutModel",
       "_view_count": null,
       "_view_module": "@jupyter-widgets/base",
       "_view_module_version": "1.2.0",
       "_view_name": "LayoutView",
       "align_content": null,
       "align_items": null,
       "align_self": null,
       "border": null,
       "bottom": null,
       "display": null,
       "flex": null,
       "flex_flow": null,
       "grid_area": null,
       "grid_auto_columns": null,
       "grid_auto_flow": null,
       "grid_auto_rows": null,
       "grid_column": null,
       "grid_gap": null,
       "grid_row": null,
       "grid_template_areas": null,
       "grid_template_columns": null,
       "grid_template_rows": null,
       "height": null,
       "justify_content": null,
       "justify_items": null,
       "left": null,
       "margin": null,
       "max_height": null,
       "max_width": null,
       "min_height": null,
       "min_width": null,
       "object_fit": null,
       "object_position": null,
       "order": null,
       "overflow": null,
       "overflow_x": null,
       "overflow_y": null,
       "padding": null,
       "right": null,
       "top": null,
       "visibility": null,
       "width": null
      }
     },
     "69a94f7a98114c189e0907756c12cf48": {
      "model_module": "@jupyter-widgets/controls",
      "model_module_version": "1.5.0",
      "model_name": "HTMLModel",
      "state": {
       "_dom_classes": [],
       "_model_module": "@jupyter-widgets/controls",
       "_model_module_version": "1.5.0",
       "_model_name": "HTMLModel",
       "_view_count": null,
       "_view_module": "@jupyter-widgets/controls",
       "_view_module_version": "1.5.0",
       "_view_name": "HTMLView",
       "description": "",
       "description_tooltip": null,
       "layout": "IPY_MODEL_bf93ca3d46674de5939e37cfe6f2f429",
       "placeholder": "​",
       "style": "IPY_MODEL_5047f58344674c959fbb2662a02c1ff9",
       "value": " 2/2 [02:35&lt;00:00, 71.26s/it]"
      }
     },
     "6a58461fd19b4200b793f88f5b0e20c2": {
      "model_module": "@jupyter-widgets/controls",
      "model_module_version": "1.5.0",
      "model_name": "DescriptionStyleModel",
      "state": {
       "_model_module": "@jupyter-widgets/controls",
       "_model_module_version": "1.5.0",
       "_model_name": "DescriptionStyleModel",
       "_view_count": null,
       "_view_module": "@jupyter-widgets/base",
       "_view_module_version": "1.2.0",
       "_view_name": "StyleView",
       "description_width": ""
      }
     },
     "6caf169528b14e3c83598d8c527fbda7": {
      "model_module": "@jupyter-widgets/controls",
      "model_module_version": "1.5.0",
      "model_name": "HBoxModel",
      "state": {
       "_dom_classes": [],
       "_model_module": "@jupyter-widgets/controls",
       "_model_module_version": "1.5.0",
       "_model_name": "HBoxModel",
       "_view_count": null,
       "_view_module": "@jupyter-widgets/controls",
       "_view_module_version": "1.5.0",
       "_view_name": "HBoxView",
       "box_style": "",
       "children": [
        "IPY_MODEL_369772843e9e4815826f4b3bde91d21f",
        "IPY_MODEL_2857d607ba2e4bebbcb94673e152f2ab",
        "IPY_MODEL_022ce06107284063bd3d47e316c4792f"
       ],
       "layout": "IPY_MODEL_a512a4b22dc949baad4eec45d120588b"
      }
     },
     "6e88a307dffb4c87983d3649714b6b0e": {
      "model_module": "@jupyter-widgets/controls",
      "model_module_version": "1.5.0",
      "model_name": "DescriptionStyleModel",
      "state": {
       "_model_module": "@jupyter-widgets/controls",
       "_model_module_version": "1.5.0",
       "_model_name": "DescriptionStyleModel",
       "_view_count": null,
       "_view_module": "@jupyter-widgets/base",
       "_view_module_version": "1.2.0",
       "_view_name": "StyleView",
       "description_width": ""
      }
     },
     "724c3c8e0bf94499a5089ca7178c35b2": {
      "model_module": "@jupyter-widgets/controls",
      "model_module_version": "1.5.0",
      "model_name": "DescriptionStyleModel",
      "state": {
       "_model_module": "@jupyter-widgets/controls",
       "_model_module_version": "1.5.0",
       "_model_name": "DescriptionStyleModel",
       "_view_count": null,
       "_view_module": "@jupyter-widgets/base",
       "_view_module_version": "1.2.0",
       "_view_name": "StyleView",
       "description_width": ""
      }
     },
     "756b9119c3744c10b93dcaf1e491cd84": {
      "model_module": "@jupyter-widgets/base",
      "model_module_version": "1.2.0",
      "model_name": "LayoutModel",
      "state": {
       "_model_module": "@jupyter-widgets/base",
       "_model_module_version": "1.2.0",
       "_model_name": "LayoutModel",
       "_view_count": null,
       "_view_module": "@jupyter-widgets/base",
       "_view_module_version": "1.2.0",
       "_view_name": "LayoutView",
       "align_content": null,
       "align_items": null,
       "align_self": null,
       "border": null,
       "bottom": null,
       "display": null,
       "flex": null,
       "flex_flow": null,
       "grid_area": null,
       "grid_auto_columns": null,
       "grid_auto_flow": null,
       "grid_auto_rows": null,
       "grid_column": null,
       "grid_gap": null,
       "grid_row": null,
       "grid_template_areas": null,
       "grid_template_columns": null,
       "grid_template_rows": null,
       "height": null,
       "justify_content": null,
       "justify_items": null,
       "left": null,
       "margin": null,
       "max_height": null,
       "max_width": null,
       "min_height": null,
       "min_width": null,
       "object_fit": null,
       "object_position": null,
       "order": null,
       "overflow": null,
       "overflow_x": null,
       "overflow_y": null,
       "padding": null,
       "right": null,
       "top": null,
       "visibility": null,
       "width": null
      }
     },
     "77914da559df48418a5b4aff66d13a6b": {
      "model_module": "@jupyter-widgets/base",
      "model_module_version": "1.2.0",
      "model_name": "LayoutModel",
      "state": {
       "_model_module": "@jupyter-widgets/base",
       "_model_module_version": "1.2.0",
       "_model_name": "LayoutModel",
       "_view_count": null,
       "_view_module": "@jupyter-widgets/base",
       "_view_module_version": "1.2.0",
       "_view_name": "LayoutView",
       "align_content": null,
       "align_items": null,
       "align_self": null,
       "border": null,
       "bottom": null,
       "display": null,
       "flex": null,
       "flex_flow": null,
       "grid_area": null,
       "grid_auto_columns": null,
       "grid_auto_flow": null,
       "grid_auto_rows": null,
       "grid_column": null,
       "grid_gap": null,
       "grid_row": null,
       "grid_template_areas": null,
       "grid_template_columns": null,
       "grid_template_rows": null,
       "height": null,
       "justify_content": null,
       "justify_items": null,
       "left": null,
       "margin": null,
       "max_height": null,
       "max_width": null,
       "min_height": null,
       "min_width": null,
       "object_fit": null,
       "object_position": null,
       "order": null,
       "overflow": null,
       "overflow_x": null,
       "overflow_y": null,
       "padding": null,
       "right": null,
       "top": null,
       "visibility": null,
       "width": null
      }
     },
     "79f1f099ae424d768cdb80c1dd8f7ff3": {
      "model_module": "@jupyter-widgets/controls",
      "model_module_version": "1.5.0",
      "model_name": "HBoxModel",
      "state": {
       "_dom_classes": [],
       "_model_module": "@jupyter-widgets/controls",
       "_model_module_version": "1.5.0",
       "_model_name": "HBoxModel",
       "_view_count": null,
       "_view_module": "@jupyter-widgets/controls",
       "_view_module_version": "1.5.0",
       "_view_name": "HBoxView",
       "box_style": "",
       "children": [
        "IPY_MODEL_669af2c0e78a4e089d59da3ae8ff4407",
        "IPY_MODEL_cf9ebf7ba6924150b603c879fc39ceb9",
        "IPY_MODEL_d9e33c9e260c48a2b11455406f17cf22"
       ],
       "layout": "IPY_MODEL_2f0cdd95efaa483fa6d3b8ddb1d6dfe6"
      }
     },
     "7a1eadc3ecb84b6b854275c8c283968d": {
      "model_module": "@jupyter-widgets/controls",
      "model_module_version": "1.5.0",
      "model_name": "DescriptionStyleModel",
      "state": {
       "_model_module": "@jupyter-widgets/controls",
       "_model_module_version": "1.5.0",
       "_model_name": "DescriptionStyleModel",
       "_view_count": null,
       "_view_module": "@jupyter-widgets/base",
       "_view_module_version": "1.2.0",
       "_view_name": "StyleView",
       "description_width": ""
      }
     },
     "7ab4794175c64d4f9fc66c2a3265eb57": {
      "model_module": "@jupyter-widgets/controls",
      "model_module_version": "1.5.0",
      "model_name": "HTMLModel",
      "state": {
       "_dom_classes": [],
       "_model_module": "@jupyter-widgets/controls",
       "_model_module_version": "1.5.0",
       "_model_name": "HTMLModel",
       "_view_count": null,
       "_view_module": "@jupyter-widgets/controls",
       "_view_module_version": "1.5.0",
       "_view_name": "HTMLView",
       "description": "",
       "description_tooltip": null,
       "layout": "IPY_MODEL_9cccc83b83064a139622dc301300e170",
       "placeholder": "​",
       "style": "IPY_MODEL_6e88a307dffb4c87983d3649714b6b0e",
       "value": "Downloading data files: 100%"
      }
     },
     "7cedd83137ba4468a03df0345a5765e7": {
      "model_module": "@jupyter-widgets/base",
      "model_module_version": "1.2.0",
      "model_name": "LayoutModel",
      "state": {
       "_model_module": "@jupyter-widgets/base",
       "_model_module_version": "1.2.0",
       "_model_name": "LayoutModel",
       "_view_count": null,
       "_view_module": "@jupyter-widgets/base",
       "_view_module_version": "1.2.0",
       "_view_name": "LayoutView",
       "align_content": null,
       "align_items": null,
       "align_self": null,
       "border": null,
       "bottom": null,
       "display": null,
       "flex": null,
       "flex_flow": null,
       "grid_area": null,
       "grid_auto_columns": null,
       "grid_auto_flow": null,
       "grid_auto_rows": null,
       "grid_column": null,
       "grid_gap": null,
       "grid_row": null,
       "grid_template_areas": null,
       "grid_template_columns": null,
       "grid_template_rows": null,
       "height": null,
       "justify_content": null,
       "justify_items": null,
       "left": null,
       "margin": null,
       "max_height": null,
       "max_width": null,
       "min_height": null,
       "min_width": null,
       "object_fit": null,
       "object_position": null,
       "order": null,
       "overflow": null,
       "overflow_x": null,
       "overflow_y": null,
       "padding": null,
       "right": null,
       "top": null,
       "visibility": null,
       "width": null
      }
     },
     "7e272c0c4cdb4a6d867ec508cd37bbaa": {
      "model_module": "@jupyter-widgets/controls",
      "model_module_version": "1.5.0",
      "model_name": "ProgressStyleModel",
      "state": {
       "_model_module": "@jupyter-widgets/controls",
       "_model_module_version": "1.5.0",
       "_model_name": "ProgressStyleModel",
       "_view_count": null,
       "_view_module": "@jupyter-widgets/base",
       "_view_module_version": "1.2.0",
       "_view_name": "StyleView",
       "bar_color": null,
       "description_width": ""
      }
     },
     "7f19069f665341d498b8cbf646e65469": {
      "model_module": "@jupyter-widgets/base",
      "model_module_version": "1.2.0",
      "model_name": "LayoutModel",
      "state": {
       "_model_module": "@jupyter-widgets/base",
       "_model_module_version": "1.2.0",
       "_model_name": "LayoutModel",
       "_view_count": null,
       "_view_module": "@jupyter-widgets/base",
       "_view_module_version": "1.2.0",
       "_view_name": "LayoutView",
       "align_content": null,
       "align_items": null,
       "align_self": null,
       "border": null,
       "bottom": null,
       "display": null,
       "flex": null,
       "flex_flow": null,
       "grid_area": null,
       "grid_auto_columns": null,
       "grid_auto_flow": null,
       "grid_auto_rows": null,
       "grid_column": null,
       "grid_gap": null,
       "grid_row": null,
       "grid_template_areas": null,
       "grid_template_columns": null,
       "grid_template_rows": null,
       "height": null,
       "justify_content": null,
       "justify_items": null,
       "left": null,
       "margin": null,
       "max_height": null,
       "max_width": null,
       "min_height": null,
       "min_width": null,
       "object_fit": null,
       "object_position": null,
       "order": null,
       "overflow": null,
       "overflow_x": null,
       "overflow_y": null,
       "padding": null,
       "right": null,
       "top": null,
       "visibility": null,
       "width": null
      }
     },
     "800deccbd24844b2ac78a3e53f54eaf9": {
      "model_module": "@jupyter-widgets/base",
      "model_module_version": "1.2.0",
      "model_name": "LayoutModel",
      "state": {
       "_model_module": "@jupyter-widgets/base",
       "_model_module_version": "1.2.0",
       "_model_name": "LayoutModel",
       "_view_count": null,
       "_view_module": "@jupyter-widgets/base",
       "_view_module_version": "1.2.0",
       "_view_name": "LayoutView",
       "align_content": null,
       "align_items": null,
       "align_self": null,
       "border": null,
       "bottom": null,
       "display": null,
       "flex": null,
       "flex_flow": null,
       "grid_area": null,
       "grid_auto_columns": null,
       "grid_auto_flow": null,
       "grid_auto_rows": null,
       "grid_column": null,
       "grid_gap": null,
       "grid_row": null,
       "grid_template_areas": null,
       "grid_template_columns": null,
       "grid_template_rows": null,
       "height": null,
       "justify_content": null,
       "justify_items": null,
       "left": null,
       "margin": null,
       "max_height": null,
       "max_width": null,
       "min_height": null,
       "min_width": null,
       "object_fit": null,
       "object_position": null,
       "order": null,
       "overflow": null,
       "overflow_x": null,
       "overflow_y": null,
       "padding": null,
       "right": null,
       "top": null,
       "visibility": null,
       "width": null
      }
     },
     "806ad8b7ad794d5a9c30edf276c5a040": {
      "model_module": "@jupyter-widgets/controls",
      "model_module_version": "1.5.0",
      "model_name": "DescriptionStyleModel",
      "state": {
       "_model_module": "@jupyter-widgets/controls",
       "_model_module_version": "1.5.0",
       "_model_name": "DescriptionStyleModel",
       "_view_count": null,
       "_view_module": "@jupyter-widgets/base",
       "_view_module_version": "1.2.0",
       "_view_name": "StyleView",
       "description_width": ""
      }
     },
     "817ca5b6ac824b88818fb8357c28a592": {
      "model_module": "@jupyter-widgets/controls",
      "model_module_version": "1.5.0",
      "model_name": "HBoxModel",
      "state": {
       "_dom_classes": [],
       "_model_module": "@jupyter-widgets/controls",
       "_model_module_version": "1.5.0",
       "_model_name": "HBoxModel",
       "_view_count": null,
       "_view_module": "@jupyter-widgets/controls",
       "_view_module_version": "1.5.0",
       "_view_name": "HBoxView",
       "box_style": "",
       "children": [
        "IPY_MODEL_396851f2cf094279a8713cd0205797f7",
        "IPY_MODEL_20d89ee72c874525b0c3334d1b4f0033",
        "IPY_MODEL_c8e79d757f6e4f44a0d7487f592d86ba"
       ],
       "layout": "IPY_MODEL_b431484c0cbf42d1a02cc458d913741d"
      }
     },
     "84e15395ba49443e82b74eeb3ec86d6a": {
      "model_module": "@jupyter-widgets/controls",
      "model_module_version": "1.5.0",
      "model_name": "ProgressStyleModel",
      "state": {
       "_model_module": "@jupyter-widgets/controls",
       "_model_module_version": "1.5.0",
       "_model_name": "ProgressStyleModel",
       "_view_count": null,
       "_view_module": "@jupyter-widgets/base",
       "_view_module_version": "1.2.0",
       "_view_name": "StyleView",
       "bar_color": null,
       "description_width": ""
      }
     },
     "870910a8c94249cda889347a447718a5": {
      "model_module": "@jupyter-widgets/base",
      "model_module_version": "1.2.0",
      "model_name": "LayoutModel",
      "state": {
       "_model_module": "@jupyter-widgets/base",
       "_model_module_version": "1.2.0",
       "_model_name": "LayoutModel",
       "_view_count": null,
       "_view_module": "@jupyter-widgets/base",
       "_view_module_version": "1.2.0",
       "_view_name": "LayoutView",
       "align_content": null,
       "align_items": null,
       "align_self": null,
       "border": null,
       "bottom": null,
       "display": null,
       "flex": null,
       "flex_flow": null,
       "grid_area": null,
       "grid_auto_columns": null,
       "grid_auto_flow": null,
       "grid_auto_rows": null,
       "grid_column": null,
       "grid_gap": null,
       "grid_row": null,
       "grid_template_areas": null,
       "grid_template_columns": null,
       "grid_template_rows": null,
       "height": null,
       "justify_content": null,
       "justify_items": null,
       "left": null,
       "margin": null,
       "max_height": null,
       "max_width": null,
       "min_height": null,
       "min_width": null,
       "object_fit": null,
       "object_position": null,
       "order": null,
       "overflow": null,
       "overflow_x": null,
       "overflow_y": null,
       "padding": null,
       "right": null,
       "top": null,
       "visibility": null,
       "width": null
      }
     },
     "87c381e0bacc4ec8bd525efeb9830d7c": {
      "model_module": "@jupyter-widgets/controls",
      "model_module_version": "1.5.0",
      "model_name": "HTMLModel",
      "state": {
       "_dom_classes": [],
       "_model_module": "@jupyter-widgets/controls",
       "_model_module_version": "1.5.0",
       "_model_name": "HTMLModel",
       "_view_count": null,
       "_view_module": "@jupyter-widgets/controls",
       "_view_module_version": "1.5.0",
       "_view_name": "HTMLView",
       "description": "",
       "description_tooltip": null,
       "layout": "IPY_MODEL_1d997f6c56a14a6f865a75a253e885d7",
       "placeholder": "​",
       "style": "IPY_MODEL_0716a96824024d7188c03d9ad343512f",
       "value": " 1118/0 [00:00&lt;00:00, 5865.71 examples/s]"
      }
     },
     "8acfd4dcabaa454998b223f44c1ed6f3": {
      "model_module": "@jupyter-widgets/base",
      "model_module_version": "1.2.0",
      "model_name": "LayoutModel",
      "state": {
       "_model_module": "@jupyter-widgets/base",
       "_model_module_version": "1.2.0",
       "_model_name": "LayoutModel",
       "_view_count": null,
       "_view_module": "@jupyter-widgets/base",
       "_view_module_version": "1.2.0",
       "_view_name": "LayoutView",
       "align_content": null,
       "align_items": null,
       "align_self": null,
       "border": null,
       "bottom": null,
       "display": null,
       "flex": null,
       "flex_flow": null,
       "grid_area": null,
       "grid_auto_columns": null,
       "grid_auto_flow": null,
       "grid_auto_rows": null,
       "grid_column": null,
       "grid_gap": null,
       "grid_row": null,
       "grid_template_areas": null,
       "grid_template_columns": null,
       "grid_template_rows": null,
       "height": null,
       "justify_content": null,
       "justify_items": null,
       "left": null,
       "margin": null,
       "max_height": null,
       "max_width": null,
       "min_height": null,
       "min_width": null,
       "object_fit": null,
       "object_position": null,
       "order": null,
       "overflow": null,
       "overflow_x": null,
       "overflow_y": null,
       "padding": null,
       "right": null,
       "top": null,
       "visibility": null,
       "width": null
      }
     },
     "8af928abd0ab4f4e80a11f4139094cfa": {
      "model_module": "@jupyter-widgets/controls",
      "model_module_version": "1.5.0",
      "model_name": "DescriptionStyleModel",
      "state": {
       "_model_module": "@jupyter-widgets/controls",
       "_model_module_version": "1.5.0",
       "_model_name": "DescriptionStyleModel",
       "_view_count": null,
       "_view_module": "@jupyter-widgets/base",
       "_view_module_version": "1.2.0",
       "_view_name": "StyleView",
       "description_width": ""
      }
     },
     "9083dc2c9d3f4f05b023266001ff7fb1": {
      "model_module": "@jupyter-widgets/controls",
      "model_module_version": "1.5.0",
      "model_name": "ProgressStyleModel",
      "state": {
       "_model_module": "@jupyter-widgets/controls",
       "_model_module_version": "1.5.0",
       "_model_name": "ProgressStyleModel",
       "_view_count": null,
       "_view_module": "@jupyter-widgets/base",
       "_view_module_version": "1.2.0",
       "_view_name": "StyleView",
       "bar_color": null,
       "description_width": ""
      }
     },
     "90bc3db8b34e4695a795c48958c6a679": {
      "model_module": "@jupyter-widgets/controls",
      "model_module_version": "1.5.0",
      "model_name": "FloatProgressModel",
      "state": {
       "_dom_classes": [],
       "_model_module": "@jupyter-widgets/controls",
       "_model_module_version": "1.5.0",
       "_model_name": "FloatProgressModel",
       "_view_count": null,
       "_view_module": "@jupyter-widgets/controls",
       "_view_module_version": "1.5.0",
       "_view_name": "ProgressView",
       "bar_style": "success",
       "description": "",
       "description_tooltip": null,
       "layout": "IPY_MODEL_77914da559df48418a5b4aff66d13a6b",
       "max": 2.0,
       "min": 0.0,
       "orientation": "horizontal",
       "style": "IPY_MODEL_e23887a0595d4564bdb9dc23b3b5d4eb",
       "value": 2.0
      }
     },
     "910e45b304f24bf3b5c2ae683acac013": {
      "model_module": "@jupyter-widgets/controls",
      "model_module_version": "1.5.0",
      "model_name": "HBoxModel",
      "state": {
       "_dom_classes": [],
       "_model_module": "@jupyter-widgets/controls",
       "_model_module_version": "1.5.0",
       "_model_name": "HBoxModel",
       "_view_count": null,
       "_view_module": "@jupyter-widgets/controls",
       "_view_module_version": "1.5.0",
       "_view_name": "HBoxView",
       "box_style": "",
       "children": [
        "IPY_MODEL_ea1bdd94b5874f298f8be6881df2d9b0",
        "IPY_MODEL_90bc3db8b34e4695a795c48958c6a679",
        "IPY_MODEL_69a94f7a98114c189e0907756c12cf48"
       ],
       "layout": "IPY_MODEL_a30a4dbd74c14ecb91f1ed56869b3b79"
      }
     },
     "92e772a60aa544fcaff9207dd08d7058": {
      "model_module": "@jupyter-widgets/base",
      "model_module_version": "1.2.0",
      "model_name": "LayoutModel",
      "state": {
       "_model_module": "@jupyter-widgets/base",
       "_model_module_version": "1.2.0",
       "_model_name": "LayoutModel",
       "_view_count": null,
       "_view_module": "@jupyter-widgets/base",
       "_view_module_version": "1.2.0",
       "_view_name": "LayoutView",
       "align_content": null,
       "align_items": null,
       "align_self": null,
       "border": null,
       "bottom": null,
       "display": null,
       "flex": null,
       "flex_flow": null,
       "grid_area": null,
       "grid_auto_columns": null,
       "grid_auto_flow": null,
       "grid_auto_rows": null,
       "grid_column": null,
       "grid_gap": null,
       "grid_row": null,
       "grid_template_areas": null,
       "grid_template_columns": null,
       "grid_template_rows": null,
       "height": null,
       "justify_content": null,
       "justify_items": null,
       "left": null,
       "margin": null,
       "max_height": null,
       "max_width": null,
       "min_height": null,
       "min_width": null,
       "object_fit": null,
       "object_position": null,
       "order": null,
       "overflow": null,
       "overflow_x": null,
       "overflow_y": null,
       "padding": null,
       "right": null,
       "top": null,
       "visibility": null,
       "width": "20px"
      }
     },
     "96b4ebd9283447798b088a5da87f61fe": {
      "model_module": "@jupyter-widgets/base",
      "model_module_version": "1.2.0",
      "model_name": "LayoutModel",
      "state": {
       "_model_module": "@jupyter-widgets/base",
       "_model_module_version": "1.2.0",
       "_model_name": "LayoutModel",
       "_view_count": null,
       "_view_module": "@jupyter-widgets/base",
       "_view_module_version": "1.2.0",
       "_view_name": "LayoutView",
       "align_content": null,
       "align_items": null,
       "align_self": null,
       "border": null,
       "bottom": null,
       "display": null,
       "flex": null,
       "flex_flow": null,
       "grid_area": null,
       "grid_auto_columns": null,
       "grid_auto_flow": null,
       "grid_auto_rows": null,
       "grid_column": null,
       "grid_gap": null,
       "grid_row": null,
       "grid_template_areas": null,
       "grid_template_columns": null,
       "grid_template_rows": null,
       "height": null,
       "justify_content": null,
       "justify_items": null,
       "left": null,
       "margin": null,
       "max_height": null,
       "max_width": null,
       "min_height": null,
       "min_width": null,
       "object_fit": null,
       "object_position": null,
       "order": null,
       "overflow": null,
       "overflow_x": null,
       "overflow_y": null,
       "padding": null,
       "right": null,
       "top": null,
       "visibility": null,
       "width": null
      }
     },
     "99adbffde93943fd981ca9bcda47acaf": {
      "model_module": "@jupyter-widgets/base",
      "model_module_version": "1.2.0",
      "model_name": "LayoutModel",
      "state": {
       "_model_module": "@jupyter-widgets/base",
       "_model_module_version": "1.2.0",
       "_model_name": "LayoutModel",
       "_view_count": null,
       "_view_module": "@jupyter-widgets/base",
       "_view_module_version": "1.2.0",
       "_view_name": "LayoutView",
       "align_content": null,
       "align_items": null,
       "align_self": null,
       "border": null,
       "bottom": null,
       "display": null,
       "flex": null,
       "flex_flow": null,
       "grid_area": null,
       "grid_auto_columns": null,
       "grid_auto_flow": null,
       "grid_auto_rows": null,
       "grid_column": null,
       "grid_gap": null,
       "grid_row": null,
       "grid_template_areas": null,
       "grid_template_columns": null,
       "grid_template_rows": null,
       "height": null,
       "justify_content": null,
       "justify_items": null,
       "left": null,
       "margin": null,
       "max_height": null,
       "max_width": null,
       "min_height": null,
       "min_width": null,
       "object_fit": null,
       "object_position": null,
       "order": null,
       "overflow": null,
       "overflow_x": null,
       "overflow_y": null,
       "padding": null,
       "right": null,
       "top": null,
       "visibility": "hidden",
       "width": null
      }
     },
     "9cccc83b83064a139622dc301300e170": {
      "model_module": "@jupyter-widgets/base",
      "model_module_version": "1.2.0",
      "model_name": "LayoutModel",
      "state": {
       "_model_module": "@jupyter-widgets/base",
       "_model_module_version": "1.2.0",
       "_model_name": "LayoutModel",
       "_view_count": null,
       "_view_module": "@jupyter-widgets/base",
       "_view_module_version": "1.2.0",
       "_view_name": "LayoutView",
       "align_content": null,
       "align_items": null,
       "align_self": null,
       "border": null,
       "bottom": null,
       "display": null,
       "flex": null,
       "flex_flow": null,
       "grid_area": null,
       "grid_auto_columns": null,
       "grid_auto_flow": null,
       "grid_auto_rows": null,
       "grid_column": null,
       "grid_gap": null,
       "grid_row": null,
       "grid_template_areas": null,
       "grid_template_columns": null,
       "grid_template_rows": null,
       "height": null,
       "justify_content": null,
       "justify_items": null,
       "left": null,
       "margin": null,
       "max_height": null,
       "max_width": null,
       "min_height": null,
       "min_width": null,
       "object_fit": null,
       "object_position": null,
       "order": null,
       "overflow": null,
       "overflow_x": null,
       "overflow_y": null,
       "padding": null,
       "right": null,
       "top": null,
       "visibility": null,
       "width": null
      }
     },
     "9d43220eb2e74557afe745b5e5408418": {
      "model_module": "@jupyter-widgets/controls",
      "model_module_version": "1.5.0",
      "model_name": "HBoxModel",
      "state": {
       "_dom_classes": [],
       "_model_module": "@jupyter-widgets/controls",
       "_model_module_version": "1.5.0",
       "_model_name": "HBoxModel",
       "_view_count": null,
       "_view_module": "@jupyter-widgets/controls",
       "_view_module_version": "1.5.0",
       "_view_name": "HBoxView",
       "box_style": "",
       "children": [
        "IPY_MODEL_103caae87edf42938a4470632263f0a9",
        "IPY_MODEL_355887f2c65a41eaa108d55640e75f35",
        "IPY_MODEL_10d2aa9a97f54757a113f97b3a859a3e"
       ],
       "layout": "IPY_MODEL_cd4f7f73b9b2490fb3a03b0819e2b754"
      }
     },
     "a30a4dbd74c14ecb91f1ed56869b3b79": {
      "model_module": "@jupyter-widgets/base",
      "model_module_version": "1.2.0",
      "model_name": "LayoutModel",
      "state": {
       "_model_module": "@jupyter-widgets/base",
       "_model_module_version": "1.2.0",
       "_model_name": "LayoutModel",
       "_view_count": null,
       "_view_module": "@jupyter-widgets/base",
       "_view_module_version": "1.2.0",
       "_view_name": "LayoutView",
       "align_content": null,
       "align_items": null,
       "align_self": null,
       "border": null,
       "bottom": null,
       "display": null,
       "flex": null,
       "flex_flow": null,
       "grid_area": null,
       "grid_auto_columns": null,
       "grid_auto_flow": null,
       "grid_auto_rows": null,
       "grid_column": null,
       "grid_gap": null,
       "grid_row": null,
       "grid_template_areas": null,
       "grid_template_columns": null,
       "grid_template_rows": null,
       "height": null,
       "justify_content": null,
       "justify_items": null,
       "left": null,
       "margin": null,
       "max_height": null,
       "max_width": null,
       "min_height": null,
       "min_width": null,
       "object_fit": null,
       "object_position": null,
       "order": null,
       "overflow": null,
       "overflow_x": null,
       "overflow_y": null,
       "padding": null,
       "right": null,
       "top": null,
       "visibility": null,
       "width": null
      }
     },
     "a313f23e0eda4eb783d5cb7b9dc4e0e6": {
      "model_module": "@jupyter-widgets/controls",
      "model_module_version": "1.5.0",
      "model_name": "ProgressStyleModel",
      "state": {
       "_model_module": "@jupyter-widgets/controls",
       "_model_module_version": "1.5.0",
       "_model_name": "ProgressStyleModel",
       "_view_count": null,
       "_view_module": "@jupyter-widgets/base",
       "_view_module_version": "1.2.0",
       "_view_name": "StyleView",
       "bar_color": null,
       "description_width": ""
      }
     },
     "a512a4b22dc949baad4eec45d120588b": {
      "model_module": "@jupyter-widgets/base",
      "model_module_version": "1.2.0",
      "model_name": "LayoutModel",
      "state": {
       "_model_module": "@jupyter-widgets/base",
       "_model_module_version": "1.2.0",
       "_model_name": "LayoutModel",
       "_view_count": null,
       "_view_module": "@jupyter-widgets/base",
       "_view_module_version": "1.2.0",
       "_view_name": "LayoutView",
       "align_content": null,
       "align_items": null,
       "align_self": null,
       "border": null,
       "bottom": null,
       "display": null,
       "flex": null,
       "flex_flow": null,
       "grid_area": null,
       "grid_auto_columns": null,
       "grid_auto_flow": null,
       "grid_auto_rows": null,
       "grid_column": null,
       "grid_gap": null,
       "grid_row": null,
       "grid_template_areas": null,
       "grid_template_columns": null,
       "grid_template_rows": null,
       "height": null,
       "justify_content": null,
       "justify_items": null,
       "left": null,
       "margin": null,
       "max_height": null,
       "max_width": null,
       "min_height": null,
       "min_width": null,
       "object_fit": null,
       "object_position": null,
       "order": null,
       "overflow": null,
       "overflow_x": null,
       "overflow_y": null,
       "padding": null,
       "right": null,
       "top": null,
       "visibility": null,
       "width": null
      }
     },
     "a93bca4947d045ab88f8495ce0e7a7c9": {
      "model_module": "@jupyter-widgets/base",
      "model_module_version": "1.2.0",
      "model_name": "LayoutModel",
      "state": {
       "_model_module": "@jupyter-widgets/base",
       "_model_module_version": "1.2.0",
       "_model_name": "LayoutModel",
       "_view_count": null,
       "_view_module": "@jupyter-widgets/base",
       "_view_module_version": "1.2.0",
       "_view_name": "LayoutView",
       "align_content": null,
       "align_items": null,
       "align_self": null,
       "border": null,
       "bottom": null,
       "display": null,
       "flex": null,
       "flex_flow": null,
       "grid_area": null,
       "grid_auto_columns": null,
       "grid_auto_flow": null,
       "grid_auto_rows": null,
       "grid_column": null,
       "grid_gap": null,
       "grid_row": null,
       "grid_template_areas": null,
       "grid_template_columns": null,
       "grid_template_rows": null,
       "height": null,
       "justify_content": null,
       "justify_items": null,
       "left": null,
       "margin": null,
       "max_height": null,
       "max_width": null,
       "min_height": null,
       "min_width": null,
       "object_fit": null,
       "object_position": null,
       "order": null,
       "overflow": null,
       "overflow_x": null,
       "overflow_y": null,
       "padding": null,
       "right": null,
       "top": null,
       "visibility": null,
       "width": null
      }
     },
     "ac7acfc700614c329ea513f8e5a690a7": {
      "model_module": "@jupyter-widgets/controls",
      "model_module_version": "1.5.0",
      "model_name": "HTMLModel",
      "state": {
       "_dom_classes": [],
       "_model_module": "@jupyter-widgets/controls",
       "_model_module_version": "1.5.0",
       "_model_name": "HTMLModel",
       "_view_count": null,
       "_view_module": "@jupyter-widgets/controls",
       "_view_module_version": "1.5.0",
       "_view_name": "HTMLView",
       "description": "",
       "description_tooltip": null,
       "layout": "IPY_MODEL_7cedd83137ba4468a03df0345a5765e7",
       "placeholder": "​",
       "style": "IPY_MODEL_0ac1ebb13d88430092196f53fab5ea84",
       "value": "Extracting data files: 100%"
      }
     },
     "afea6d92bedc4c6daca4bfcdba76c215": {
      "model_module": "@jupyter-widgets/base",
      "model_module_version": "1.2.0",
      "model_name": "LayoutModel",
      "state": {
       "_model_module": "@jupyter-widgets/base",
       "_model_module_version": "1.2.0",
       "_model_name": "LayoutModel",
       "_view_count": null,
       "_view_module": "@jupyter-widgets/base",
       "_view_module_version": "1.2.0",
       "_view_name": "LayoutView",
       "align_content": null,
       "align_items": null,
       "align_self": null,
       "border": null,
       "bottom": null,
       "display": null,
       "flex": null,
       "flex_flow": null,
       "grid_area": null,
       "grid_auto_columns": null,
       "grid_auto_flow": null,
       "grid_auto_rows": null,
       "grid_column": null,
       "grid_gap": null,
       "grid_row": null,
       "grid_template_areas": null,
       "grid_template_columns": null,
       "grid_template_rows": null,
       "height": null,
       "justify_content": null,
       "justify_items": null,
       "left": null,
       "margin": null,
       "max_height": null,
       "max_width": null,
       "min_height": null,
       "min_width": null,
       "object_fit": null,
       "object_position": null,
       "order": null,
       "overflow": null,
       "overflow_x": null,
       "overflow_y": null,
       "padding": null,
       "right": null,
       "top": null,
       "visibility": null,
       "width": null
      }
     },
     "b2186248394e4c88bf6b55ffe62a4676": {
      "model_module": "@jupyter-widgets/controls",
      "model_module_version": "1.5.0",
      "model_name": "ProgressStyleModel",
      "state": {
       "_model_module": "@jupyter-widgets/controls",
       "_model_module_version": "1.5.0",
       "_model_name": "ProgressStyleModel",
       "_view_count": null,
       "_view_module": "@jupyter-widgets/base",
       "_view_module_version": "1.2.0",
       "_view_name": "StyleView",
       "bar_color": null,
       "description_width": ""
      }
     },
     "b431484c0cbf42d1a02cc458d913741d": {
      "model_module": "@jupyter-widgets/base",
      "model_module_version": "1.2.0",
      "model_name": "LayoutModel",
      "state": {
       "_model_module": "@jupyter-widgets/base",
       "_model_module_version": "1.2.0",
       "_model_name": "LayoutModel",
       "_view_count": null,
       "_view_module": "@jupyter-widgets/base",
       "_view_module_version": "1.2.0",
       "_view_name": "LayoutView",
       "align_content": null,
       "align_items": null,
       "align_self": null,
       "border": null,
       "bottom": null,
       "display": null,
       "flex": null,
       "flex_flow": null,
       "grid_area": null,
       "grid_auto_columns": null,
       "grid_auto_flow": null,
       "grid_auto_rows": null,
       "grid_column": null,
       "grid_gap": null,
       "grid_row": null,
       "grid_template_areas": null,
       "grid_template_columns": null,
       "grid_template_rows": null,
       "height": null,
       "justify_content": null,
       "justify_items": null,
       "left": null,
       "margin": null,
       "max_height": null,
       "max_width": null,
       "min_height": null,
       "min_width": null,
       "object_fit": null,
       "object_position": null,
       "order": null,
       "overflow": null,
       "overflow_x": null,
       "overflow_y": null,
       "padding": null,
       "right": null,
       "top": null,
       "visibility": null,
       "width": null
      }
     },
     "b7b68b3f8ca74097a82a139a0b38487d": {
      "model_module": "@jupyter-widgets/base",
      "model_module_version": "1.2.0",
      "model_name": "LayoutModel",
      "state": {
       "_model_module": "@jupyter-widgets/base",
       "_model_module_version": "1.2.0",
       "_model_name": "LayoutModel",
       "_view_count": null,
       "_view_module": "@jupyter-widgets/base",
       "_view_module_version": "1.2.0",
       "_view_name": "LayoutView",
       "align_content": null,
       "align_items": null,
       "align_self": null,
       "border": null,
       "bottom": null,
       "display": null,
       "flex": null,
       "flex_flow": null,
       "grid_area": null,
       "grid_auto_columns": null,
       "grid_auto_flow": null,
       "grid_auto_rows": null,
       "grid_column": null,
       "grid_gap": null,
       "grid_row": null,
       "grid_template_areas": null,
       "grid_template_columns": null,
       "grid_template_rows": null,
       "height": null,
       "justify_content": null,
       "justify_items": null,
       "left": null,
       "margin": null,
       "max_height": null,
       "max_width": null,
       "min_height": null,
       "min_width": null,
       "object_fit": null,
       "object_position": null,
       "order": null,
       "overflow": null,
       "overflow_x": null,
       "overflow_y": null,
       "padding": null,
       "right": null,
       "top": null,
       "visibility": null,
       "width": null
      }
     },
     "bb4bebac33064c9ab561b61d8d4df1b0": {
      "model_module": "@jupyter-widgets/base",
      "model_module_version": "1.2.0",
      "model_name": "LayoutModel",
      "state": {
       "_model_module": "@jupyter-widgets/base",
       "_model_module_version": "1.2.0",
       "_model_name": "LayoutModel",
       "_view_count": null,
       "_view_module": "@jupyter-widgets/base",
       "_view_module_version": "1.2.0",
       "_view_name": "LayoutView",
       "align_content": null,
       "align_items": null,
       "align_self": null,
       "border": null,
       "bottom": null,
       "display": null,
       "flex": null,
       "flex_flow": null,
       "grid_area": null,
       "grid_auto_columns": null,
       "grid_auto_flow": null,
       "grid_auto_rows": null,
       "grid_column": null,
       "grid_gap": null,
       "grid_row": null,
       "grid_template_areas": null,
       "grid_template_columns": null,
       "grid_template_rows": null,
       "height": null,
       "justify_content": null,
       "justify_items": null,
       "left": null,
       "margin": null,
       "max_height": null,
       "max_width": null,
       "min_height": null,
       "min_width": null,
       "object_fit": null,
       "object_position": null,
       "order": null,
       "overflow": null,
       "overflow_x": null,
       "overflow_y": null,
       "padding": null,
       "right": null,
       "top": null,
       "visibility": null,
       "width": null
      }
     },
     "bf93ca3d46674de5939e37cfe6f2f429": {
      "model_module": "@jupyter-widgets/base",
      "model_module_version": "1.2.0",
      "model_name": "LayoutModel",
      "state": {
       "_model_module": "@jupyter-widgets/base",
       "_model_module_version": "1.2.0",
       "_model_name": "LayoutModel",
       "_view_count": null,
       "_view_module": "@jupyter-widgets/base",
       "_view_module_version": "1.2.0",
       "_view_name": "LayoutView",
       "align_content": null,
       "align_items": null,
       "align_self": null,
       "border": null,
       "bottom": null,
       "display": null,
       "flex": null,
       "flex_flow": null,
       "grid_area": null,
       "grid_auto_columns": null,
       "grid_auto_flow": null,
       "grid_auto_rows": null,
       "grid_column": null,
       "grid_gap": null,
       "grid_row": null,
       "grid_template_areas": null,
       "grid_template_columns": null,
       "grid_template_rows": null,
       "height": null,
       "justify_content": null,
       "justify_items": null,
       "left": null,
       "margin": null,
       "max_height": null,
       "max_width": null,
       "min_height": null,
       "min_width": null,
       "object_fit": null,
       "object_position": null,
       "order": null,
       "overflow": null,
       "overflow_x": null,
       "overflow_y": null,
       "padding": null,
       "right": null,
       "top": null,
       "visibility": null,
       "width": null
      }
     },
     "c0c83b0397d4417aa29d2d653e425719": {
      "model_module": "@jupyter-widgets/controls",
      "model_module_version": "1.5.0",
      "model_name": "HTMLModel",
      "state": {
       "_dom_classes": [],
       "_model_module": "@jupyter-widgets/controls",
       "_model_module_version": "1.5.0",
       "_model_name": "HTMLModel",
       "_view_count": null,
       "_view_module": "@jupyter-widgets/controls",
       "_view_module_version": "1.5.0",
       "_view_name": "HTMLView",
       "description": "",
       "description_tooltip": null,
       "layout": "IPY_MODEL_b7b68b3f8ca74097a82a139a0b38487d",
       "placeholder": "​",
       "style": "IPY_MODEL_724c3c8e0bf94499a5089ca7178c35b2",
       "value": "Downloading data: 100%"
      }
     },
     "c631e23d41c546f8aa0f7f9dc1503ca8": {
      "model_module": "@jupyter-widgets/controls",
      "model_module_version": "1.5.0",
      "model_name": "HBoxModel",
      "state": {
       "_dom_classes": [],
       "_model_module": "@jupyter-widgets/controls",
       "_model_module_version": "1.5.0",
       "_model_name": "HBoxModel",
       "_view_count": null,
       "_view_module": "@jupyter-widgets/controls",
       "_view_module_version": "1.5.0",
       "_view_name": "HBoxView",
       "box_style": "",
       "children": [
        "IPY_MODEL_c0c83b0397d4417aa29d2d653e425719",
        "IPY_MODEL_e9fe9333bb0949f3bbf28a1f76f16d51",
        "IPY_MODEL_0f64cfb87f7940408331916b33a62823"
       ],
       "layout": "IPY_MODEL_695ed44141164b23b731f73f41341a7d"
      }
     },
     "c84d45a6e49640f084d04fd1d592c711": {
      "model_module": "@jupyter-widgets/controls",
      "model_module_version": "1.5.0",
      "model_name": "DescriptionStyleModel",
      "state": {
       "_model_module": "@jupyter-widgets/controls",
       "_model_module_version": "1.5.0",
       "_model_name": "DescriptionStyleModel",
       "_view_count": null,
       "_view_module": "@jupyter-widgets/base",
       "_view_module_version": "1.2.0",
       "_view_name": "StyleView",
       "description_width": ""
      }
     },
     "c8e79d757f6e4f44a0d7487f592d86ba": {
      "model_module": "@jupyter-widgets/controls",
      "model_module_version": "1.5.0",
      "model_name": "HTMLModel",
      "state": {
       "_dom_classes": [],
       "_model_module": "@jupyter-widgets/controls",
       "_model_module_version": "1.5.0",
       "_model_name": "HTMLModel",
       "_view_count": null,
       "_view_module": "@jupyter-widgets/controls",
       "_view_module_version": "1.5.0",
       "_view_name": "HTMLView",
       "description": "",
       "description_tooltip": null,
       "layout": "IPY_MODEL_265412f10ac24869baa7cc9b6b8da2d9",
       "placeholder": "​",
       "style": "IPY_MODEL_7a1eadc3ecb84b6b854275c8c283968d",
       "value": " 6.63k/6.63k [00:00&lt;00:00, 500kB/s]"
      }
     },
     "cd4f7f73b9b2490fb3a03b0819e2b754": {
      "model_module": "@jupyter-widgets/base",
      "model_module_version": "1.2.0",
      "model_name": "LayoutModel",
      "state": {
       "_model_module": "@jupyter-widgets/base",
       "_model_module_version": "1.2.0",
       "_model_name": "LayoutModel",
       "_view_count": null,
       "_view_module": "@jupyter-widgets/base",
       "_view_module_version": "1.2.0",
       "_view_name": "LayoutView",
       "align_content": null,
       "align_items": null,
       "align_self": null,
       "border": null,
       "bottom": null,
       "display": null,
       "flex": null,
       "flex_flow": null,
       "grid_area": null,
       "grid_auto_columns": null,
       "grid_auto_flow": null,
       "grid_auto_rows": null,
       "grid_column": null,
       "grid_gap": null,
       "grid_row": null,
       "grid_template_areas": null,
       "grid_template_columns": null,
       "grid_template_rows": null,
       "height": null,
       "justify_content": null,
       "justify_items": null,
       "left": null,
       "margin": null,
       "max_height": null,
       "max_width": null,
       "min_height": null,
       "min_width": null,
       "object_fit": null,
       "object_position": null,
       "order": null,
       "overflow": null,
       "overflow_x": null,
       "overflow_y": null,
       "padding": null,
       "right": null,
       "top": null,
       "visibility": null,
       "width": null
      }
     },
     "cf9ebf7ba6924150b603c879fc39ceb9": {
      "model_module": "@jupyter-widgets/controls",
      "model_module_version": "1.5.0",
      "model_name": "FloatProgressModel",
      "state": {
       "_dom_classes": [],
       "_model_module": "@jupyter-widgets/controls",
       "_model_module_version": "1.5.0",
       "_model_name": "FloatProgressModel",
       "_view_count": null,
       "_view_module": "@jupyter-widgets/controls",
       "_view_module_version": "1.5.0",
       "_view_name": "ProgressView",
       "bar_style": "info",
       "description": "",
       "description_tooltip": null,
       "layout": "IPY_MODEL_92e772a60aa544fcaff9207dd08d7058",
       "max": 1.0,
       "min": 0.0,
       "orientation": "horizontal",
       "style": "IPY_MODEL_84e15395ba49443e82b74eeb3ec86d6a",
       "value": 1.0
      }
     },
     "d56ef51261d14653a8319df556d609f2": {
      "model_module": "@jupyter-widgets/base",
      "model_module_version": "1.2.0",
      "model_name": "LayoutModel",
      "state": {
       "_model_module": "@jupyter-widgets/base",
       "_model_module_version": "1.2.0",
       "_model_name": "LayoutModel",
       "_view_count": null,
       "_view_module": "@jupyter-widgets/base",
       "_view_module_version": "1.2.0",
       "_view_name": "LayoutView",
       "align_content": null,
       "align_items": null,
       "align_self": null,
       "border": null,
       "bottom": null,
       "display": null,
       "flex": null,
       "flex_flow": null,
       "grid_area": null,
       "grid_auto_columns": null,
       "grid_auto_flow": null,
       "grid_auto_rows": null,
       "grid_column": null,
       "grid_gap": null,
       "grid_row": null,
       "grid_template_areas": null,
       "grid_template_columns": null,
       "grid_template_rows": null,
       "height": null,
       "justify_content": null,
       "justify_items": null,
       "left": null,
       "margin": null,
       "max_height": null,
       "max_width": null,
       "min_height": null,
       "min_width": null,
       "object_fit": null,
       "object_position": null,
       "order": null,
       "overflow": null,
       "overflow_x": null,
       "overflow_y": null,
       "padding": null,
       "right": null,
       "top": null,
       "visibility": null,
       "width": "20px"
      }
     },
     "d6ba069718a8458599ad34a8b6ff87ea": {
      "model_module": "@jupyter-widgets/base",
      "model_module_version": "1.2.0",
      "model_name": "LayoutModel",
      "state": {
       "_model_module": "@jupyter-widgets/base",
       "_model_module_version": "1.2.0",
       "_model_name": "LayoutModel",
       "_view_count": null,
       "_view_module": "@jupyter-widgets/base",
       "_view_module_version": "1.2.0",
       "_view_name": "LayoutView",
       "align_content": null,
       "align_items": null,
       "align_self": null,
       "border": null,
       "bottom": null,
       "display": null,
       "flex": null,
       "flex_flow": null,
       "grid_area": null,
       "grid_auto_columns": null,
       "grid_auto_flow": null,
       "grid_auto_rows": null,
       "grid_column": null,
       "grid_gap": null,
       "grid_row": null,
       "grid_template_areas": null,
       "grid_template_columns": null,
       "grid_template_rows": null,
       "height": null,
       "justify_content": null,
       "justify_items": null,
       "left": null,
       "margin": null,
       "max_height": null,
       "max_width": null,
       "min_height": null,
       "min_width": null,
       "object_fit": null,
       "object_position": null,
       "order": null,
       "overflow": null,
       "overflow_x": null,
       "overflow_y": null,
       "padding": null,
       "right": null,
       "top": null,
       "visibility": null,
       "width": null
      }
     },
     "d9e33c9e260c48a2b11455406f17cf22": {
      "model_module": "@jupyter-widgets/controls",
      "model_module_version": "1.5.0",
      "model_name": "HTMLModel",
      "state": {
       "_dom_classes": [],
       "_model_module": "@jupyter-widgets/controls",
       "_model_module_version": "1.5.0",
       "_model_name": "HTMLModel",
       "_view_count": null,
       "_view_module": "@jupyter-widgets/controls",
       "_view_module_version": "1.5.0",
       "_view_name": "HTMLView",
       "description": "",
       "description_tooltip": null,
       "layout": "IPY_MODEL_4af9a0d6c7ef4dd981a3c40a2351e87c",
       "placeholder": "​",
       "style": "IPY_MODEL_0c89cc7f65d44be4a625f19e52cc790e",
       "value": " 1114/0 [00:00&lt;00:00, 5859.26 examples/s]"
      }
     },
     "dedcdef64e264ccb8658a6234091456a": {
      "model_module": "@jupyter-widgets/base",
      "model_module_version": "1.2.0",
      "model_name": "LayoutModel",
      "state": {
       "_model_module": "@jupyter-widgets/base",
       "_model_module_version": "1.2.0",
       "_model_name": "LayoutModel",
       "_view_count": null,
       "_view_module": "@jupyter-widgets/base",
       "_view_module_version": "1.2.0",
       "_view_name": "LayoutView",
       "align_content": null,
       "align_items": null,
       "align_self": null,
       "border": null,
       "bottom": null,
       "display": null,
       "flex": null,
       "flex_flow": null,
       "grid_area": null,
       "grid_auto_columns": null,
       "grid_auto_flow": null,
       "grid_auto_rows": null,
       "grid_column": null,
       "grid_gap": null,
       "grid_row": null,
       "grid_template_areas": null,
       "grid_template_columns": null,
       "grid_template_rows": null,
       "height": null,
       "justify_content": null,
       "justify_items": null,
       "left": null,
       "margin": null,
       "max_height": null,
       "max_width": null,
       "min_height": null,
       "min_width": null,
       "object_fit": null,
       "object_position": null,
       "order": null,
       "overflow": null,
       "overflow_x": null,
       "overflow_y": null,
       "padding": null,
       "right": null,
       "top": null,
       "visibility": "hidden",
       "width": null
      }
     },
     "e23887a0595d4564bdb9dc23b3b5d4eb": {
      "model_module": "@jupyter-widgets/controls",
      "model_module_version": "1.5.0",
      "model_name": "ProgressStyleModel",
      "state": {
       "_model_module": "@jupyter-widgets/controls",
       "_model_module_version": "1.5.0",
       "_model_name": "ProgressStyleModel",
       "_view_count": null,
       "_view_module": "@jupyter-widgets/base",
       "_view_module_version": "1.2.0",
       "_view_name": "StyleView",
       "bar_color": null,
       "description_width": ""
      }
     },
     "e247452d194944c7b9975d8a52b1a3de": {
      "model_module": "@jupyter-widgets/base",
      "model_module_version": "1.2.0",
      "model_name": "LayoutModel",
      "state": {
       "_model_module": "@jupyter-widgets/base",
       "_model_module_version": "1.2.0",
       "_model_name": "LayoutModel",
       "_view_count": null,
       "_view_module": "@jupyter-widgets/base",
       "_view_module_version": "1.2.0",
       "_view_name": "LayoutView",
       "align_content": null,
       "align_items": null,
       "align_self": null,
       "border": null,
       "bottom": null,
       "display": null,
       "flex": null,
       "flex_flow": null,
       "grid_area": null,
       "grid_auto_columns": null,
       "grid_auto_flow": null,
       "grid_auto_rows": null,
       "grid_column": null,
       "grid_gap": null,
       "grid_row": null,
       "grid_template_areas": null,
       "grid_template_columns": null,
       "grid_template_rows": null,
       "height": null,
       "justify_content": null,
       "justify_items": null,
       "left": null,
       "margin": null,
       "max_height": null,
       "max_width": null,
       "min_height": null,
       "min_width": null,
       "object_fit": null,
       "object_position": null,
       "order": null,
       "overflow": null,
       "overflow_x": null,
       "overflow_y": null,
       "padding": null,
       "right": null,
       "top": null,
       "visibility": null,
       "width": null
      }
     },
     "e3975dd66f8f459e92f9181e1f7ae808": {
      "model_module": "@jupyter-widgets/controls",
      "model_module_version": "1.5.0",
      "model_name": "DescriptionStyleModel",
      "state": {
       "_model_module": "@jupyter-widgets/controls",
       "_model_module_version": "1.5.0",
       "_model_name": "DescriptionStyleModel",
       "_view_count": null,
       "_view_module": "@jupyter-widgets/base",
       "_view_module_version": "1.2.0",
       "_view_name": "StyleView",
       "description_width": ""
      }
     },
     "e745dcd15a0d4937969788c10fca3a76": {
      "model_module": "@jupyter-widgets/base",
      "model_module_version": "1.2.0",
      "model_name": "LayoutModel",
      "state": {
       "_model_module": "@jupyter-widgets/base",
       "_model_module_version": "1.2.0",
       "_model_name": "LayoutModel",
       "_view_count": null,
       "_view_module": "@jupyter-widgets/base",
       "_view_module_version": "1.2.0",
       "_view_name": "LayoutView",
       "align_content": null,
       "align_items": null,
       "align_self": null,
       "border": null,
       "bottom": null,
       "display": null,
       "flex": null,
       "flex_flow": null,
       "grid_area": null,
       "grid_auto_columns": null,
       "grid_auto_flow": null,
       "grid_auto_rows": null,
       "grid_column": null,
       "grid_gap": null,
       "grid_row": null,
       "grid_template_areas": null,
       "grid_template_columns": null,
       "grid_template_rows": null,
       "height": null,
       "justify_content": null,
       "justify_items": null,
       "left": null,
       "margin": null,
       "max_height": null,
       "max_width": null,
       "min_height": null,
       "min_width": null,
       "object_fit": null,
       "object_position": null,
       "order": null,
       "overflow": null,
       "overflow_x": null,
       "overflow_y": null,
       "padding": null,
       "right": null,
       "top": null,
       "visibility": null,
       "width": null
      }
     },
     "e9fe9333bb0949f3bbf28a1f76f16d51": {
      "model_module": "@jupyter-widgets/controls",
      "model_module_version": "1.5.0",
      "model_name": "FloatProgressModel",
      "state": {
       "_dom_classes": [],
       "_model_module": "@jupyter-widgets/controls",
       "_model_module_version": "1.5.0",
       "_model_name": "FloatProgressModel",
       "_view_count": null,
       "_view_module": "@jupyter-widgets/controls",
       "_view_module_version": "1.5.0",
       "_view_name": "ProgressView",
       "bar_style": "success",
       "description": "",
       "description_tooltip": null,
       "layout": "IPY_MODEL_870910a8c94249cda889347a447718a5",
       "max": 3493591.0,
       "min": 0.0,
       "orientation": "horizontal",
       "style": "IPY_MODEL_412348da98944a74bdbf91481ab93bae",
       "value": 3493591.0
      }
     },
     "ea1bdd94b5874f298f8be6881df2d9b0": {
      "model_module": "@jupyter-widgets/controls",
      "model_module_version": "1.5.0",
      "model_name": "HTMLModel",
      "state": {
       "_dom_classes": [],
       "_model_module": "@jupyter-widgets/controls",
       "_model_module_version": "1.5.0",
       "_model_name": "HTMLModel",
       "_view_count": null,
       "_view_module": "@jupyter-widgets/controls",
       "_view_module_version": "1.5.0",
       "_view_name": "HTMLView",
       "description": "",
       "description_tooltip": null,
       "layout": "IPY_MODEL_756b9119c3744c10b93dcaf1e491cd84",
       "placeholder": "​",
       "style": "IPY_MODEL_6a58461fd19b4200b793f88f5b0e20c2",
       "value": "Loading checkpoint shards: 100%"
      }
     },
     "ee9dde6c3404477ab618186bae003de0": {
      "model_module": "@jupyter-widgets/controls",
      "model_module_version": "1.5.0",
      "model_name": "FloatProgressModel",
      "state": {
       "_dom_classes": [],
       "_model_module": "@jupyter-widgets/controls",
       "_model_module_version": "1.5.0",
       "_model_name": "FloatProgressModel",
       "_view_count": null,
       "_view_module": "@jupyter-widgets/controls",
       "_view_module_version": "1.5.0",
       "_view_name": "ProgressView",
       "bar_style": "success",
       "description": "",
       "description_tooltip": null,
       "layout": "IPY_MODEL_2618110bc0d04e27908d3dc8efd2a08e",
       "max": 3.0,
       "min": 0.0,
       "orientation": "horizontal",
       "style": "IPY_MODEL_64f1886656c442beade11bdf2efc3b8e",
       "value": 3.0
      }
     },
     "f22dda5d23054714a756cf7a2cf2993d": {
      "model_module": "@jupyter-widgets/controls",
      "model_module_version": "1.5.0",
      "model_name": "DescriptionStyleModel",
      "state": {
       "_model_module": "@jupyter-widgets/controls",
       "_model_module_version": "1.5.0",
       "_model_name": "DescriptionStyleModel",
       "_view_count": null,
       "_view_module": "@jupyter-widgets/base",
       "_view_module_version": "1.2.0",
       "_view_name": "StyleView",
       "description_width": ""
      }
     },
     "f344c7a6ae7f4c6bb43814de1b4bfbf5": {
      "model_module": "@jupyter-widgets/controls",
      "model_module_version": "1.5.0",
      "model_name": "HBoxModel",
      "state": {
       "_dom_classes": [],
       "_model_module": "@jupyter-widgets/controls",
       "_model_module_version": "1.5.0",
       "_model_name": "HBoxModel",
       "_view_count": null,
       "_view_module": "@jupyter-widgets/controls",
       "_view_module_version": "1.5.0",
       "_view_name": "HBoxView",
       "box_style": "",
       "children": [
        "IPY_MODEL_ac7acfc700614c329ea513f8e5a690a7",
        "IPY_MODEL_ee9dde6c3404477ab618186bae003de0",
        "IPY_MODEL_3019dd14f5d24869a40c0b7aa35659b5"
       ],
       "layout": "IPY_MODEL_afea6d92bedc4c6daca4bfcdba76c215"
      }
     },
     "f799f4c9e6de4cc181f0f70d9e52a65c": {
      "model_module": "@jupyter-widgets/base",
      "model_module_version": "1.2.0",
      "model_name": "LayoutModel",
      "state": {
       "_model_module": "@jupyter-widgets/base",
       "_model_module_version": "1.2.0",
       "_model_name": "LayoutModel",
       "_view_count": null,
       "_view_module": "@jupyter-widgets/base",
       "_view_module_version": "1.2.0",
       "_view_name": "LayoutView",
       "align_content": null,
       "align_items": null,
       "align_self": null,
       "border": null,
       "bottom": null,
       "display": null,
       "flex": null,
       "flex_flow": null,
       "grid_area": null,
       "grid_auto_columns": null,
       "grid_auto_flow": null,
       "grid_auto_rows": null,
       "grid_column": null,
       "grid_gap": null,
       "grid_row": null,
       "grid_template_areas": null,
       "grid_template_columns": null,
       "grid_template_rows": null,
       "height": null,
       "justify_content": null,
       "justify_items": null,
       "left": null,
       "margin": null,
       "max_height": null,
       "max_width": null,
       "min_height": null,
       "min_width": null,
       "object_fit": null,
       "object_position": null,
       "order": null,
       "overflow": null,
       "overflow_x": null,
       "overflow_y": null,
       "padding": null,
       "right": null,
       "top": null,
       "visibility": null,
       "width": null
      }
     },
     "f967c89f818a4bd48a52a715e0ead5e2": {
      "model_module": "@jupyter-widgets/base",
      "model_module_version": "1.2.0",
      "model_name": "LayoutModel",
      "state": {
       "_model_module": "@jupyter-widgets/base",
       "_model_module_version": "1.2.0",
       "_model_name": "LayoutModel",
       "_view_count": null,
       "_view_module": "@jupyter-widgets/base",
       "_view_module_version": "1.2.0",
       "_view_name": "LayoutView",
       "align_content": null,
       "align_items": null,
       "align_self": null,
       "border": null,
       "bottom": null,
       "display": null,
       "flex": null,
       "flex_flow": null,
       "grid_area": null,
       "grid_auto_columns": null,
       "grid_auto_flow": null,
       "grid_auto_rows": null,
       "grid_column": null,
       "grid_gap": null,
       "grid_row": null,
       "grid_template_areas": null,
       "grid_template_columns": null,
       "grid_template_rows": null,
       "height": null,
       "justify_content": null,
       "justify_items": null,
       "left": null,
       "margin": null,
       "max_height": null,
       "max_width": null,
       "min_height": null,
       "min_width": null,
       "object_fit": null,
       "object_position": null,
       "order": null,
       "overflow": null,
       "overflow_x": null,
       "overflow_y": null,
       "padding": null,
       "right": null,
       "top": null,
       "visibility": null,
       "width": null
      }
     },
     "ff474cee730846118b9732d12708b7ee": {
      "model_module": "@jupyter-widgets/controls",
      "model_module_version": "1.5.0",
      "model_name": "HTMLModel",
      "state": {
       "_dom_classes": [],
       "_model_module": "@jupyter-widgets/controls",
       "_model_module_version": "1.5.0",
       "_model_name": "HTMLModel",
       "_view_count": null,
       "_view_module": "@jupyter-widgets/controls",
       "_view_module_version": "1.5.0",
       "_view_name": "HTMLView",
       "description": "",
       "description_tooltip": null,
       "layout": "IPY_MODEL_2a1a091dab554d7ca16b74128f7b3284",
       "placeholder": "​",
       "style": "IPY_MODEL_f22dda5d23054714a756cf7a2cf2993d",
       "value": " 11562/0 [00:02&lt;00:00, 4756.91 examples/s]"
      }
     }
    },
    "version_major": 2,
    "version_minor": 0
   }
  }
 },
 "nbformat": 4,
 "nbformat_minor": 5
}
